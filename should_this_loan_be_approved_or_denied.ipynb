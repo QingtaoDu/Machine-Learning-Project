{
  "nbformat": 4,
  "nbformat_minor": 0,
  "metadata": {
    "colab": {
      "name": "should-this-loan-be-approved-or-denied.ipynb",
      "provenance": [],
      "collapsed_sections": [],
      "authorship_tag": "ABX9TyMkmpo0XgissrXPvpmy6g8D",
      "include_colab_link": true
    },
    "kernelspec": {
      "name": "python3",
      "display_name": "Python 3"
    }
  },
  "cells": [
    {
      "cell_type": "markdown",
      "metadata": {
        "id": "view-in-github",
        "colab_type": "text"
      },
      "source": [
        "<a href=\"https://colab.research.google.com/github/QingtaoDu/Machine-Learning-Project/blob/master/should_this_loan_be_approved_or_denied.ipynb\" target=\"_parent\"><img src=\"https://colab.research.google.com/assets/colab-badge.svg\" alt=\"Open In Colab\"/></a>"
      ]
    },
    {
      "cell_type": "markdown",
      "metadata": {
        "id": "7ROnegBtaoMi",
        "colab_type": "text"
      },
      "source": [
        "Introduction\n",
        "\n",
        "Greetings from the Kaggle bot! This is an automatically-generated kernel with starter code demonstrating how to read in the data and begin exploring. If you're inspired to dig deeper, click the blue \"Fork Notebook\" button at the top of this kernel to begin editing.\n"
      ]
    },
    {
      "cell_type": "markdown",
      "metadata": {
        "id": "7wi3LXuotGJm",
        "colab_type": "text"
      },
      "source": [
        "Summary\n",
        "\n",
        "I am a Junior Data Analyst and this is my very first kaggle notebook. The main goal of this analysis is to get an understanding of the dataset. I would be very grateful for comments on EDA and data preprocessing parts. For prediction I tried xgboost without any tunning. The last part will be updated."
      ]
    },
    {
      "cell_type": "markdown",
      "metadata": {
        "id": "St3oJBhjtKux",
        "colab_type": "text"
      },
      "source": [
        "Data\n",
        "\n",
        "The original dataset from the U.S. Small Business Administration (SBA)"
      ]
    },
    {
      "cell_type": "markdown",
      "metadata": {
        "id": "S-4R76JTao-M",
        "colab_type": "text"
      },
      "source": [
        "Exploratory Analysis\n",
        "\n",
        "To begin this exploratory analysis, first import libraries and define functions for plotting the data using matplotlib. Depending on the data, not all plots will be made. (Hey, I'm just a simple kerneling bot, not a Kaggle Competitions Grandmaster!)\n"
      ]
    },
    {
      "cell_type": "code",
      "metadata": {
        "id": "OmZ6KkpOaqnk",
        "colab_type": "code",
        "colab": {}
      },
      "source": [
        "from mpl_toolkits.mplot3d import Axes3D\n",
        "from sklearn.preprocessing import StandardScaler\n",
        "import matplotlib.pyplot as plt # plotting\n",
        "import numpy as np # linear algebra\n",
        "import os # accessing directory structure\n",
        "import pandas as pd # data processing, CSV file I/O (e.g. pd.read_csv)"
      ],
      "execution_count": 0,
      "outputs": []
    },
    {
      "cell_type": "markdown",
      "metadata": {
        "id": "fDxyNLhJbSzr",
        "colab_type": "text"
      },
      "source": [
        "There is 1 csv file in the current version of the dataset:\n"
      ]
    },
    {
      "cell_type": "code",
      "metadata": {
        "id": "B7zFBSrNjOjy",
        "colab_type": "code",
        "colab": {
          "base_uri": "https://localhost:8080/",
          "height": 34
        },
        "outputId": "d3001709-52af-4da0-f8c0-7763d164ea77"
      },
      "source": [
        "#!pip install kaggle\n",
        "!mkdir .kaggle"
      ],
      "execution_count": 2,
      "outputs": [
        {
          "output_type": "stream",
          "text": [
            "mkdir: cannot create directory ‘.kaggle’: File exists\n"
          ],
          "name": "stdout"
        }
      ]
    },
    {
      "cell_type": "code",
      "metadata": {
        "id": "mjHL7DSXjOyH",
        "colab_type": "code",
        "colab": {}
      },
      "source": [
        "import json\n",
        "token = {\"username\":\"tonydudu\",\"key\":\"d66ceaa5708cdfc798f26e9af8bd8dc3\"}\n",
        "with open('/content/.kaggle/kaggle.json', 'w') as file:\n",
        "  json.dump(token, file)"
      ],
      "execution_count": 0,
      "outputs": []
    },
    {
      "cell_type": "code",
      "metadata": {
        "id": "l3yrde4_jOwe",
        "colab_type": "code",
        "colab": {}
      },
      "source": [
        "!chmod 600 /content/.kaggle/kaggle.json"
      ],
      "execution_count": 0,
      "outputs": []
    },
    {
      "cell_type": "code",
      "metadata": {
        "id": "1P3-q5BbjZZS",
        "colab_type": "code",
        "colab": {}
      },
      "source": [
        "!cp /content/.kaggle/kaggle.json ~/.kaggle/kaggle.json"
      ],
      "execution_count": 0,
      "outputs": []
    },
    {
      "cell_type": "code",
      "metadata": {
        "id": "HPQIv-vljZb2",
        "colab_type": "code",
        "colab": {
          "base_uri": "https://localhost:8080/",
          "height": 34
        },
        "outputId": "a37dea5b-6e0a-4399-9ee5-d2e9339cf0fd"
      },
      "source": [
        "!kaggle config set -n path -v /content"
      ],
      "execution_count": 6,
      "outputs": [
        {
          "output_type": "stream",
          "text": [
            "- path is now set to: /content\n"
          ],
          "name": "stdout"
        }
      ]
    },
    {
      "cell_type": "code",
      "metadata": {
        "id": "RsFM5GxQjZmD",
        "colab_type": "code",
        "colab": {
          "base_uri": "https://localhost:8080/",
          "height": 423
        },
        "outputId": "9ba7dcaa-af30-46d0-8676-430929e7962b"
      },
      "source": [
        "!kaggle datasets list"
      ],
      "execution_count": 7,
      "outputs": [
        {
          "output_type": "stream",
          "text": [
            "Warning: Looks like you're using an outdated API Version, please consider updating (server 1.5.6 / client 1.5.4)\n",
            "ref                                                            title                                                size  lastUpdated          downloadCount  \n",
            "-------------------------------------------------------------  --------------------------------------------------  -----  -------------------  -------------  \n",
            "allen-institute-for-ai/CORD-19-research-challenge              COVID-19 Open Research Dataset Challenge (CORD-19)    1GB  2020-04-17 22:02:37          53112  \n",
            "roche-data-science-coalition/uncover                           UNCOVER COVID-19 Challenge                          123MB  2020-04-08 22:04:30           4037  \n",
            "praveengovi/coronahack-chest-xraydataset                       CoronaHack -Chest X-Ray-Dataset                       1GB  2020-03-20 01:26:40            635  \n",
            "katerpillar/meteonet                                           MeteoNet North-West France                           11GB  2020-04-16 08:35:45             45  \n",
            "andrewmvd/covid19-ct-scans                                     COVID-19 CT scans                                   662MB  2020-03-19 11:07:02            422  \n",
            "shuyangli94/interview-npr-media-dialog-transcripts             INTERVIEW: NPR Media Dialog Transcripts             293MB  2020-04-07 01:59:42             40  \n",
            "divyansh22/flight-delay-prediction                             January Flight Delay Prediction                      23MB  2020-04-14 13:15:41            177  \n",
            "imdevskp/india-district-wise-shape-files                       India 2020 District Level Shape files                22MB  2020-04-10 09:03:16             87  \n",
            "bobbyscience/league-of-legends-diamond-ranked-games-10-min     League of Legends Diamond Ranked Games (10 min)     539KB  2020-04-13 13:53:02            198  \n",
            "tunguz/covid19-genomes                                         COVID-19 Genomes                                    162KB  2020-04-17 16:13:14             55  \n",
            "ikiulian/global-hospital-beds-capacity-for-covid19             Global Hospital Beds Capacity (for covid-19)        277KB  2020-04-15 15:15:32            200  \n",
            "lalish99/covid19-mx                                            COVID-19 MX                                         761KB  2020-04-18 04:29:25             52  \n",
            "benroshan/factors-affecting-campus-placement                   Campus Placement                                      5KB  2020-04-11 11:09:02            394  \n",
            "kimjihoo/coronavirusdataset                                    Data Science for COVID-19 (DS4C)                      3MB  2020-04-14 05:18:00          29651  \n",
            "sudalairajkumar/novel-corona-virus-2019-dataset                Novel Corona Virus 2019 Dataset                     772KB  2020-04-19 01:54:15         150234  \n",
            "fireballbyedimyrnmom/us-counties-covid-19-dataset              US counties COVID 19 dataset                        550KB  2020-04-18 12:48:53           4403  \n",
            "clmentbisaillon/fake-and-real-news-dataset                     Fake and real news dataset                           41MB  2020-03-26 18:51:15           1530  \n",
            "unanimad/dataisbeautiful                                       Reddit - Data is Beautiful                           11MB  2020-04-14 14:11:20           1868  \n",
            "jessemostipak/hotel-booking-demand                             Hotel booking demand                                  1MB  2020-02-13 01:27:20          15271  \n",
            "paultimothymooney/covid19-containment-and-mitigation-measures  COVID-19 containment and mitigation measures        141KB  2020-04-18 22:27:12           1820  \n"
          ],
          "name": "stdout"
        }
      ]
    },
    {
      "cell_type": "code",
      "metadata": {
        "id": "CbuJ-1XOjZjG",
        "colab_type": "code",
        "colab": {
          "base_uri": "https://localhost:8080/",
          "height": 121
        },
        "outputId": "97003944-c66d-4fc5-a8bb-0bc7af74f83b"
      },
      "source": [
        "!kaggle datasets list -s mirbektoktogaraev"
      ],
      "execution_count": 8,
      "outputs": [
        {
          "output_type": "stream",
          "text": [
            "Warning: Looks like you're using an outdated API Version, please consider updating (server 1.5.6 / client 1.5.4)\n",
            "ref                                                       title                                    size  lastUpdated          downloadCount  \n",
            "--------------------------------------------------------  ---------------------------------------  ----  -------------------  -------------  \n",
            "mirbektoktogaraev/should-this-loan-be-approved-or-denied  Should This Loan be Approved or Denied?  46MB  2020-03-17 23:36:35            194  \n",
            "mirbektoktogaraev/madrid-real-estate-market               Madrid real estate market                 1MB  2020-04-18 09:18:18              1  \n"
          ],
          "name": "stdout"
        }
      ]
    },
    {
      "cell_type": "code",
      "metadata": {
        "id": "E6-wmpM3jZgJ",
        "colab_type": "code",
        "colab": {
          "base_uri": "https://localhost:8080/",
          "height": 34
        },
        "outputId": "54ceee49-132e-4be2-d2a2-dba85848ee43"
      },
      "source": [
        "!kaggle datasets download -d mirbektoktogaraev/should-this-loan-be-approved-or-denied -p /content"
      ],
      "execution_count": 9,
      "outputs": [
        {
          "output_type": "stream",
          "text": [
            "should-this-loan-be-approved-or-denied.zip: Skipping, found more recently modified local copy (use --force to force download)\n"
          ],
          "name": "stdout"
        }
      ]
    },
    {
      "cell_type": "code",
      "metadata": {
        "id": "uqrW_WDsjZeq",
        "colab_type": "code",
        "colab": {}
      },
      "source": [
        "#!unzip \\*.zip"
      ],
      "execution_count": 0,
      "outputs": []
    },
    {
      "cell_type": "code",
      "metadata": {
        "id": "4-RyM9d0is-S",
        "colab_type": "code",
        "colab": {
          "base_uri": "https://localhost:8080/",
          "height": 484
        },
        "outputId": "c06bfa5a-711a-44c5-edda-8d5c84f760e4"
      },
      "source": [
        "import pandas as pd\n",
        "df = pd.read_csv('SBAnational.csv')\n",
        "df.head()"
      ],
      "execution_count": 11,
      "outputs": [
        {
          "output_type": "stream",
          "text": [
            "/usr/local/lib/python3.6/dist-packages/IPython/core/interactiveshell.py:2718: DtypeWarning: Columns (9) have mixed types.Specify dtype option on import or set low_memory=False.\n",
            "  interactivity=interactivity, compiler=compiler, result=result)\n"
          ],
          "name": "stderr"
        },
        {
          "output_type": "execute_result",
          "data": {
            "text/html": [
              "<div>\n",
              "<style scoped>\n",
              "    .dataframe tbody tr th:only-of-type {\n",
              "        vertical-align: middle;\n",
              "    }\n",
              "\n",
              "    .dataframe tbody tr th {\n",
              "        vertical-align: top;\n",
              "    }\n",
              "\n",
              "    .dataframe thead th {\n",
              "        text-align: right;\n",
              "    }\n",
              "</style>\n",
              "<table border=\"1\" class=\"dataframe\">\n",
              "  <thead>\n",
              "    <tr style=\"text-align: right;\">\n",
              "      <th></th>\n",
              "      <th>LoanNr_ChkDgt</th>\n",
              "      <th>Name</th>\n",
              "      <th>City</th>\n",
              "      <th>State</th>\n",
              "      <th>Zip</th>\n",
              "      <th>Bank</th>\n",
              "      <th>BankState</th>\n",
              "      <th>NAICS</th>\n",
              "      <th>ApprovalDate</th>\n",
              "      <th>ApprovalFY</th>\n",
              "      <th>Term</th>\n",
              "      <th>NoEmp</th>\n",
              "      <th>NewExist</th>\n",
              "      <th>CreateJob</th>\n",
              "      <th>RetainedJob</th>\n",
              "      <th>FranchiseCode</th>\n",
              "      <th>UrbanRural</th>\n",
              "      <th>RevLineCr</th>\n",
              "      <th>LowDoc</th>\n",
              "      <th>ChgOffDate</th>\n",
              "      <th>DisbursementDate</th>\n",
              "      <th>DisbursementGross</th>\n",
              "      <th>BalanceGross</th>\n",
              "      <th>MIS_Status</th>\n",
              "      <th>ChgOffPrinGr</th>\n",
              "      <th>GrAppv</th>\n",
              "      <th>SBA_Appv</th>\n",
              "    </tr>\n",
              "  </thead>\n",
              "  <tbody>\n",
              "    <tr>\n",
              "      <th>0</th>\n",
              "      <td>1000014003</td>\n",
              "      <td>ABC HOBBYCRAFT</td>\n",
              "      <td>EVANSVILLE</td>\n",
              "      <td>IN</td>\n",
              "      <td>47711</td>\n",
              "      <td>FIFTH THIRD BANK</td>\n",
              "      <td>OH</td>\n",
              "      <td>451120</td>\n",
              "      <td>28-Feb-97</td>\n",
              "      <td>1997</td>\n",
              "      <td>84</td>\n",
              "      <td>4</td>\n",
              "      <td>2.0</td>\n",
              "      <td>0</td>\n",
              "      <td>0</td>\n",
              "      <td>1</td>\n",
              "      <td>0</td>\n",
              "      <td>N</td>\n",
              "      <td>Y</td>\n",
              "      <td>NaN</td>\n",
              "      <td>28-Feb-99</td>\n",
              "      <td>$60,000.00</td>\n",
              "      <td>$0.00</td>\n",
              "      <td>P I F</td>\n",
              "      <td>$0.00</td>\n",
              "      <td>$60,000.00</td>\n",
              "      <td>$48,000.00</td>\n",
              "    </tr>\n",
              "    <tr>\n",
              "      <th>1</th>\n",
              "      <td>1000024006</td>\n",
              "      <td>LANDMARK BAR &amp; GRILLE (THE)</td>\n",
              "      <td>NEW PARIS</td>\n",
              "      <td>IN</td>\n",
              "      <td>46526</td>\n",
              "      <td>1ST SOURCE BANK</td>\n",
              "      <td>IN</td>\n",
              "      <td>722410</td>\n",
              "      <td>28-Feb-97</td>\n",
              "      <td>1997</td>\n",
              "      <td>60</td>\n",
              "      <td>2</td>\n",
              "      <td>2.0</td>\n",
              "      <td>0</td>\n",
              "      <td>0</td>\n",
              "      <td>1</td>\n",
              "      <td>0</td>\n",
              "      <td>N</td>\n",
              "      <td>Y</td>\n",
              "      <td>NaN</td>\n",
              "      <td>31-May-97</td>\n",
              "      <td>$40,000.00</td>\n",
              "      <td>$0.00</td>\n",
              "      <td>P I F</td>\n",
              "      <td>$0.00</td>\n",
              "      <td>$40,000.00</td>\n",
              "      <td>$32,000.00</td>\n",
              "    </tr>\n",
              "    <tr>\n",
              "      <th>2</th>\n",
              "      <td>1000034009</td>\n",
              "      <td>WHITLOCK DDS, TODD M.</td>\n",
              "      <td>BLOOMINGTON</td>\n",
              "      <td>IN</td>\n",
              "      <td>47401</td>\n",
              "      <td>GRANT COUNTY STATE BANK</td>\n",
              "      <td>IN</td>\n",
              "      <td>621210</td>\n",
              "      <td>28-Feb-97</td>\n",
              "      <td>1997</td>\n",
              "      <td>180</td>\n",
              "      <td>7</td>\n",
              "      <td>1.0</td>\n",
              "      <td>0</td>\n",
              "      <td>0</td>\n",
              "      <td>1</td>\n",
              "      <td>0</td>\n",
              "      <td>N</td>\n",
              "      <td>N</td>\n",
              "      <td>NaN</td>\n",
              "      <td>31-Dec-97</td>\n",
              "      <td>$287,000.00</td>\n",
              "      <td>$0.00</td>\n",
              "      <td>P I F</td>\n",
              "      <td>$0.00</td>\n",
              "      <td>$287,000.00</td>\n",
              "      <td>$215,250.00</td>\n",
              "    </tr>\n",
              "    <tr>\n",
              "      <th>3</th>\n",
              "      <td>1000044001</td>\n",
              "      <td>BIG BUCKS PAWN &amp; JEWELRY, LLC</td>\n",
              "      <td>BROKEN ARROW</td>\n",
              "      <td>OK</td>\n",
              "      <td>74012</td>\n",
              "      <td>1ST NATL BK &amp; TR CO OF BROKEN</td>\n",
              "      <td>OK</td>\n",
              "      <td>0</td>\n",
              "      <td>28-Feb-97</td>\n",
              "      <td>1997</td>\n",
              "      <td>60</td>\n",
              "      <td>2</td>\n",
              "      <td>1.0</td>\n",
              "      <td>0</td>\n",
              "      <td>0</td>\n",
              "      <td>1</td>\n",
              "      <td>0</td>\n",
              "      <td>N</td>\n",
              "      <td>Y</td>\n",
              "      <td>NaN</td>\n",
              "      <td>30-Jun-97</td>\n",
              "      <td>$35,000.00</td>\n",
              "      <td>$0.00</td>\n",
              "      <td>P I F</td>\n",
              "      <td>$0.00</td>\n",
              "      <td>$35,000.00</td>\n",
              "      <td>$28,000.00</td>\n",
              "    </tr>\n",
              "    <tr>\n",
              "      <th>4</th>\n",
              "      <td>1000054004</td>\n",
              "      <td>ANASTASIA CONFECTIONS, INC.</td>\n",
              "      <td>ORLANDO</td>\n",
              "      <td>FL</td>\n",
              "      <td>32801</td>\n",
              "      <td>FLORIDA BUS. DEVEL CORP</td>\n",
              "      <td>FL</td>\n",
              "      <td>0</td>\n",
              "      <td>28-Feb-97</td>\n",
              "      <td>1997</td>\n",
              "      <td>240</td>\n",
              "      <td>14</td>\n",
              "      <td>1.0</td>\n",
              "      <td>7</td>\n",
              "      <td>7</td>\n",
              "      <td>1</td>\n",
              "      <td>0</td>\n",
              "      <td>N</td>\n",
              "      <td>N</td>\n",
              "      <td>NaN</td>\n",
              "      <td>14-May-97</td>\n",
              "      <td>$229,000.00</td>\n",
              "      <td>$0.00</td>\n",
              "      <td>P I F</td>\n",
              "      <td>$0.00</td>\n",
              "      <td>$229,000.00</td>\n",
              "      <td>$229,000.00</td>\n",
              "    </tr>\n",
              "  </tbody>\n",
              "</table>\n",
              "</div>"
            ],
            "text/plain": [
              "   LoanNr_ChkDgt                           Name  ...        GrAppv      SBA_Appv\n",
              "0     1000014003                 ABC HOBBYCRAFT  ...   $60,000.00    $48,000.00 \n",
              "1     1000024006    LANDMARK BAR & GRILLE (THE)  ...   $40,000.00    $32,000.00 \n",
              "2     1000034009          WHITLOCK DDS, TODD M.  ...  $287,000.00   $215,250.00 \n",
              "3     1000044001  BIG BUCKS PAWN & JEWELRY, LLC  ...   $35,000.00    $28,000.00 \n",
              "4     1000054004    ANASTASIA CONFECTIONS, INC.  ...  $229,000.00   $229,000.00 \n",
              "\n",
              "[5 rows x 27 columns]"
            ]
          },
          "metadata": {
            "tags": []
          },
          "execution_count": 11
        }
      ]
    },
    {
      "cell_type": "markdown",
      "metadata": {
        "id": "pOXyrxiApzHX",
        "colab_type": "text"
      },
      "source": [
        "The next hidden code cells define functions for plotting data. Click on the \"Code\" button in the published kernel to reveal the hidden code."
      ]
    },
    {
      "cell_type": "code",
      "metadata": {
        "id": "KANhaLdha5VC",
        "colab_type": "code",
        "colab": {}
      },
      "source": [
        "# Distribution graphs (histogram/bar graph) of column data\n",
        "def plotPerColumnDistribution(df, nGraphShown, nGraphPerRow):\n",
        "    nunique = df.nunique()\n",
        "    df = df[[col for col in df if nunique[col] > 1 and nunique[col] < 50]] # For displaying purposes, pick columns that have between 1 and 50 unique values\n",
        "    nRow, nCol = df.shape\n",
        "    columnNames = list(df)\n",
        "    nGraphRow = (nCol + nGraphPerRow - 1) / nGraphPerRow\n",
        "    plt.figure(num = None, figsize = (6 * nGraphPerRow, 8 * nGraphRow), dpi = 80, facecolor = 'w', edgecolor = 'k')\n",
        "    for i in range(min(nCol, nGraphShown)):\n",
        "        plt.subplot(nGraphRow, nGraphPerRow, i + 1)\n",
        "        columnDf = df.iloc[:, i]\n",
        "        if (not np.issubdtype(type(columnDf.iloc[0]), np.number)):\n",
        "            valueCounts = columnDf.value_counts()\n",
        "            valueCounts.plot.bar()\n",
        "        else:\n",
        "            columnDf.hist()\n",
        "        plt.ylabel('counts')\n",
        "        plt.xticks(rotation = 90)\n",
        "        plt.title(f'{columnNames[i]} (column {i})')\n",
        "    plt.tight_layout(pad = 1.0, w_pad = 1.0, h_pad = 1.0)\n",
        "    plt.show()"
      ],
      "execution_count": 0,
      "outputs": []
    },
    {
      "cell_type": "code",
      "metadata": {
        "id": "GEy07Iv0KU-i",
        "colab_type": "code",
        "colab": {}
      },
      "source": [
        "df.dataframeName = 'SBAnational.csv'"
      ],
      "execution_count": 0,
      "outputs": []
    },
    {
      "cell_type": "code",
      "metadata": {
        "id": "Pj9_ahgJp2af",
        "colab_type": "code",
        "colab": {}
      },
      "source": [
        "# Correlation matrix\n",
        "def plotCorrelationMatrix(df, graphWidth):\n",
        "    filename = df.dataframeName\n",
        "    df = df.dropna('columns') # drop columns with NaN\n",
        "    df = df[[col for col in df if df[col].nunique() > 1]] # keep columns where there are more than 1 unique values\n",
        "    if df.shape[1] < 2:\n",
        "        print(f'No correlation plots shown: The number of non-NaN or constant columns ({df.shape[1]}) is less than 2')\n",
        "        return\n",
        "    corr = df.corr()\n",
        "    plt.figure(num=None, figsize=(graphWidth, graphWidth), dpi=80, facecolor='w', edgecolor='k')\n",
        "    corrMat = plt.matshow(corr, fignum = 1)\n",
        "    plt.xticks(range(len(corr.columns)), corr.columns, rotation=90)\n",
        "    plt.yticks(range(len(corr.columns)), corr.columns)\n",
        "    plt.gca().xaxis.tick_bottom()\n",
        "    plt.colorbar(corrMat)\n",
        "    plt.title(f'Correlation Matrix for {filename}', fontsize=15)\n",
        "    plt.show()"
      ],
      "execution_count": 0,
      "outputs": []
    },
    {
      "cell_type": "code",
      "metadata": {
        "id": "lhiLUa2fqqV3",
        "colab_type": "code",
        "colab": {}
      },
      "source": [
        "# Scatter and density plots\n",
        "def plotScatterMatrix(df, plotSize, textSize):\n",
        "    df = df.select_dtypes(include =[np.number]) # keep only numerical columns\n",
        "    # Remove rows and columns that would lead to df being singular\n",
        "    df = df.dropna('columns')\n",
        "    df = df[[col for col in df if df[col].nunique() > 1]] # keep columns where there are more than 1 unique values\n",
        "    columnNames = list(df)\n",
        "    if len(columnNames) > 10: # reduce the number of columns for matrix inversion of kernel density plots\n",
        "        columnNames = columnNames[:10]\n",
        "    df = df[columnNames]\n",
        "    ax = pd.plotting.scatter_matrix(df, alpha=0.75, figsize=[plotSize, plotSize], diagonal='kde')\n",
        "    corrs = df.corr().values\n",
        "    for i, j in zip(*plt.np.triu_indices_from(ax, k = 1)):\n",
        "        ax[i, j].annotate('Corr. coef = %.3f' % corrs[i, j], (0.8, 0.2), xycoords='axes fraction', ha='center', va='center', size=textSize)\n",
        "    plt.suptitle('Scatter and Density Plot')\n",
        "    plt.show()"
      ],
      "execution_count": 0,
      "outputs": []
    },
    {
      "cell_type": "markdown",
      "metadata": {
        "id": "wNKEiuiYrxEU",
        "colab_type": "text"
      },
      "source": [
        "Now you're ready to read in the data and use the plotting functions to visualize the data.\n",
        "\n"
      ]
    },
    {
      "cell_type": "markdown",
      "metadata": {
        "id": "kG23FUasrxf1",
        "colab_type": "text"
      },
      "source": [
        "Let's check 1st file: /kaggle/input/SBAnational.csv/SBAnational.csv"
      ]
    },
    {
      "cell_type": "code",
      "metadata": {
        "id": "eHYdpdymrNM4",
        "colab_type": "code",
        "colab": {
          "base_uri": "https://localhost:8080/",
          "height": 34
        },
        "outputId": "dabc35ab-cb3d-447d-8b82-aec933cc7276"
      },
      "source": [
        "nRowsRead = 1000 # specify 'None' if want to read whole file\n",
        "# SBAnational.csv may have more rows in reality, but we are only loading/previewing the first 1000 rows\n",
        "df1 = df\n",
        "nRow, nCol = df1.shape\n",
        "print(f'There are {nRow} rows and {nCol} columns')"
      ],
      "execution_count": 16,
      "outputs": [
        {
          "output_type": "stream",
          "text": [
            "There are 899164 rows and 27 columns\n"
          ],
          "name": "stdout"
        }
      ]
    },
    {
      "cell_type": "markdown",
      "metadata": {
        "id": "-1tgJZ7yIyUS",
        "colab_type": "text"
      },
      "source": [
        "Let's take a quick look at what the data looks like:"
      ]
    },
    {
      "cell_type": "code",
      "metadata": {
        "id": "glcAf09mr2gC",
        "colab_type": "code",
        "colab": {
          "base_uri": "https://localhost:8080/",
          "height": 450
        },
        "outputId": "c2bfbfaa-434c-4fb1-c559-0aa8c50fbdcd"
      },
      "source": [
        "df1.head(5)\n"
      ],
      "execution_count": 17,
      "outputs": [
        {
          "output_type": "execute_result",
          "data": {
            "text/html": [
              "<div>\n",
              "<style scoped>\n",
              "    .dataframe tbody tr th:only-of-type {\n",
              "        vertical-align: middle;\n",
              "    }\n",
              "\n",
              "    .dataframe tbody tr th {\n",
              "        vertical-align: top;\n",
              "    }\n",
              "\n",
              "    .dataframe thead th {\n",
              "        text-align: right;\n",
              "    }\n",
              "</style>\n",
              "<table border=\"1\" class=\"dataframe\">\n",
              "  <thead>\n",
              "    <tr style=\"text-align: right;\">\n",
              "      <th></th>\n",
              "      <th>LoanNr_ChkDgt</th>\n",
              "      <th>Name</th>\n",
              "      <th>City</th>\n",
              "      <th>State</th>\n",
              "      <th>Zip</th>\n",
              "      <th>Bank</th>\n",
              "      <th>BankState</th>\n",
              "      <th>NAICS</th>\n",
              "      <th>ApprovalDate</th>\n",
              "      <th>ApprovalFY</th>\n",
              "      <th>Term</th>\n",
              "      <th>NoEmp</th>\n",
              "      <th>NewExist</th>\n",
              "      <th>CreateJob</th>\n",
              "      <th>RetainedJob</th>\n",
              "      <th>FranchiseCode</th>\n",
              "      <th>UrbanRural</th>\n",
              "      <th>RevLineCr</th>\n",
              "      <th>LowDoc</th>\n",
              "      <th>ChgOffDate</th>\n",
              "      <th>DisbursementDate</th>\n",
              "      <th>DisbursementGross</th>\n",
              "      <th>BalanceGross</th>\n",
              "      <th>MIS_Status</th>\n",
              "      <th>ChgOffPrinGr</th>\n",
              "      <th>GrAppv</th>\n",
              "      <th>SBA_Appv</th>\n",
              "    </tr>\n",
              "  </thead>\n",
              "  <tbody>\n",
              "    <tr>\n",
              "      <th>0</th>\n",
              "      <td>1000014003</td>\n",
              "      <td>ABC HOBBYCRAFT</td>\n",
              "      <td>EVANSVILLE</td>\n",
              "      <td>IN</td>\n",
              "      <td>47711</td>\n",
              "      <td>FIFTH THIRD BANK</td>\n",
              "      <td>OH</td>\n",
              "      <td>451120</td>\n",
              "      <td>28-Feb-97</td>\n",
              "      <td>1997</td>\n",
              "      <td>84</td>\n",
              "      <td>4</td>\n",
              "      <td>2.0</td>\n",
              "      <td>0</td>\n",
              "      <td>0</td>\n",
              "      <td>1</td>\n",
              "      <td>0</td>\n",
              "      <td>N</td>\n",
              "      <td>Y</td>\n",
              "      <td>NaN</td>\n",
              "      <td>28-Feb-99</td>\n",
              "      <td>$60,000.00</td>\n",
              "      <td>$0.00</td>\n",
              "      <td>P I F</td>\n",
              "      <td>$0.00</td>\n",
              "      <td>$60,000.00</td>\n",
              "      <td>$48,000.00</td>\n",
              "    </tr>\n",
              "    <tr>\n",
              "      <th>1</th>\n",
              "      <td>1000024006</td>\n",
              "      <td>LANDMARK BAR &amp; GRILLE (THE)</td>\n",
              "      <td>NEW PARIS</td>\n",
              "      <td>IN</td>\n",
              "      <td>46526</td>\n",
              "      <td>1ST SOURCE BANK</td>\n",
              "      <td>IN</td>\n",
              "      <td>722410</td>\n",
              "      <td>28-Feb-97</td>\n",
              "      <td>1997</td>\n",
              "      <td>60</td>\n",
              "      <td>2</td>\n",
              "      <td>2.0</td>\n",
              "      <td>0</td>\n",
              "      <td>0</td>\n",
              "      <td>1</td>\n",
              "      <td>0</td>\n",
              "      <td>N</td>\n",
              "      <td>Y</td>\n",
              "      <td>NaN</td>\n",
              "      <td>31-May-97</td>\n",
              "      <td>$40,000.00</td>\n",
              "      <td>$0.00</td>\n",
              "      <td>P I F</td>\n",
              "      <td>$0.00</td>\n",
              "      <td>$40,000.00</td>\n",
              "      <td>$32,000.00</td>\n",
              "    </tr>\n",
              "    <tr>\n",
              "      <th>2</th>\n",
              "      <td>1000034009</td>\n",
              "      <td>WHITLOCK DDS, TODD M.</td>\n",
              "      <td>BLOOMINGTON</td>\n",
              "      <td>IN</td>\n",
              "      <td>47401</td>\n",
              "      <td>GRANT COUNTY STATE BANK</td>\n",
              "      <td>IN</td>\n",
              "      <td>621210</td>\n",
              "      <td>28-Feb-97</td>\n",
              "      <td>1997</td>\n",
              "      <td>180</td>\n",
              "      <td>7</td>\n",
              "      <td>1.0</td>\n",
              "      <td>0</td>\n",
              "      <td>0</td>\n",
              "      <td>1</td>\n",
              "      <td>0</td>\n",
              "      <td>N</td>\n",
              "      <td>N</td>\n",
              "      <td>NaN</td>\n",
              "      <td>31-Dec-97</td>\n",
              "      <td>$287,000.00</td>\n",
              "      <td>$0.00</td>\n",
              "      <td>P I F</td>\n",
              "      <td>$0.00</td>\n",
              "      <td>$287,000.00</td>\n",
              "      <td>$215,250.00</td>\n",
              "    </tr>\n",
              "    <tr>\n",
              "      <th>3</th>\n",
              "      <td>1000044001</td>\n",
              "      <td>BIG BUCKS PAWN &amp; JEWELRY, LLC</td>\n",
              "      <td>BROKEN ARROW</td>\n",
              "      <td>OK</td>\n",
              "      <td>74012</td>\n",
              "      <td>1ST NATL BK &amp; TR CO OF BROKEN</td>\n",
              "      <td>OK</td>\n",
              "      <td>0</td>\n",
              "      <td>28-Feb-97</td>\n",
              "      <td>1997</td>\n",
              "      <td>60</td>\n",
              "      <td>2</td>\n",
              "      <td>1.0</td>\n",
              "      <td>0</td>\n",
              "      <td>0</td>\n",
              "      <td>1</td>\n",
              "      <td>0</td>\n",
              "      <td>N</td>\n",
              "      <td>Y</td>\n",
              "      <td>NaN</td>\n",
              "      <td>30-Jun-97</td>\n",
              "      <td>$35,000.00</td>\n",
              "      <td>$0.00</td>\n",
              "      <td>P I F</td>\n",
              "      <td>$0.00</td>\n",
              "      <td>$35,000.00</td>\n",
              "      <td>$28,000.00</td>\n",
              "    </tr>\n",
              "    <tr>\n",
              "      <th>4</th>\n",
              "      <td>1000054004</td>\n",
              "      <td>ANASTASIA CONFECTIONS, INC.</td>\n",
              "      <td>ORLANDO</td>\n",
              "      <td>FL</td>\n",
              "      <td>32801</td>\n",
              "      <td>FLORIDA BUS. DEVEL CORP</td>\n",
              "      <td>FL</td>\n",
              "      <td>0</td>\n",
              "      <td>28-Feb-97</td>\n",
              "      <td>1997</td>\n",
              "      <td>240</td>\n",
              "      <td>14</td>\n",
              "      <td>1.0</td>\n",
              "      <td>7</td>\n",
              "      <td>7</td>\n",
              "      <td>1</td>\n",
              "      <td>0</td>\n",
              "      <td>N</td>\n",
              "      <td>N</td>\n",
              "      <td>NaN</td>\n",
              "      <td>14-May-97</td>\n",
              "      <td>$229,000.00</td>\n",
              "      <td>$0.00</td>\n",
              "      <td>P I F</td>\n",
              "      <td>$0.00</td>\n",
              "      <td>$229,000.00</td>\n",
              "      <td>$229,000.00</td>\n",
              "    </tr>\n",
              "  </tbody>\n",
              "</table>\n",
              "</div>"
            ],
            "text/plain": [
              "   LoanNr_ChkDgt                           Name  ...        GrAppv      SBA_Appv\n",
              "0     1000014003                 ABC HOBBYCRAFT  ...   $60,000.00    $48,000.00 \n",
              "1     1000024006    LANDMARK BAR & GRILLE (THE)  ...   $40,000.00    $32,000.00 \n",
              "2     1000034009          WHITLOCK DDS, TODD M.  ...  $287,000.00   $215,250.00 \n",
              "3     1000044001  BIG BUCKS PAWN & JEWELRY, LLC  ...   $35,000.00    $28,000.00 \n",
              "4     1000054004    ANASTASIA CONFECTIONS, INC.  ...  $229,000.00   $229,000.00 \n",
              "\n",
              "[5 rows x 27 columns]"
            ]
          },
          "metadata": {
            "tags": []
          },
          "execution_count": 17
        }
      ]
    },
    {
      "cell_type": "markdown",
      "metadata": {
        "id": "fvkxsTnOI3my",
        "colab_type": "text"
      },
      "source": [
        "Distribution graphs (histogram/bar graph) of sampled columns:"
      ]
    },
    {
      "cell_type": "code",
      "metadata": {
        "id": "FdoNWbsqI05V",
        "colab_type": "code",
        "colab": {
          "base_uri": "https://localhost:8080/",
          "height": 534
        },
        "outputId": "476a35e3-da14-469a-99a1-e9904da76892"
      },
      "source": [
        "plotPerColumnDistribution(df1, 10, 5)"
      ],
      "execution_count": 18,
      "outputs": [
        {
          "output_type": "display_data",
          "data": {
            "image/png": "[encoded data removed]",
            "text/plain": [
              "<Figure size 2400x1280 with 6 Axes>"
            ]
          },
          "metadata": {
            "tags": []
          }
        }
      ]
    },
    {
      "cell_type": "markdown",
      "metadata": {
        "id": "rHmDewLmJ01L",
        "colab_type": "text"
      },
      "source": [
        "Correlation matrix:"
      ]
    },
    {
      "cell_type": "code",
      "metadata": {
        "id": "bQiY_uAaI6kX",
        "colab_type": "code",
        "colab": {
          "base_uri": "https://localhost:8080/",
          "height": 577
        },
        "outputId": "7ee7bc96-6f6e-448d-92c7-a423284e7300"
      },
      "source": [
        "plotCorrelationMatrix(df1, 8)"
      ],
      "execution_count": 19,
      "outputs": [
        {
          "output_type": "display_data",
          "data": {
            "image/png": "[encoded data removed]",
            "text/plain": [
              "<Figure size 640x640 with 2 Axes>"
            ]
          },
          "metadata": {
            "tags": []
          }
        }
      ]
    },
    {
      "cell_type": "markdown",
      "metadata": {
        "id": "leWbkSBxKzp-",
        "colab_type": "text"
      },
      "source": [
        "Scatter and density plots:"
      ]
    },
    {
      "cell_type": "code",
      "metadata": {
        "id": "Faa3cPttJ2yS",
        "colab_type": "code",
        "colab": {}
      },
      "source": [
        "#plotScatterMatrix(df1, 20, 10)"
      ],
      "execution_count": 0,
      "outputs": []
    },
    {
      "cell_type": "markdown",
      "metadata": {
        "id": "rtROZ57QK6NR",
        "colab_type": "text"
      },
      "source": [
        "Conclusion\n",
        "\n",
        "This concludes your starter analysis! To go forward from here, click the blue \"Fork Notebook\" button at the top of this kernel. This will create a copy of the code and environment for you to edit. Delete, modify, and add code as you please. Happy Kaggling!"
      ]
    },
    {
      "cell_type": "code",
      "metadata": {
        "id": "P3K7I_VWK1RG",
        "colab_type": "code",
        "colab": {}
      },
      "source": [
        ""
      ],
      "execution_count": 0,
      "outputs": []
    },
    {
      "cell_type": "code",
      "metadata": {
        "id": "T5a9MRi-LJps",
        "colab_type": "code",
        "colab": {}
      },
      "source": [
        ""
      ],
      "execution_count": 0,
      "outputs": []
    },
    {
      "cell_type": "markdown",
      "metadata": {
        "id": "jLU1mUwsLNx6",
        "colab_type": "text"
      },
      "source": [
        "Summary\n",
        "\n",
        "I am a Junior Data Analyst and this is my very first kaggle notebook. The main goal of this analysis is to get an understanding of the dataset. I would be very grateful for comments on EDA and data preprocessing parts. For prediction I tried xgboost without any tunning. The last part will be updated."
      ]
    },
    {
      "cell_type": "markdown",
      "metadata": {
        "id": "onMAnJqTLWTU",
        "colab_type": "text"
      },
      "source": [
        "Data\n",
        "\n",
        "The original dataset from the U.S. Small Business Administration (SBA)"
      ]
    },
    {
      "cell_type": "code",
      "metadata": {
        "id": "RWlWu5m2LJnh",
        "colab_type": "code",
        "colab": {
          "base_uri": "https://localhost:8080/",
          "height": 70
        },
        "outputId": "05da558b-1c43-42b5-f165-db5609754e42"
      },
      "source": [
        "import pandas as pd\n",
        "import numpy as np\n",
        "import seaborn as sns\n",
        "from collections import Counter\n",
        "import matplotlib.pyplot as plt\n",
        "import os\n",
        "import math\n",
        "import sys"
      ],
      "execution_count": 21,
      "outputs": [
        {
          "output_type": "stream",
          "text": [
            "/usr/local/lib/python3.6/dist-packages/statsmodels/tools/_testing.py:19: FutureWarning: pandas.util.testing is deprecated. Use the functions in the public API at pandas.testing instead.\n",
            "  import pandas.util.testing as tm\n"
          ],
          "name": "stderr"
        }
      ]
    },
    {
      "cell_type": "code",
      "metadata": {
        "id": "67721kvYLbz5",
        "colab_type": "code",
        "colab": {}
      },
      "source": [
        "#!pip install uszipcode\n",
        "import uszipcode\n",
        "from uszipcode import SearchEngine\n",
        "search = SearchEngine()"
      ],
      "execution_count": 0,
      "outputs": []
    },
    {
      "cell_type": "code",
      "metadata": {
        "id": "f10OGcEALmuC",
        "colab_type": "code",
        "colab": {}
      },
      "source": [
        "#Read csv file\n",
        "credit = df"
      ],
      "execution_count": 0,
      "outputs": []
    },
    {
      "cell_type": "code",
      "metadata": {
        "id": "00eCPwJwLoTp",
        "colab_type": "code",
        "colab": {
          "base_uri": "https://localhost:8080/",
          "height": 450
        },
        "outputId": "a061ef4a-ee3f-4cb4-fba1-94b615746926"
      },
      "source": [
        "#Quick overview of our Dataset and variables\n",
        "credit.head()"
      ],
      "execution_count": 24,
      "outputs": [
        {
          "output_type": "execute_result",
          "data": {
            "text/html": [
              "<div>\n",
              "<style scoped>\n",
              "    .dataframe tbody tr th:only-of-type {\n",
              "        vertical-align: middle;\n",
              "    }\n",
              "\n",
              "    .dataframe tbody tr th {\n",
              "        vertical-align: top;\n",
              "    }\n",
              "\n",
              "    .dataframe thead th {\n",
              "        text-align: right;\n",
              "    }\n",
              "</style>\n",
              "<table border=\"1\" class=\"dataframe\">\n",
              "  <thead>\n",
              "    <tr style=\"text-align: right;\">\n",
              "      <th></th>\n",
              "      <th>LoanNr_ChkDgt</th>\n",
              "      <th>Name</th>\n",
              "      <th>City</th>\n",
              "      <th>State</th>\n",
              "      <th>Zip</th>\n",
              "      <th>Bank</th>\n",
              "      <th>BankState</th>\n",
              "      <th>NAICS</th>\n",
              "      <th>ApprovalDate</th>\n",
              "      <th>ApprovalFY</th>\n",
              "      <th>Term</th>\n",
              "      <th>NoEmp</th>\n",
              "      <th>NewExist</th>\n",
              "      <th>CreateJob</th>\n",
              "      <th>RetainedJob</th>\n",
              "      <th>FranchiseCode</th>\n",
              "      <th>UrbanRural</th>\n",
              "      <th>RevLineCr</th>\n",
              "      <th>LowDoc</th>\n",
              "      <th>ChgOffDate</th>\n",
              "      <th>DisbursementDate</th>\n",
              "      <th>DisbursementGross</th>\n",
              "      <th>BalanceGross</th>\n",
              "      <th>MIS_Status</th>\n",
              "      <th>ChgOffPrinGr</th>\n",
              "      <th>GrAppv</th>\n",
              "      <th>SBA_Appv</th>\n",
              "    </tr>\n",
              "  </thead>\n",
              "  <tbody>\n",
              "    <tr>\n",
              "      <th>0</th>\n",
              "      <td>1000014003</td>\n",
              "      <td>ABC HOBBYCRAFT</td>\n",
              "      <td>EVANSVILLE</td>\n",
              "      <td>IN</td>\n",
              "      <td>47711</td>\n",
              "      <td>FIFTH THIRD BANK</td>\n",
              "      <td>OH</td>\n",
              "      <td>451120</td>\n",
              "      <td>28-Feb-97</td>\n",
              "      <td>1997</td>\n",
              "      <td>84</td>\n",
              "      <td>4</td>\n",
              "      <td>2.0</td>\n",
              "      <td>0</td>\n",
              "      <td>0</td>\n",
              "      <td>1</td>\n",
              "      <td>0</td>\n",
              "      <td>N</td>\n",
              "      <td>Y</td>\n",
              "      <td>NaN</td>\n",
              "      <td>28-Feb-99</td>\n",
              "      <td>$60,000.00</td>\n",
              "      <td>$0.00</td>\n",
              "      <td>P I F</td>\n",
              "      <td>$0.00</td>\n",
              "      <td>$60,000.00</td>\n",
              "      <td>$48,000.00</td>\n",
              "    </tr>\n",
              "    <tr>\n",
              "      <th>1</th>\n",
              "      <td>1000024006</td>\n",
              "      <td>LANDMARK BAR &amp; GRILLE (THE)</td>\n",
              "      <td>NEW PARIS</td>\n",
              "      <td>IN</td>\n",
              "      <td>46526</td>\n",
              "      <td>1ST SOURCE BANK</td>\n",
              "      <td>IN</td>\n",
              "      <td>722410</td>\n",
              "      <td>28-Feb-97</td>\n",
              "      <td>1997</td>\n",
              "      <td>60</td>\n",
              "      <td>2</td>\n",
              "      <td>2.0</td>\n",
              "      <td>0</td>\n",
              "      <td>0</td>\n",
              "      <td>1</td>\n",
              "      <td>0</td>\n",
              "      <td>N</td>\n",
              "      <td>Y</td>\n",
              "      <td>NaN</td>\n",
              "      <td>31-May-97</td>\n",
              "      <td>$40,000.00</td>\n",
              "      <td>$0.00</td>\n",
              "      <td>P I F</td>\n",
              "      <td>$0.00</td>\n",
              "      <td>$40,000.00</td>\n",
              "      <td>$32,000.00</td>\n",
              "    </tr>\n",
              "    <tr>\n",
              "      <th>2</th>\n",
              "      <td>1000034009</td>\n",
              "      <td>WHITLOCK DDS, TODD M.</td>\n",
              "      <td>BLOOMINGTON</td>\n",
              "      <td>IN</td>\n",
              "      <td>47401</td>\n",
              "      <td>GRANT COUNTY STATE BANK</td>\n",
              "      <td>IN</td>\n",
              "      <td>621210</td>\n",
              "      <td>28-Feb-97</td>\n",
              "      <td>1997</td>\n",
              "      <td>180</td>\n",
              "      <td>7</td>\n",
              "      <td>1.0</td>\n",
              "      <td>0</td>\n",
              "      <td>0</td>\n",
              "      <td>1</td>\n",
              "      <td>0</td>\n",
              "      <td>N</td>\n",
              "      <td>N</td>\n",
              "      <td>NaN</td>\n",
              "      <td>31-Dec-97</td>\n",
              "      <td>$287,000.00</td>\n",
              "      <td>$0.00</td>\n",
              "      <td>P I F</td>\n",
              "      <td>$0.00</td>\n",
              "      <td>$287,000.00</td>\n",
              "      <td>$215,250.00</td>\n",
              "    </tr>\n",
              "    <tr>\n",
              "      <th>3</th>\n",
              "      <td>1000044001</td>\n",
              "      <td>BIG BUCKS PAWN &amp; JEWELRY, LLC</td>\n",
              "      <td>BROKEN ARROW</td>\n",
              "      <td>OK</td>\n",
              "      <td>74012</td>\n",
              "      <td>1ST NATL BK &amp; TR CO OF BROKEN</td>\n",
              "      <td>OK</td>\n",
              "      <td>0</td>\n",
              "      <td>28-Feb-97</td>\n",
              "      <td>1997</td>\n",
              "      <td>60</td>\n",
              "      <td>2</td>\n",
              "      <td>1.0</td>\n",
              "      <td>0</td>\n",
              "      <td>0</td>\n",
              "      <td>1</td>\n",
              "      <td>0</td>\n",
              "      <td>N</td>\n",
              "      <td>Y</td>\n",
              "      <td>NaN</td>\n",
              "      <td>30-Jun-97</td>\n",
              "      <td>$35,000.00</td>\n",
              "      <td>$0.00</td>\n",
              "      <td>P I F</td>\n",
              "      <td>$0.00</td>\n",
              "      <td>$35,000.00</td>\n",
              "      <td>$28,000.00</td>\n",
              "    </tr>\n",
              "    <tr>\n",
              "      <th>4</th>\n",
              "      <td>1000054004</td>\n",
              "      <td>ANASTASIA CONFECTIONS, INC.</td>\n",
              "      <td>ORLANDO</td>\n",
              "      <td>FL</td>\n",
              "      <td>32801</td>\n",
              "      <td>FLORIDA BUS. DEVEL CORP</td>\n",
              "      <td>FL</td>\n",
              "      <td>0</td>\n",
              "      <td>28-Feb-97</td>\n",
              "      <td>1997</td>\n",
              "      <td>240</td>\n",
              "      <td>14</td>\n",
              "      <td>1.0</td>\n",
              "      <td>7</td>\n",
              "      <td>7</td>\n",
              "      <td>1</td>\n",
              "      <td>0</td>\n",
              "      <td>N</td>\n",
              "      <td>N</td>\n",
              "      <td>NaN</td>\n",
              "      <td>14-May-97</td>\n",
              "      <td>$229,000.00</td>\n",
              "      <td>$0.00</td>\n",
              "      <td>P I F</td>\n",
              "      <td>$0.00</td>\n",
              "      <td>$229,000.00</td>\n",
              "      <td>$229,000.00</td>\n",
              "    </tr>\n",
              "  </tbody>\n",
              "</table>\n",
              "</div>"
            ],
            "text/plain": [
              "   LoanNr_ChkDgt                           Name  ...        GrAppv      SBA_Appv\n",
              "0     1000014003                 ABC HOBBYCRAFT  ...   $60,000.00    $48,000.00 \n",
              "1     1000024006    LANDMARK BAR & GRILLE (THE)  ...   $40,000.00    $32,000.00 \n",
              "2     1000034009          WHITLOCK DDS, TODD M.  ...  $287,000.00   $215,250.00 \n",
              "3     1000044001  BIG BUCKS PAWN & JEWELRY, LLC  ...   $35,000.00    $28,000.00 \n",
              "4     1000054004    ANASTASIA CONFECTIONS, INC.  ...  $229,000.00   $229,000.00 \n",
              "\n",
              "[5 rows x 27 columns]"
            ]
          },
          "metadata": {
            "tags": []
          },
          "execution_count": 24
        }
      ]
    },
    {
      "cell_type": "code",
      "metadata": {
        "id": "r4ehC6_AMfIt",
        "colab_type": "code",
        "colab": {
          "base_uri": "https://localhost:8080/",
          "height": 34
        },
        "outputId": "724d9412-9e5b-40ba-c372-d219d4bfb28b"
      },
      "source": [
        "credit.shape"
      ],
      "execution_count": 25,
      "outputs": [
        {
          "output_type": "execute_result",
          "data": {
            "text/plain": [
              "(899164, 27)"
            ]
          },
          "metadata": {
            "tags": []
          },
          "execution_count": 25
        }
      ]
    },
    {
      "cell_type": "code",
      "metadata": {
        "id": "684WecqeLrpq",
        "colab_type": "code",
        "colab": {
          "base_uri": "https://localhost:8080/",
          "height": 34
        },
        "outputId": "c0f01e3a-5f4d-4abb-b305-60d3f91fe1b4"
      },
      "source": [
        "#Deleting duplicates if any\n",
        "credit = credit.drop_duplicates(keep = 'first')\n",
        "#Shape of the data: 899164 rows and 27 columns\n",
        "credit.shape"
      ],
      "execution_count": 26,
      "outputs": [
        {
          "output_type": "execute_result",
          "data": {
            "text/plain": [
              "(899164, 27)"
            ]
          },
          "metadata": {
            "tags": []
          },
          "execution_count": 26
        }
      ]
    },
    {
      "cell_type": "markdown",
      "metadata": {
        "id": "I-XjrMcLM66K",
        "colab_type": "text"
      },
      "source": [
        "So there is no duplicates droped."
      ]
    },
    {
      "cell_type": "code",
      "metadata": {
        "id": "lEW3AZ-nLuRT",
        "colab_type": "code",
        "colab": {
          "base_uri": "https://localhost:8080/",
          "height": 118
        },
        "outputId": "6694eaac-e742-450b-9ca8-7dd43a1fa97a"
      },
      "source": [
        "#List of columns:\n",
        "print(credit.dtypes.index)"
      ],
      "execution_count": 27,
      "outputs": [
        {
          "output_type": "stream",
          "text": [
            "Index(['LoanNr_ChkDgt', 'Name', 'City', 'State', 'Zip', 'Bank', 'BankState',\n",
            "       'NAICS', 'ApprovalDate', 'ApprovalFY', 'Term', 'NoEmp', 'NewExist',\n",
            "       'CreateJob', 'RetainedJob', 'FranchiseCode', 'UrbanRural', 'RevLineCr',\n",
            "       'LowDoc', 'ChgOffDate', 'DisbursementDate', 'DisbursementGross',\n",
            "       'BalanceGross', 'MIS_Status', 'ChgOffPrinGr', 'GrAppv', 'SBA_Appv'],\n",
            "      dtype='object')\n"
          ],
          "name": "stdout"
        }
      ]
    },
    {
      "cell_type": "code",
      "metadata": {
        "id": "OmkKYew-NDCz",
        "colab_type": "code",
        "colab": {
          "base_uri": "https://localhost:8080/",
          "height": 304
        },
        "outputId": "5e59563a-37df-4000-c626-72c3902eaac9"
      },
      "source": [
        "#Summary of data frame (count, mean, standart deviation, min, quartiles, max)\n",
        "credit.describe()"
      ],
      "execution_count": 28,
      "outputs": [
        {
          "output_type": "execute_result",
          "data": {
            "text/html": [
              "<div>\n",
              "<style scoped>\n",
              "    .dataframe tbody tr th:only-of-type {\n",
              "        vertical-align: middle;\n",
              "    }\n",
              "\n",
              "    .dataframe tbody tr th {\n",
              "        vertical-align: top;\n",
              "    }\n",
              "\n",
              "    .dataframe thead th {\n",
              "        text-align: right;\n",
              "    }\n",
              "</style>\n",
              "<table border=\"1\" class=\"dataframe\">\n",
              "  <thead>\n",
              "    <tr style=\"text-align: right;\">\n",
              "      <th></th>\n",
              "      <th>LoanNr_ChkDgt</th>\n",
              "      <th>Zip</th>\n",
              "      <th>NAICS</th>\n",
              "      <th>Term</th>\n",
              "      <th>NoEmp</th>\n",
              "      <th>NewExist</th>\n",
              "      <th>CreateJob</th>\n",
              "      <th>RetainedJob</th>\n",
              "      <th>FranchiseCode</th>\n",
              "      <th>UrbanRural</th>\n",
              "    </tr>\n",
              "  </thead>\n",
              "  <tbody>\n",
              "    <tr>\n",
              "      <th>count</th>\n",
              "      <td>8.991640e+05</td>\n",
              "      <td>899164.000000</td>\n",
              "      <td>899164.000000</td>\n",
              "      <td>899164.000000</td>\n",
              "      <td>899164.000000</td>\n",
              "      <td>899028.000000</td>\n",
              "      <td>899164.000000</td>\n",
              "      <td>899164.000000</td>\n",
              "      <td>899164.000000</td>\n",
              "      <td>899164.000000</td>\n",
              "    </tr>\n",
              "    <tr>\n",
              "      <th>mean</th>\n",
              "      <td>4.772612e+09</td>\n",
              "      <td>53804.391241</td>\n",
              "      <td>398660.950146</td>\n",
              "      <td>110.773078</td>\n",
              "      <td>11.411353</td>\n",
              "      <td>1.280404</td>\n",
              "      <td>8.430376</td>\n",
              "      <td>10.797257</td>\n",
              "      <td>2753.725933</td>\n",
              "      <td>0.757748</td>\n",
              "    </tr>\n",
              "    <tr>\n",
              "      <th>std</th>\n",
              "      <td>2.538175e+09</td>\n",
              "      <td>31184.159152</td>\n",
              "      <td>263318.312759</td>\n",
              "      <td>78.857305</td>\n",
              "      <td>74.108196</td>\n",
              "      <td>0.451750</td>\n",
              "      <td>236.688165</td>\n",
              "      <td>237.120600</td>\n",
              "      <td>12758.019136</td>\n",
              "      <td>0.646436</td>\n",
              "    </tr>\n",
              "    <tr>\n",
              "      <th>min</th>\n",
              "      <td>1.000014e+09</td>\n",
              "      <td>0.000000</td>\n",
              "      <td>0.000000</td>\n",
              "      <td>0.000000</td>\n",
              "      <td>0.000000</td>\n",
              "      <td>0.000000</td>\n",
              "      <td>0.000000</td>\n",
              "      <td>0.000000</td>\n",
              "      <td>0.000000</td>\n",
              "      <td>0.000000</td>\n",
              "    </tr>\n",
              "    <tr>\n",
              "      <th>25%</th>\n",
              "      <td>2.589758e+09</td>\n",
              "      <td>27587.000000</td>\n",
              "      <td>235210.000000</td>\n",
              "      <td>60.000000</td>\n",
              "      <td>2.000000</td>\n",
              "      <td>1.000000</td>\n",
              "      <td>0.000000</td>\n",
              "      <td>0.000000</td>\n",
              "      <td>1.000000</td>\n",
              "      <td>0.000000</td>\n",
              "    </tr>\n",
              "    <tr>\n",
              "      <th>50%</th>\n",
              "      <td>4.361439e+09</td>\n",
              "      <td>55410.000000</td>\n",
              "      <td>445310.000000</td>\n",
              "      <td>84.000000</td>\n",
              "      <td>4.000000</td>\n",
              "      <td>1.000000</td>\n",
              "      <td>0.000000</td>\n",
              "      <td>1.000000</td>\n",
              "      <td>1.000000</td>\n",
              "      <td>1.000000</td>\n",
              "    </tr>\n",
              "    <tr>\n",
              "      <th>75%</th>\n",
              "      <td>6.904627e+09</td>\n",
              "      <td>83704.000000</td>\n",
              "      <td>561730.000000</td>\n",
              "      <td>120.000000</td>\n",
              "      <td>10.000000</td>\n",
              "      <td>2.000000</td>\n",
              "      <td>1.000000</td>\n",
              "      <td>4.000000</td>\n",
              "      <td>1.000000</td>\n",
              "      <td>1.000000</td>\n",
              "    </tr>\n",
              "    <tr>\n",
              "      <th>max</th>\n",
              "      <td>9.996003e+09</td>\n",
              "      <td>99999.000000</td>\n",
              "      <td>928120.000000</td>\n",
              "      <td>569.000000</td>\n",
              "      <td>9999.000000</td>\n",
              "      <td>2.000000</td>\n",
              "      <td>8800.000000</td>\n",
              "      <td>9500.000000</td>\n",
              "      <td>99999.000000</td>\n",
              "      <td>2.000000</td>\n",
              "    </tr>\n",
              "  </tbody>\n",
              "</table>\n",
              "</div>"
            ],
            "text/plain": [
              "       LoanNr_ChkDgt            Zip  ...  FranchiseCode     UrbanRural\n",
              "count   8.991640e+05  899164.000000  ...  899164.000000  899164.000000\n",
              "mean    4.772612e+09   53804.391241  ...    2753.725933       0.757748\n",
              "std     2.538175e+09   31184.159152  ...   12758.019136       0.646436\n",
              "min     1.000014e+09       0.000000  ...       0.000000       0.000000\n",
              "25%     2.589758e+09   27587.000000  ...       1.000000       0.000000\n",
              "50%     4.361439e+09   55410.000000  ...       1.000000       1.000000\n",
              "75%     6.904627e+09   83704.000000  ...       1.000000       1.000000\n",
              "max     9.996003e+09   99999.000000  ...   99999.000000       2.000000\n",
              "\n",
              "[8 rows x 10 columns]"
            ]
          },
          "metadata": {
            "tags": []
          },
          "execution_count": 28
        }
      ]
    },
    {
      "cell_type": "code",
      "metadata": {
        "id": "JFvl9yJuNIwA",
        "colab_type": "code",
        "colab": {
          "base_uri": "https://localhost:8080/",
          "height": 487
        },
        "outputId": "5cacab2b-76c2-45e2-b88d-0b42aaffc5c1"
      },
      "source": [
        "#NA observation. A lot of NAs :(\n",
        "credit.isnull().sum()"
      ],
      "execution_count": 29,
      "outputs": [
        {
          "output_type": "execute_result",
          "data": {
            "text/plain": [
              "LoanNr_ChkDgt             0\n",
              "Name                     14\n",
              "City                     30\n",
              "State                    14\n",
              "Zip                       0\n",
              "Bank                   1559\n",
              "BankState              1566\n",
              "NAICS                     0\n",
              "ApprovalDate              0\n",
              "ApprovalFY                0\n",
              "Term                      0\n",
              "NoEmp                     0\n",
              "NewExist                136\n",
              "CreateJob                 0\n",
              "RetainedJob               0\n",
              "FranchiseCode             0\n",
              "UrbanRural                0\n",
              "RevLineCr              4528\n",
              "LowDoc                 2582\n",
              "ChgOffDate           736465\n",
              "DisbursementDate       2368\n",
              "DisbursementGross         0\n",
              "BalanceGross              0\n",
              "MIS_Status             1997\n",
              "ChgOffPrinGr              0\n",
              "GrAppv                    0\n",
              "SBA_Appv                  0\n",
              "dtype: int64"
            ]
          },
          "metadata": {
            "tags": []
          },
          "execution_count": 29
        }
      ]
    },
    {
      "cell_type": "code",
      "metadata": {
        "id": "QTFmVpNmNZtZ",
        "colab_type": "code",
        "colab": {
          "base_uri": "https://localhost:8080/",
          "height": 34
        },
        "outputId": "1bee59d7-1f39-46df-c205-dea82a94e2d6"
      },
      "source": [
        "#Our target is to predict \"MIS_Value\". According to the document, \"MIS_Status\" has 2 variables: \n",
        "#Loan status charged off = CHGOFF, Paid in full = PIF\n",
        "Counter(credit.MIS_Status).keys() # We have: \"PIF\", CHGOFF, nan in this column"
      ],
      "execution_count": 30,
      "outputs": [
        {
          "output_type": "execute_result",
          "data": {
            "text/plain": [
              "dict_keys(['P I F', 'CHGOFF', nan])"
            ]
          },
          "metadata": {
            "tags": []
          },
          "execution_count": 30
        }
      ]
    },
    {
      "cell_type": "code",
      "metadata": {
        "id": "_cLd_ISANitA",
        "colab_type": "code",
        "colab": {
          "base_uri": "https://localhost:8080/",
          "height": 34
        },
        "outputId": "d558f749-e052-415d-ad06-5511746d9c67"
      },
      "source": [
        "Counter(credit.MIS_Status).values() # \"PIF\": 739609, CHGOFF: 157558, nan:1997\n",
        "#Quite imbalanced. We will try to not lose our rows with CHGOFF values while we are cleaning the dataset."
      ],
      "execution_count": 31,
      "outputs": [
        {
          "output_type": "execute_result",
          "data": {
            "text/plain": [
              "dict_values([739609, 157558, 1997])"
            ]
          },
          "metadata": {
            "tags": []
          },
          "execution_count": 31
        }
      ]
    },
    {
      "cell_type": "code",
      "metadata": {
        "id": "JQHmQJRiTPXz",
        "colab_type": "code",
        "colab": {}
      },
      "source": [
        "#####FIRST Dealing with NAs.##### \n",
        "#Name, City, and State\n",
        "\n",
        "# 4 columns belong to Borrower information: Name, City, State, and Zip.\n",
        "#Name is unique and useless and we can drop an entire column.\n",
        "credit = credit.drop(axis =1, columns = ['Name'])"
      ],
      "execution_count": 0,
      "outputs": []
    },
    {
      "cell_type": "code",
      "metadata": {
        "id": "2UUGOqaFTTrP",
        "colab_type": "code",
        "colab": {
          "base_uri": "https://localhost:8080/",
          "height": 34
        },
        "outputId": "405fe48b-0f94-4b04-b5d1-145b5f0cb73b"
      },
      "source": [
        "credit.shape"
      ],
      "execution_count": 33,
      "outputs": [
        {
          "output_type": "execute_result",
          "data": {
            "text/plain": [
              "(899164, 26)"
            ]
          },
          "metadata": {
            "tags": []
          },
          "execution_count": 33
        }
      ]
    },
    {
      "cell_type": "code",
      "metadata": {
        "id": "PO5fgpy8TY62",
        "colab_type": "code",
        "colab": {}
      },
      "source": [
        "#Next are City and State. As you can see, there are no NAs in Zip, so we can easily impute City and State uzing Zip values\n",
        "#Creating conditions for a loop\n",
        "cond = (credit.City.isnull()|credit.State.isnull())"
      ],
      "execution_count": 0,
      "outputs": []
    },
    {
      "cell_type": "code",
      "metadata": {
        "id": "mVMmMiKiTZrP",
        "colab_type": "code",
        "colab": {
          "base_uri": "https://localhost:8080/",
          "height": 67
        },
        "outputId": "f887b4e1-da72-4567-8f10-7fd2301ebca1"
      },
      "source": [
        "cond.value_counts()"
      ],
      "execution_count": 35,
      "outputs": [
        {
          "output_type": "execute_result",
          "data": {
            "text/plain": [
              "False    899120\n",
              "True         44\n",
              "dtype: int64"
            ]
          },
          "metadata": {
            "tags": []
          },
          "execution_count": 35
        }
      ]
    },
    {
      "cell_type": "code",
      "metadata": {
        "id": "jQnc5p4UTchO",
        "colab_type": "code",
        "colab": {
          "base_uri": "https://localhost:8080/",
          "height": 134
        },
        "outputId": "58123ee6-da5a-46c0-b2dc-1336b9958013"
      },
      "source": [
        "\n",
        "missing_rows = credit[cond].index\n",
        "missing_rows"
      ],
      "execution_count": 36,
      "outputs": [
        {
          "output_type": "execute_result",
          "data": {
            "text/plain": [
              "Int64Index([ 35517,  42535,  49244, 177891, 243450, 243452, 264664, 270263,\n",
              "            270265, 270268, 270270, 270277, 270284, 306274, 326169, 328526,\n",
              "            342177, 342185, 342928, 342938, 342946, 342951, 344784, 350109,\n",
              "            351072, 366139, 366158, 367007, 378899, 379174, 385418, 410929,\n",
              "            410933, 437782, 437788, 437793, 437804, 437818, 564191, 570342,\n",
              "            745271, 869948, 871847, 885335],\n",
              "           dtype='int64')"
            ]
          },
          "metadata": {
            "tags": []
          },
          "execution_count": 36
        }
      ]
    },
    {
      "cell_type": "code",
      "metadata": {
        "id": "LdaJDRsNOBlf",
        "colab_type": "code",
        "colab": {
          "base_uri": "https://localhost:8080/",
          "height": 470
        },
        "outputId": "7190def4-228e-4165-d4ff-5ca912a548ed"
      },
      "source": [
        "\n",
        "#I will go through loop and impute City and State using zearch.by_zipcode function.\n",
        "for i in missing_rows:\n",
        "    zipcode = search.by_zipcode(credit.iloc[i,3]) # 3 corresponds to Zip code\n",
        "    credit.iloc[i,1] = zipcode.major_city # 1 -> City\n",
        "    credit.iloc[i,2] = zipcode.state # 2 -> State\n",
        "\n",
        "#Check how NAs were imputed. We still have 4 NAs. I have looked through them. One zipcode = 0 \n",
        "#and the other 3 are not in the list of search.by_zipcode function. I think we can delete these rows.\n",
        "credit.isnull().sum()"
      ],
      "execution_count": 37,
      "outputs": [
        {
          "output_type": "execute_result",
          "data": {
            "text/plain": [
              "LoanNr_ChkDgt             0\n",
              "City                      4\n",
              "State                     4\n",
              "Zip                       0\n",
              "Bank                   1559\n",
              "BankState              1566\n",
              "NAICS                     0\n",
              "ApprovalDate              0\n",
              "ApprovalFY                0\n",
              "Term                      0\n",
              "NoEmp                     0\n",
              "NewExist                136\n",
              "CreateJob                 0\n",
              "RetainedJob               0\n",
              "FranchiseCode             0\n",
              "UrbanRural                0\n",
              "RevLineCr              4528\n",
              "LowDoc                 2582\n",
              "ChgOffDate           736465\n",
              "DisbursementDate       2368\n",
              "DisbursementGross         0\n",
              "BalanceGross              0\n",
              "MIS_Status             1997\n",
              "ChgOffPrinGr              0\n",
              "GrAppv                    0\n",
              "SBA_Appv                  0\n",
              "dtype: int64"
            ]
          },
          "metadata": {
            "tags": []
          },
          "execution_count": 37
        }
      ]
    },
    {
      "cell_type": "code",
      "metadata": {
        "id": "ECfMIzFkbp7P",
        "colab_type": "code",
        "colab": {}
      },
      "source": [
        "#And, of course, drop 4 rows with NAs in City and State columns \n",
        "credit = credit.dropna(axis =0, subset=['City','State','MIS_Status'])\n"
      ],
      "execution_count": 0,
      "outputs": []
    },
    {
      "cell_type": "code",
      "metadata": {
        "id": "Q89gud9Tbq8T",
        "colab_type": "code",
        "colab": {
          "base_uri": "https://localhost:8080/",
          "height": 34
        },
        "outputId": "bf680571-28a2-4b44-c72b-631b504831b8"
      },
      "source": [
        "credit.shape"
      ],
      "execution_count": 39,
      "outputs": [
        {
          "output_type": "execute_result",
          "data": {
            "text/plain": [
              "(897163, 26)"
            ]
          },
          "metadata": {
            "tags": []
          },
          "execution_count": 39
        }
      ]
    },
    {
      "cell_type": "code",
      "metadata": {
        "id": "Y91sVzeSOZHA",
        "colab_type": "code",
        "colab": {
          "base_uri": "https://localhost:8080/",
          "height": 34
        },
        "outputId": "91a9a815-2438-42fb-e344-728547271b0f"
      },
      "source": [
        "#Next features with a lot of NAs are Bank and BankState. \n",
        "#I would like to check if State of borrower = BankState. \n",
        "#If so we can just delete one of them.\n",
        "equal = 0\n",
        "non_equal = 0\n",
        "for i in credit.index:\n",
        "    if credit.State[i] == credit.BankState[i]:\n",
        "        equal = equal + 1\n",
        "    else:\n",
        "        non_equal = non_equal +1\n",
        "print(equal, non_equal)\n",
        "# Sad. The assumption is incorrect, 473949 cases coincide, while 425215 cases do not."
      ],
      "execution_count": 40,
      "outputs": [
        {
          "output_type": "stream",
          "text": [
            "473434 423729\n"
          ],
          "name": "stdout"
        }
      ]
    },
    {
      "cell_type": "code",
      "metadata": {
        "id": "mHLIiO7-Wuet",
        "colab_type": "code",
        "colab": {}
      },
      "source": [
        "#Since our goal is to define a default case, I will check if there are default cases in the rows where the \n",
        "#Bank Name and Bank State are unknown. \n",
        "cond_1 = credit.Bank.isnull()|credit.BankState.isnull()"
      ],
      "execution_count": 0,
      "outputs": []
    },
    {
      "cell_type": "code",
      "metadata": {
        "id": "bIr-6RoaWvJR",
        "colab_type": "code",
        "colab": {
          "base_uri": "https://localhost:8080/",
          "height": 67
        },
        "outputId": "f46a09b9-cd60-47c2-f93e-6b956d6bb060"
      },
      "source": [
        "cond_1.value_counts()"
      ],
      "execution_count": 42,
      "outputs": [
        {
          "output_type": "execute_result",
          "data": {
            "text/plain": [
              "False    895651\n",
              "True       1512\n",
              "dtype: int64"
            ]
          },
          "metadata": {
            "tags": []
          },
          "execution_count": 42
        }
      ]
    },
    {
      "cell_type": "code",
      "metadata": {
        "id": "9ZctvFO-Wxtn",
        "colab_type": "code",
        "colab": {
          "base_uri": "https://localhost:8080/",
          "height": 118
        },
        "outputId": "366a84ce-456c-496d-c6c6-16e24f85d733"
      },
      "source": [
        "\n",
        "missing_rows_1 = credit[cond_1].index\n",
        "missing_rows_1"
      ],
      "execution_count": 43,
      "outputs": [
        {
          "output_type": "execute_result",
          "data": {
            "text/plain": [
              "Int64Index([   407,    680,  16108,  18188,  27779,  29247,  31135,  33663,\n",
              "             34140,  34582,\n",
              "            ...\n",
              "            879218, 880178, 880844, 885560, 886790, 888026, 888681, 897114,\n",
              "            897474, 897749],\n",
              "           dtype='int64', length=1512)"
            ]
          },
          "metadata": {
            "tags": []
          },
          "execution_count": 43
        }
      ]
    },
    {
      "cell_type": "code",
      "metadata": {
        "id": "7SQirkgaWJD3",
        "colab_type": "code",
        "colab": {
          "base_uri": "https://localhost:8080/",
          "height": 34
        },
        "outputId": "bfbf865d-d2aa-465d-f9ba-08ffe64bb9ae"
      },
      "source": [
        "\n",
        "yes = 0\n",
        "no = 0\n",
        "for i in missing_rows_1:\n",
        "    if credit.MIS_Status[i] == 'CHGOFF':\n",
        "        yes = yes+1\n",
        "    else:\n",
        "        no = no +1\n",
        "print(yes,no)\n",
        "#Not bad, 72 cases against 1494. I'm still not sure if I need the columns with the State of the Bank and Bank name.\n",
        "#We can delete 1494 rows with not default cases, since the data is imbalanced. We'll see."
      ],
      "execution_count": 44,
      "outputs": [
        {
          "output_type": "stream",
          "text": [
            "72 1440\n"
          ],
          "name": "stdout"
        }
      ]
    },
    {
      "cell_type": "code",
      "metadata": {
        "id": "x0gpjguEWgC0",
        "colab_type": "code",
        "colab": {}
      },
      "source": [
        "#Feature - 'ChgOffDate' corresponds to the date when a loan was declared to be in default. \n"
      ],
      "execution_count": 0,
      "outputs": []
    },
    {
      "cell_type": "code",
      "metadata": {
        "id": "WEITTLOXYe25",
        "colab_type": "code",
        "colab": {
          "base_uri": "https://localhost:8080/",
          "height": 34
        },
        "outputId": "e3972c16-751f-4c80-ae37-d251667ecfba"
      },
      "source": [
        "credit.ChgOffDate.isna().sum()"
      ],
      "execution_count": 45,
      "outputs": [
        {
          "output_type": "execute_result",
          "data": {
            "text/plain": [
              "734727"
            ]
          },
          "metadata": {
            "tags": []
          },
          "execution_count": 45
        }
      ]
    },
    {
      "cell_type": "code",
      "metadata": {
        "id": "qwgs_hq6aPxC",
        "colab_type": "code",
        "colab": {
          "base_uri": "https://localhost:8080/",
          "height": 34
        },
        "outputId": "ba12a1de-81ed-4eda-f375-69fb5565a9ee"
      },
      "source": [
        "credit.shape[0] - 736465"
      ],
      "execution_count": 46,
      "outputs": [
        {
          "output_type": "execute_result",
          "data": {
            "text/plain": [
              "160698"
            ]
          },
          "metadata": {
            "tags": []
          },
          "execution_count": 46
        }
      ]
    },
    {
      "cell_type": "code",
      "metadata": {
        "id": "M_DMK2uQXLRQ",
        "colab_type": "code",
        "colab": {
          "base_uri": "https://localhost:8080/",
          "height": 218
        },
        "outputId": "dff5cc66-6d79-4e0c-868c-5811dafe0205"
      },
      "source": [
        "credit[credit.ChgOffDate.isna()!=True].ChgOffDate.value_counts()"
      ],
      "execution_count": 47,
      "outputs": [
        {
          "output_type": "execute_result",
          "data": {
            "text/plain": [
              "13-Mar-10    733\n",
              "20-Feb-10    611\n",
              "30-Jan-10    517\n",
              "6-Feb-10     460\n",
              "6-Mar-10     420\n",
              "            ... \n",
              "24-Jun-05      1\n",
              "15-Jun-03      1\n",
              "14-Jan-00      1\n",
              "13-Nov-98      1\n",
              "21-Apr-92      1\n",
              "Name: ChgOffDate, Length: 6443, dtype: int64"
            ]
          },
          "metadata": {
            "tags": []
          },
          "execution_count": 47
        }
      ]
    },
    {
      "cell_type": "code",
      "metadata": {
        "id": "KYu7iNQVaWSW",
        "colab_type": "code",
        "colab": {}
      },
      "source": [
        "#I made little investigation about ChgOffDate feature: we have 162699 paid cases and 736465 NAs \n",
        "#seems like if credit is paid then there is an NA in this featue. default date = default case.\n"
      ],
      "execution_count": 0,
      "outputs": []
    },
    {
      "cell_type": "code",
      "metadata": {
        "id": "ZDv__XLgX6pd",
        "colab_type": "code",
        "colab": {}
      },
      "source": [
        "#So, we will just drop this feature.\n",
        "credit = credit.drop(axis =1, columns = ['ChgOffDate'])"
      ],
      "execution_count": 0,
      "outputs": []
    },
    {
      "cell_type": "code",
      "metadata": {
        "id": "dA28aYAjXofe",
        "colab_type": "code",
        "colab": {
          "base_uri": "https://localhost:8080/",
          "height": 34
        },
        "outputId": "d4eff39c-8600-4558-f473-a697d299b834"
      },
      "source": [
        "credit.shape"
      ],
      "execution_count": 49,
      "outputs": [
        {
          "output_type": "execute_result",
          "data": {
            "text/plain": [
              "(897163, 25)"
            ]
          },
          "metadata": {
            "tags": []
          },
          "execution_count": 49
        }
      ]
    },
    {
      "cell_type": "code",
      "metadata": {
        "id": "u4OK6538bh61",
        "colab_type": "code",
        "colab": {}
      },
      "source": [
        ""
      ],
      "execution_count": 0,
      "outputs": []
    },
    {
      "cell_type": "code",
      "metadata": {
        "id": "Y9GDAzbpYHcN",
        "colab_type": "code",
        "colab": {
          "base_uri": "https://localhost:8080/",
          "height": 34
        },
        "outputId": "127f10f2-6187-4465-f35b-c49729f057fb"
      },
      "source": [
        "#Next, I want to clean my dependent variable - MIS_Status drop NAs and change dtype from object to integer.\n",
        "#1 - grant a loan (low risk of default), 0 - do not grant a loan (high risk of default)\n",
        "\n",
        "loan_status = {'P I F': 1,'CHGOFF': 0} \n",
        "credit.MIS_Status = [loan_status[item] for item in credit.MIS_Status] \n",
        "\n",
        "Counter(credit.MIS_Status).keys() "
      ],
      "execution_count": 50,
      "outputs": [
        {
          "output_type": "execute_result",
          "data": {
            "text/plain": [
              "dict_keys([1, 0])"
            ]
          },
          "metadata": {
            "tags": []
          },
          "execution_count": 50
        }
      ]
    },
    {
      "cell_type": "code",
      "metadata": {
        "id": "F1MrrAwzYH9O",
        "colab_type": "code",
        "colab": {
          "base_uri": "https://localhost:8080/",
          "height": 34
        },
        "outputId": "113d82fe-019f-484d-c1ca-f9599b63e022"
      },
      "source": [
        "Counter(credit.MIS_Status).values() # count values 739607 = \"1\" against 157556 = \"0\""
      ],
      "execution_count": 51,
      "outputs": [
        {
          "output_type": "execute_result",
          "data": {
            "text/plain": [
              "dict_values([739607, 157556])"
            ]
          },
          "metadata": {
            "tags": []
          },
          "execution_count": 51
        }
      ]
    },
    {
      "cell_type": "code",
      "metadata": {
        "id": "_7XFI1micQHJ",
        "colab_type": "code",
        "colab": {}
      },
      "source": [
        "#According to the document we have, 5 columns are with currency values. I want to change all of them to the float.\n",
        "#This will help us see the corealation of currency to our target value.\n",
        "currency = [19,20,22,23,24] #To convert to float."
      ],
      "execution_count": 0,
      "outputs": []
    },
    {
      "cell_type": "code",
      "metadata": {
        "id": "VfL6ARQ7cQsI",
        "colab_type": "code",
        "colab": {
          "base_uri": "https://localhost:8080/",
          "height": 195
        },
        "outputId": "49260b81-92d2-4097-c3a9-0ceb21810b22"
      },
      "source": [
        "credit[credit.columns[currency]].head(5)"
      ],
      "execution_count": 53,
      "outputs": [
        {
          "output_type": "execute_result",
          "data": {
            "text/html": [
              "<div>\n",
              "<style scoped>\n",
              "    .dataframe tbody tr th:only-of-type {\n",
              "        vertical-align: middle;\n",
              "    }\n",
              "\n",
              "    .dataframe tbody tr th {\n",
              "        vertical-align: top;\n",
              "    }\n",
              "\n",
              "    .dataframe thead th {\n",
              "        text-align: right;\n",
              "    }\n",
              "</style>\n",
              "<table border=\"1\" class=\"dataframe\">\n",
              "  <thead>\n",
              "    <tr style=\"text-align: right;\">\n",
              "      <th></th>\n",
              "      <th>DisbursementGross</th>\n",
              "      <th>BalanceGross</th>\n",
              "      <th>ChgOffPrinGr</th>\n",
              "      <th>GrAppv</th>\n",
              "      <th>SBA_Appv</th>\n",
              "    </tr>\n",
              "  </thead>\n",
              "  <tbody>\n",
              "    <tr>\n",
              "      <th>0</th>\n",
              "      <td>$60,000.00</td>\n",
              "      <td>$0.00</td>\n",
              "      <td>$0.00</td>\n",
              "      <td>$60,000.00</td>\n",
              "      <td>$48,000.00</td>\n",
              "    </tr>\n",
              "    <tr>\n",
              "      <th>1</th>\n",
              "      <td>$40,000.00</td>\n",
              "      <td>$0.00</td>\n",
              "      <td>$0.00</td>\n",
              "      <td>$40,000.00</td>\n",
              "      <td>$32,000.00</td>\n",
              "    </tr>\n",
              "    <tr>\n",
              "      <th>2</th>\n",
              "      <td>$287,000.00</td>\n",
              "      <td>$0.00</td>\n",
              "      <td>$0.00</td>\n",
              "      <td>$287,000.00</td>\n",
              "      <td>$215,250.00</td>\n",
              "    </tr>\n",
              "    <tr>\n",
              "      <th>3</th>\n",
              "      <td>$35,000.00</td>\n",
              "      <td>$0.00</td>\n",
              "      <td>$0.00</td>\n",
              "      <td>$35,000.00</td>\n",
              "      <td>$28,000.00</td>\n",
              "    </tr>\n",
              "    <tr>\n",
              "      <th>4</th>\n",
              "      <td>$229,000.00</td>\n",
              "      <td>$0.00</td>\n",
              "      <td>$0.00</td>\n",
              "      <td>$229,000.00</td>\n",
              "      <td>$229,000.00</td>\n",
              "    </tr>\n",
              "  </tbody>\n",
              "</table>\n",
              "</div>"
            ],
            "text/plain": [
              "  DisbursementGross BalanceGross ChgOffPrinGr        GrAppv      SBA_Appv\n",
              "0       $60,000.00        $0.00        $0.00    $60,000.00    $48,000.00 \n",
              "1       $40,000.00        $0.00        $0.00    $40,000.00    $32,000.00 \n",
              "2      $287,000.00        $0.00        $0.00   $287,000.00   $215,250.00 \n",
              "3       $35,000.00        $0.00        $0.00    $35,000.00    $28,000.00 \n",
              "4      $229,000.00        $0.00        $0.00   $229,000.00   $229,000.00 "
            ]
          },
          "metadata": {
            "tags": []
          },
          "execution_count": 53
        }
      ]
    },
    {
      "cell_type": "code",
      "metadata": {
        "id": "77yCCcsGYInQ",
        "colab_type": "code",
        "colab": {}
      },
      "source": [
        "\n",
        "for i in currency:\n",
        "    credit[credit.columns[i]] = credit[credit.columns[i]].replace('[\\$,]', '', regex=True).astype(float) "
      ],
      "execution_count": 0,
      "outputs": []
    },
    {
      "cell_type": "code",
      "metadata": {
        "id": "4EaJEMG1YH6c",
        "colab_type": "code",
        "colab": {
          "base_uri": "https://localhost:8080/",
          "height": 195
        },
        "outputId": "5c72f454-4cb9-4af7-9d63-d3c3783a736f"
      },
      "source": [
        "credit[credit.columns[currency]].head(5)"
      ],
      "execution_count": 55,
      "outputs": [
        {
          "output_type": "execute_result",
          "data": {
            "text/html": [
              "<div>\n",
              "<style scoped>\n",
              "    .dataframe tbody tr th:only-of-type {\n",
              "        vertical-align: middle;\n",
              "    }\n",
              "\n",
              "    .dataframe tbody tr th {\n",
              "        vertical-align: top;\n",
              "    }\n",
              "\n",
              "    .dataframe thead th {\n",
              "        text-align: right;\n",
              "    }\n",
              "</style>\n",
              "<table border=\"1\" class=\"dataframe\">\n",
              "  <thead>\n",
              "    <tr style=\"text-align: right;\">\n",
              "      <th></th>\n",
              "      <th>DisbursementGross</th>\n",
              "      <th>BalanceGross</th>\n",
              "      <th>ChgOffPrinGr</th>\n",
              "      <th>GrAppv</th>\n",
              "      <th>SBA_Appv</th>\n",
              "    </tr>\n",
              "  </thead>\n",
              "  <tbody>\n",
              "    <tr>\n",
              "      <th>0</th>\n",
              "      <td>60000.0</td>\n",
              "      <td>0.0</td>\n",
              "      <td>0.0</td>\n",
              "      <td>60000.0</td>\n",
              "      <td>48000.0</td>\n",
              "    </tr>\n",
              "    <tr>\n",
              "      <th>1</th>\n",
              "      <td>40000.0</td>\n",
              "      <td>0.0</td>\n",
              "      <td>0.0</td>\n",
              "      <td>40000.0</td>\n",
              "      <td>32000.0</td>\n",
              "    </tr>\n",
              "    <tr>\n",
              "      <th>2</th>\n",
              "      <td>287000.0</td>\n",
              "      <td>0.0</td>\n",
              "      <td>0.0</td>\n",
              "      <td>287000.0</td>\n",
              "      <td>215250.0</td>\n",
              "    </tr>\n",
              "    <tr>\n",
              "      <th>3</th>\n",
              "      <td>35000.0</td>\n",
              "      <td>0.0</td>\n",
              "      <td>0.0</td>\n",
              "      <td>35000.0</td>\n",
              "      <td>28000.0</td>\n",
              "    </tr>\n",
              "    <tr>\n",
              "      <th>4</th>\n",
              "      <td>229000.0</td>\n",
              "      <td>0.0</td>\n",
              "      <td>0.0</td>\n",
              "      <td>229000.0</td>\n",
              "      <td>229000.0</td>\n",
              "    </tr>\n",
              "  </tbody>\n",
              "</table>\n",
              "</div>"
            ],
            "text/plain": [
              "   DisbursementGross  BalanceGross  ChgOffPrinGr    GrAppv  SBA_Appv\n",
              "0            60000.0           0.0           0.0   60000.0   48000.0\n",
              "1            40000.0           0.0           0.0   40000.0   32000.0\n",
              "2           287000.0           0.0           0.0  287000.0  215250.0\n",
              "3            35000.0           0.0           0.0   35000.0   28000.0\n",
              "4           229000.0           0.0           0.0  229000.0  229000.0"
            ]
          },
          "metadata": {
            "tags": []
          },
          "execution_count": 55
        }
      ]
    },
    {
      "cell_type": "code",
      "metadata": {
        "id": "2bVnaSPcdM6z",
        "colab_type": "code",
        "colab": {
          "base_uri": "https://localhost:8080/",
          "height": 118
        },
        "outputId": "0d9c15aa-aed7-4286-e69a-5f7d1131c452"
      },
      "source": [
        "credit[credit.columns[currency]].dtypes"
      ],
      "execution_count": 56,
      "outputs": [
        {
          "output_type": "execute_result",
          "data": {
            "text/plain": [
              "DisbursementGross    float64\n",
              "BalanceGross         float64\n",
              "ChgOffPrinGr         float64\n",
              "GrAppv               float64\n",
              "SBA_Appv             float64\n",
              "dtype: object"
            ]
          },
          "metadata": {
            "tags": []
          },
          "execution_count": 56
        }
      ]
    },
    {
      "cell_type": "code",
      "metadata": {
        "id": "iLGqjfujdVEo",
        "colab_type": "code",
        "colab": {
          "base_uri": "https://localhost:8080/",
          "height": 454
        },
        "outputId": "21d537fe-d761-41e4-ef74-6743b51be576"
      },
      "source": [
        "#Looks good.\n",
        "credit.isnull().sum()"
      ],
      "execution_count": 57,
      "outputs": [
        {
          "output_type": "execute_result",
          "data": {
            "text/plain": [
              "LoanNr_ChkDgt           0\n",
              "City                    0\n",
              "State                   0\n",
              "Zip                     0\n",
              "Bank                 1505\n",
              "BankState            1512\n",
              "NAICS                   0\n",
              "ApprovalDate            0\n",
              "ApprovalFY              0\n",
              "Term                    0\n",
              "NoEmp                   0\n",
              "NewExist              134\n",
              "CreateJob               0\n",
              "RetainedJob             0\n",
              "FranchiseCode           0\n",
              "UrbanRural              0\n",
              "RevLineCr            4520\n",
              "LowDoc               2578\n",
              "DisbursementDate     2175\n",
              "DisbursementGross       0\n",
              "BalanceGross            0\n",
              "MIS_Status              0\n",
              "ChgOffPrinGr            0\n",
              "GrAppv                  0\n",
              "SBA_Appv                0\n",
              "dtype: int64"
            ]
          },
          "metadata": {
            "tags": []
          },
          "execution_count": 57
        }
      ]
    },
    {
      "cell_type": "code",
      "metadata": {
        "id": "L-KIKTw9dcMB",
        "colab_type": "code",
        "colab": {
          "base_uri": "https://localhost:8080/",
          "height": 54
        },
        "outputId": "6c633ee1-6e61-4a5c-db20-7f93a39f251e"
      },
      "source": [
        "#Next feature is New Exist. According to the document\n",
        "#1 = Existing business, 2 = New business \n",
        "#And at this moment we have 134 NAs\n",
        "Counter(credit.NewExist).keys() # unique values"
      ],
      "execution_count": 58,
      "outputs": [
        {
          "output_type": "execute_result",
          "data": {
            "text/plain": [
              "dict_keys([2.0, 1.0, 0.0, nan, nan, nan, nan, nan, nan, nan, nan, nan, nan, nan, nan, nan, nan, nan, nan, nan, nan, nan, nan, nan, nan, nan, nan, nan, nan, nan, nan, nan, nan, nan, nan, nan, nan, nan, nan, nan, nan, nan, nan, nan, nan, nan, nan, nan, nan, nan, nan, nan, nan, nan, nan, nan, nan, nan, nan, nan, nan, nan, nan, nan, nan, nan, nan, nan, nan, nan, nan, nan, nan, nan, nan, nan, nan, nan, nan, nan, nan, nan, nan, nan, nan, nan, nan, nan, nan, nan, nan, nan, nan, nan, nan, nan, nan, nan, nan, nan, nan, nan, nan, nan, nan, nan, nan, nan, nan, nan, nan, nan, nan, nan, nan, nan, nan, nan, nan, nan, nan, nan, nan, nan, nan, nan, nan, nan, nan, nan, nan, nan, nan, nan, nan, nan, nan])"
            ]
          },
          "metadata": {
            "tags": []
          },
          "execution_count": 58
        }
      ]
    },
    {
      "cell_type": "code",
      "metadata": {
        "id": "oRFRTv2WdojZ",
        "colab_type": "code",
        "colab": {
          "base_uri": "https://localhost:8080/",
          "height": 54
        },
        "outputId": "f1652a77-c712-44b1-95f1-6af48f18cc05"
      },
      "source": [
        "Counter(credit.NewExist).values() # count values \n",
        "#In fact, we have more than 136 NAs. \n",
        "#252559 = New business\n",
        "#643443 = Existing business\n",
        "#1027 = \"0\" whatever it means\n",
        "#134 = nan as we can see from previous output"
      ],
      "execution_count": 59,
      "outputs": [
        {
          "output_type": "execute_result",
          "data": {
            "text/plain": [
              "dict_values([252559, 643443, 1027, 1, 1, 1, 1, 1, 1, 1, 1, 1, 1, 1, 1, 1, 1, 1, 1, 1, 1, 1, 1, 1, 1, 1, 1, 1, 1, 1, 1, 1, 1, 1, 1, 1, 1, 1, 1, 1, 1, 1, 1, 1, 1, 1, 1, 1, 1, 1, 1, 1, 1, 1, 1, 1, 1, 1, 1, 1, 1, 1, 1, 1, 1, 1, 1, 1, 1, 1, 1, 1, 1, 1, 1, 1, 1, 1, 1, 1, 1, 1, 1, 1, 1, 1, 1, 1, 1, 1, 1, 1, 1, 1, 1, 1, 1, 1, 1, 1, 1, 1, 1, 1, 1, 1, 1, 1, 1, 1, 1, 1, 1, 1, 1, 1, 1, 1, 1, 1, 1, 1, 1, 1, 1, 1, 1, 1, 1, 1, 1, 1, 1, 1, 1, 1, 1])"
            ]
          },
          "metadata": {
            "tags": []
          },
          "execution_count": 59
        }
      ]
    },
    {
      "cell_type": "code",
      "metadata": {
        "id": "JBoCdQB-dxvN",
        "colab_type": "code",
        "colab": {}
      },
      "source": [
        "#We have a feature 'RetainedJob' - From the document, it shows number of jobs retained. \n",
        "#I can assume that if loan retains some jobs it is an existing business.\n",
        "# I will create a condition and iterate through loop to \n",
        "#assign new value \"1\" which is Existing business to those rows where Retained Job is >= 1\n",
        "cond_2 = credit[(credit['NewExist'] == 0) & (credit['RetainedJob'] >=1)].index\n"
      ],
      "execution_count": 0,
      "outputs": []
    },
    {
      "cell_type": "code",
      "metadata": {
        "id": "3GO3tlEYeLt_",
        "colab_type": "code",
        "colab": {
          "base_uri": "https://localhost:8080/",
          "height": 118
        },
        "outputId": "99a5387c-33c7-4695-87b6-ab92792407a1"
      },
      "source": [
        "cond_2"
      ],
      "execution_count": 61,
      "outputs": [
        {
          "output_type": "execute_result",
          "data": {
            "text/plain": [
              "Int64Index([  4664,   7102,  43542,  54085,  62103,  70090,  72727, 159846,\n",
              "            170936, 189521,\n",
              "            ...\n",
              "            818075, 824799, 833868, 856428, 858315, 859361, 864594, 868354,\n",
              "            879332, 882387],\n",
              "           dtype='int64', length=153)"
            ]
          },
          "metadata": {
            "tags": []
          },
          "execution_count": 61
        }
      ]
    },
    {
      "cell_type": "code",
      "metadata": {
        "id": "6638kpQJeKiw",
        "colab_type": "code",
        "colab": {}
      },
      "source": [
        "for i in cond_2:\n",
        "    credit.loc[i,['NewExist']] = 1 "
      ],
      "execution_count": 0,
      "outputs": []
    },
    {
      "cell_type": "code",
      "metadata": {
        "id": "Pm_0QDmYemM_",
        "colab_type": "code",
        "colab": {}
      },
      "source": [
        "#Next we will do the same thing with another condition: isnull and Retained Job >=1\n",
        "cond_3 = credit[(credit.NewExist.isnull()) & (credit['RetainedJob'] >=1)].index\n"
      ],
      "execution_count": 0,
      "outputs": []
    },
    {
      "cell_type": "code",
      "metadata": {
        "id": "_JqliNyFevLU",
        "colab_type": "code",
        "colab": {
          "base_uri": "https://localhost:8080/",
          "height": 118
        },
        "outputId": "37983b09-d6e7-49ef-b8e7-c542f4576a94"
      },
      "source": [
        "cond_3"
      ],
      "execution_count": 64,
      "outputs": [
        {
          "output_type": "execute_result",
          "data": {
            "text/plain": [
              "Int64Index([395231, 399884, 400052, 400300, 400370, 400506, 400769, 402560,\n",
              "            402605, 402785,\n",
              "            ...\n",
              "            462861, 463949, 464945, 466405, 466736, 470308, 471939, 498244,\n",
              "            512594, 611835],\n",
              "           dtype='int64', length=115)"
            ]
          },
          "metadata": {
            "tags": []
          },
          "execution_count": 64
        }
      ]
    },
    {
      "cell_type": "code",
      "metadata": {
        "id": "Xuea5NG2etfm",
        "colab_type": "code",
        "colab": {}
      },
      "source": [
        "for i in cond_3:\n",
        "    credit.loc[i,['NewExist']] = 1  "
      ],
      "execution_count": 0,
      "outputs": []
    },
    {
      "cell_type": "code",
      "metadata": {
        "id": "7et9LIh_e0K9",
        "colab_type": "code",
        "colab": {
          "base_uri": "https://localhost:8080/",
          "height": 34
        },
        "outputId": "25c20071-f1ae-4d54-c58d-b6d1b5aa35eb"
      },
      "source": [
        "#I will check if there are default cases in these rows.\n",
        "credit[(credit['NewExist'] == 0) & (credit['MIS_Status'] == 0)].shape #60 rows\n"
      ],
      "execution_count": 66,
      "outputs": [
        {
          "output_type": "execute_result",
          "data": {
            "text/plain": [
              "(60, 25)"
            ]
          },
          "metadata": {
            "tags": []
          },
          "execution_count": 66
        }
      ]
    },
    {
      "cell_type": "code",
      "metadata": {
        "id": "nGTnCchKe7Zd",
        "colab_type": "code",
        "colab": {
          "base_uri": "https://localhost:8080/",
          "height": 114
        },
        "outputId": "c75f1ff8-1d16-4d09-956e-214cf41e6fc7"
      },
      "source": [
        "credit[(credit.NewExist.isnull()) & (credit['MIS_Status'] == 0)] #1 row\n",
        "#Our goal is to impute 61 rows in NewExist and we can delete others."
      ],
      "execution_count": 67,
      "outputs": [
        {
          "output_type": "execute_result",
          "data": {
            "text/html": [
              "<div>\n",
              "<style scoped>\n",
              "    .dataframe tbody tr th:only-of-type {\n",
              "        vertical-align: middle;\n",
              "    }\n",
              "\n",
              "    .dataframe tbody tr th {\n",
              "        vertical-align: top;\n",
              "    }\n",
              "\n",
              "    .dataframe thead th {\n",
              "        text-align: right;\n",
              "    }\n",
              "</style>\n",
              "<table border=\"1\" class=\"dataframe\">\n",
              "  <thead>\n",
              "    <tr style=\"text-align: right;\">\n",
              "      <th></th>\n",
              "      <th>LoanNr_ChkDgt</th>\n",
              "      <th>City</th>\n",
              "      <th>State</th>\n",
              "      <th>Zip</th>\n",
              "      <th>Bank</th>\n",
              "      <th>BankState</th>\n",
              "      <th>NAICS</th>\n",
              "      <th>ApprovalDate</th>\n",
              "      <th>ApprovalFY</th>\n",
              "      <th>Term</th>\n",
              "      <th>NoEmp</th>\n",
              "      <th>NewExist</th>\n",
              "      <th>CreateJob</th>\n",
              "      <th>RetainedJob</th>\n",
              "      <th>FranchiseCode</th>\n",
              "      <th>UrbanRural</th>\n",
              "      <th>RevLineCr</th>\n",
              "      <th>LowDoc</th>\n",
              "      <th>DisbursementDate</th>\n",
              "      <th>DisbursementGross</th>\n",
              "      <th>BalanceGross</th>\n",
              "      <th>MIS_Status</th>\n",
              "      <th>ChgOffPrinGr</th>\n",
              "      <th>GrAppv</th>\n",
              "      <th>SBA_Appv</th>\n",
              "    </tr>\n",
              "  </thead>\n",
              "  <tbody>\n",
              "    <tr>\n",
              "      <th>433834</th>\n",
              "      <td>4203385009</td>\n",
              "      <td>SITKA</td>\n",
              "      <td>AK</td>\n",
              "      <td>99835</td>\n",
              "      <td>NORTHRIM BANK</td>\n",
              "      <td>AK</td>\n",
              "      <td>561499</td>\n",
              "      <td>11-Aug-10</td>\n",
              "      <td>2010</td>\n",
              "      <td>82</td>\n",
              "      <td>1</td>\n",
              "      <td>NaN</td>\n",
              "      <td>1</td>\n",
              "      <td>0</td>\n",
              "      <td>0</td>\n",
              "      <td>2</td>\n",
              "      <td>N</td>\n",
              "      <td>N</td>\n",
              "      <td>11-Aug-10</td>\n",
              "      <td>15000.0</td>\n",
              "      <td>0.0</td>\n",
              "      <td>0</td>\n",
              "      <td>10718.0</td>\n",
              "      <td>15000.0</td>\n",
              "      <td>12750.0</td>\n",
              "    </tr>\n",
              "  </tbody>\n",
              "</table>\n",
              "</div>"
            ],
            "text/plain": [
              "        LoanNr_ChkDgt   City State  ...  ChgOffPrinGr   GrAppv SBA_Appv\n",
              "433834     4203385009  SITKA    AK  ...       10718.0  15000.0  12750.0\n",
              "\n",
              "[1 rows x 25 columns]"
            ]
          },
          "metadata": {
            "tags": []
          },
          "execution_count": 67
        }
      ]
    },
    {
      "cell_type": "code",
      "metadata": {
        "id": "ym1YfYEefhNT",
        "colab_type": "code",
        "colab": {
          "base_uri": "https://localhost:8080/",
          "height": 54
        },
        "outputId": "67881c5b-511f-43a1-b7b3-a2b5660aad18"
      },
      "source": [
        "#Ok, we continue our investigation.\n",
        "#Interesting column - \"FranchiseCode\":\n",
        "#Nofranchise = 0 or 1\n",
        "#Franchise code = other numbers\n",
        "#My assumption is if Franchise code != 0 and != 1, maybe it is a New Business, not the existing one.\n",
        "#Someone gets a franchise and opens a Starbucks in the city.\n",
        "Counter(credit.FranchiseCode).keys() #51732 Franchise Loans"
      ],
      "execution_count": 68,
      "outputs": [
        {
          "output_type": "execute_result",
          "data": {
            "text/plain": [
              "dict_keys([1, 0, 15100, 19755, 10656, 22470, 16267, 21425, 3490, 66320, 77175, 21400, 10495, 50949, 20550, 950, 78760, 84025, 50564, 68060, 10676, 10397, 23997, 51570, 70405, 81612, 36002, 16920, 67759, 81965, 39598, 75982, 90725, 9802, 17205, 23379, 80600, 22475, 10602, 78325, 401, 40472, 73675, 17998, 39700, 21420, 23000, 72590, 79140, 68021, 65925, 71456, 10622, 8380, 44081, 10528, 6410, 52000, 83882, 21780, 10734, 60227, 38510, 77174, 89769, 75385, 10615, 10556, 9050, 42520, 68020, 45455, 66910, 9800, 81630, 10720, 6560, 27765, 65140, 85100, 64985, 64960, 53250, 24850, 75710, 10643, 59450, 25650, 56480, 50040, 62343, 35706, 52956, 55120, 36680, 16310, 3515, 61400, 90703, 46413, 1350, 49952, 43700, 68150, 50028, 4516, 84535, 3512, 39238, 35300, 75985, 56837, 45479, 33570, 46408, 20728, 70130, 67750, 88660, 61901, 37000, 10729, 79950, 73900, 66690, 33550, 67400, 10691, 62753, 85150, 75900, 35705, 61900, 82360, 8047, 74820, 30207, 10200, 21790, 825, 34459, 15668, 19118, 90900, 43351, 65160, 70651, 8015, 67735, 30210, 48450, 31150, 46875, 75000, 8045, 43579, 10605, 46885, 75100, 67550, 17750, 9202, 26650, 22678, 20487, 81602, 76418, 65150, 35635, 55512, 30233, 65145, 70554, 10465, 1493, 36260, 56885, 10603, 50140, 59883, 52018, 48000, 36355, 36204, 41790, 32074, 77027, 9130, 80085, 55185, 89627, 70150, 54600, 40701, 47400, 35703, 53165, 64950, 45150, 90708, 34850, 17524, 29600, 10611, 79165, 22680, 16313, 2929, 71658, 21800, 77380, 53657, 1560, 10737, 85325, 33750, 39555, 81570, 41800, 22676, 90800, 89352, 84077, 80850, 51720, 59550, 10494, 55960, 77875, 15713, 25360, 18000, 2920, 77082, 83450, 76290, 45890, 20750, 88355, 71685, 11245, 18925, 90709, 89090, 68175, 91283, 2105, 38601, 56920, 54100, 73000, 5725, 45505, 50860, 60590, 46561, 73525, 64650, 17100, 53650, 33170, 52707, 64975, 37011, 14348, 66615, 24015, 40665, 10501, 20124, 74750, 34830, 43552, 36560, 30880, 74410, 68250, 81550, 34550, 10741, 79928, 77020, 17460, 30200, 45100, 72515, 38560, 28883, 40666, 26553, 78755, 66345, 67212, 88230, 59979, 66190, 89655, 62907, 32077, 17584, 29580, 16868, 35620, 20546, 80979, 41299, 81800, 75719, 35685, 26879, 75410, 84725, 84300, 42533, 46250, 67721, 89640, 8023, 38615, 31243, 80025, 79305, 67966, 29578, 37051, 38605, 84090, 63810, 37471, 50850, 16280, 4150, 9700, 77885, 75355, 9118, 15710, 66450, 40700, 45495, 31300, 32195, 68911, 5650, 17900, 52875, 68876, 32130, 55524, 4162, 61401, 41454, 55193, 17669, 82296, 10474, 50525, 84323, 78950, 82150, 38600, 61897, 26575, 80377, 21660, 4745, 84042, 65141, 48260, 33470, 80159, 41439, 10481, 34650, 64870, 70670, 87050, 42599, 79153, 28370, 50845, 11250, 6620, 16033, 89785, 35711, 9708, 58618, 10609, 29582, 64656, 21870, 17150, 50565, 67255, 47520, 16314, 60020, 41433, 76955, 10489, 29115, 74789, 25850, 79902, 89652, 76282, 44350, 51778, 17870, 31415, 52300, 24030, 56880, 26556, 82220, 66350, 52855, 4250, 63815, 4065, 58723, 45955, 44725, 69058, 69149, 51560, 39590, 2357, 46336, 67753, 56925, 69146, 10682, 2930, 24745, 37469, 45915, 29976, 34060, 84060, 49855, 9201, 1499, 48400, 67720, 58685, 66200, 70552, 7925, 91280, 28911, 62346, 62751, 78750, 71158, 60525, 64200, 24039, 76185, 42580, 81597, 68217, 91350, 10776, 54400, 61390, 60567, 85353, 62100, 46815, 15823, 40740, 40704, 59225, 3500, 41850, 64990, 38750, 36758, 88310, 35619, 26871, 55955, 84255, 20122, 25656, 53680, 43582, 36757, 57000, 84475, 20549, 29720, 90909, 73793, 79725, 30811, 72683, 85029, 23375, 62760, 20100, 46414, 60099, 41300, 43555, 79200, 37481, 79727, 26899, 26685, 20710, 61603, 56575, 59952, 73005, 15980, 6140, 54005, 68905, 50965, 50520, 47759, 9650, 64181, 27255, 78350, 32125, 42600, 68255, 67219, 38755, 10557, 29585, 800, 29652, 78330, 9120, 10484, 44066, 84319, 18090, 83350, 24027, 51702, 34845, 35320, 82040, 20359, 17230, 52070, 10580, 30229, 67430, 18126, 79105, 23110, 54010, 86724, 64900, 44062, 18927, 70125, 47756, 87075, 10708, 88904, 1502, 6305, 34849, 41298, 67420, 61885, 55815, 65953, 21105, 32200, 18898, 64755, 24419, 9801, 64205, 4417, 10649, 56884, 63897, 67280, 87429, 64977, 69998, 9810, 3, 35600, 15805, 46410, 44073, 47210, 37525, 35605, 80300, 26876, 66694, 39245, 64853, 44890, 69560, 46651, 32055, 74180, 10686, 82234, 64750, 13000, 91297, 55650, 9804, 60753, 61391, 34900, 74770, 80190, 67417, 18510, 21580, 30761, 28882, 50954, 29900, 9235, 65845, 23540, 10482, 54390, 46455, 21669, 10533, 55513, 55519, 10529, 10625, 68079, 20715, 47500, 17920, 63116, 10621, 80379, 60275, 21180, 76346, 68179, 85300, 42629, 9750, 42610, 57275, 24902, 10521, 44605, 47854, 31241, 72685, 19655, 53290, 62360, 81582, 10573, 71000, 34005, 29912, 78337, 79115, 42620, 46720, 89350, 17210, 4200, 16455, 20957, 84273, 63345, 34450, 23104, 52900, 84560, 48550, 82825, 73660, 61915, 90795, 22375, 42530, 75050, 43783, 62460, 10572, 56800, 29889, 24957, 84105, 61384, 54300, 69143, 71010, 67975, 900, 6125, 36753, 49820, 88200, 25039, 76188, 10466, 20498, 34659, 91276, 2917, 58713, 52225, 2299, 79350, 38205, 9110, 47859, 68451, 20705, 17472, 16165, 24955, 75988, 7990, 30425, 62850, 74000, 33155, 39242, 4416, 43200, 67170, 50567, 26870, 30757, 68363, 70671, 74747, 38765, 80989, 82769, 30780, 17256, 75950, 10577, 75380, 10546, 16180, 42800, 34652, 53162, 35629, 24414, 20149, 61398, 62348, 56230, 76527, 50990, 68880, 40470, 89650, 84460, 81574, 10275, 6612, 32136, 17049, 91999, 10701, 6829, 44045, 28229, 69585, 78450, 8425, 20725, 31352, 52891, 18145, 10668, 10581, 41010, 36564, 76270, 30510, 1500, 6050, 35326, 9450, 45300, 63175, 31240, 70580, 28236, 44080, 37476, 35627, 17646, 31249, 81699, 84087, 50535, 44037, 10689, 10651, 53310, 10561, 8040, 20941, 89625, 63350, 15210, 39241, 10496, 76149, 28230, 79301, 55825, 18705, 37225, 84078, 17260, 23377, 10584, 88425, 18160, 45145, 81586, 38850, 74407, 82426, 6054, 32070, 72215, 31157, 68000, 49200, 74305, 35625, 84500, 20105, 44006, 74782, 77410, 70121, 10527, 28880, 1357, 19110, 44059, 86720, 79220, 44053, 34350, 55680, 45806, 65100, 63854, 88875, 53325, 90895, 35710, 87450, 46059, 9149, 19550, 23115, 57270, 29114, 18150, 69075, 61299, 89629, 46808, 37435, 33125, 24959, 60792, 56818, 53300, 35500, 9651, 10559, 29125, 74302, 37060, 17050, 48038, 73522, 17581, 34654, 67197, 53145, 39246, 35707, 24960, 59560, 73516, 850, 52240, 12300, 17590, 25035, 61210, 35702, 83420, 62150, 41301, 2932, 89626, 19757, 73750, 26560, 74860, 71669, 9806, 44060, 15996, 19760, 8250, 33560, 18730, 36750, 58650, 81601, 10726, 57350, 70875, 61802, 56400, 76210, 69134, 15279, 17586, 90950, 10630, 29307, 10467, 34655, 6030, 27305, 78057, 74755, 28250, 31154, 70128, 78800, 28900, 54643, 64765, 3518, 45496, 39560, 50930, 89639, 10476, 24274, 407, 27300, 48815, 24650, 89775, 27780, 52079, 4160, 84093, 83938, 34859, 10505, 37474, 87347, 15278, 53160, 72595, 89658, 30820, 52245, 44040, 43640, 43302, 81625, 10626, 20123, 35610, 64995, 83877, 60000, 77895, 78650, 38614, 77890, 9237, 21735, 48818, 64651, 82419, 64882, 89630, 50581, 33185, 66641, 452, 90457, 16355, 58910, 4252, 47850, 14290, 61253, 37500, 56604, 45919, 20551, 48250, 26557, 43584, 2297, 81610, 67441, 58686, 67285, 36745, 66160, 59500, 45500, 26883, 69806, 30226, 64850, 58517, 71684, 21037, 38598, 55510, 36995, 44729, 10497, 27265, 61214, 16458, 16275, 45970, 40650, 81606, 68219, 53660, 63010, 485, 85304, 91253, 79169, 14754, 33150, 57300, 64862, 10648, 10703, 38240, 90700, 71660, 17583, 84260, 9250, 79152, 85322, 88901, 81566, 55427, 6131, 20718, 29116, 81961, 87588, 8200, 42483, 30215, 67715, 10469, 90961, 60300, 34513, 27259, 38158, 4262, 76760, 89637, 6500, 57601, 60232, 46050, 40709, 74810, 61896, 10450, 41310, 50039, 4509, 52250, 33563, 21169, 44065, 32071, 40718, 43571, 60800, 24001, 21177, 83900, 10690, 85363, 33485, 61627, 89750, 71170, 28953, 5649, 73748, 55990, 3557, 20720, 66691, 20961, 85010, 62905, 75460, 79116, 64655, 41410, 64600, 399, 67434, 53585, 23003, 2354, 19662, 35634, 13400, 47426, 30216, 51758, 36752, 4251, 20484, 68550, 58615, 34066, 10685, 1555, 41455, 89638, 46345, 395, 85360, 31225, 10570, 10461, 44033, 53950, 80374, 65152, 70879, 10614, 60277, 21585, 70556, 21165, 90918, 21804, 73795, 68025, 2107, 89624, 32418, 81960, 55430, 10535, 66643, 16862, 13830, 43580, 42525, 72500, 75917, 69564, 58616, 66486, 10631, 30204, 25366, 28954, 81555, 67174, 81607, 64211, 89645, 77185, 10950, 17657, 47406, 30208, 36003, 13853, 6153, 80360, 38610, 63895, 16450, 66347, 42000, 81595, 17587, 51956, 40475, 78360, 44007, 72377, 84321, 36756, 50530, 89641, 35626, 71194, 15919, 79955, 25668, 69130, 69110, 44067, 64976, 1503, 55652, 72990, 58724, 25562, 31227, 38608, 7596, 71946, 80500, 22368, 9230, 70129, 34061, 28233, 59880, 48606, 15700, 62950, 67410, 90815, 25438, 81611, 8002, 10458, 63187, 28228, 90715, 67742, 78340, 61389, 9234, 10479, 15922, 35306, 40659, 44600, 76285, 65250, 87009, 72495, 52898, 26135, 8054, 35323, 61898, 39234, 73086, 81614, 56840, 4452, 59505, 60026, 86690, 25417, 64978, 4074, 53316, 46401, 70008, 3708, 17865, 77900, 49753, 81623, 78366, 20155, 56221, 51805, 24845, 78059, 63863, 29523, 60804, 17265, 35624, 27400, 47996, 42639, 44009, 6559, 84339, 71675, 64652, 84094, 64212, 2100, 57285, 9246, 9228, 16905, 16867, 87344, 16038, 61890, 28232, 43587, 61906, 49975, 82500, 46322, 81621, 46061, 10560, 414, 20944, 23122, 64657, 39237, 9200, 12720, 56825, 60750, 470, 37430, 91168, 46750, 73104, 43788, 33165, 60235, 71455, 91110, 10618, 69543, 88404, 51500, 75677, 416, 44072, 26559, 28360, 10670, 89634, 69100, 27760, 10692, 8046, 25404, 71050, 7969, 26436, 56010, 15125, 62752, 38209, 87587, 63150, 49272, 46199, 9400, 33194, 55190, 67748, 80250, 50655, 54210, 80384, 14528, 21025, 86728, 14858, 10666, 10854, 9227, 78640, 77725, 82616, 24700, 29661, 85505, 44005, 73523, 10710, 42596, 52004, 15697, 58626, 68030, 60290, 10550, 90875, 24003, 88913, 22684, 29887, 26145, 71169, 48256, 52413, 29009, 74804, 63446, 56016, 47735, 39594, 10598, 56821, 81603, 72592, 944, 34838, 32210, 32053, 32205, 47751, 29237, 75467, 78384, 79120, 28350, 15270, 43770, 79897, 50523, 31370, 83347, 34491, 17985, 419, 73200, 77405, 16034, 9233, 52899, 88900, 80030, 8024, 48850, 69147, 62756, 9147, 46435, 37460, 43630, 68362, 64654, 15280, 10647, 88655, 78756, 74760, 42478, 43761, 53651, 78380, 35715, 77000, 90000, 78758, 42468, 62765, 67350, 18144, 79775, 24706, 27260, 1495, 76710, 8010, 44052, 63610, 56600, 24460, 10604, 420, 64609, 8656, 86680, 48500, 28555, 84069, 30505, 84466, 6133, 24420, 63300, 8044, 81790, 71453, 29719, 20960, 70549, 46550, 90956, 75076, 78060, 75980, 68147, 61500, 52265, 43785, 10652, 68870, 80370, 62903, 87405, 8650, 72600, 50560, 87350, 67746, 77899, 4154, 29730, 35713, 66904, 17215, 50025, 79730, 81560, 20152, 56824, 69805, 65010, 14200, 36999, 46557, 16916, 6139, 10502, 62450, 50909, 64885, 29310, 17200, 43750, 29980, 80915, 66660, 84340, 44078, 41420, 3553, 82139, 84495, 33210, 71720, 28960, 9709, 4072, 70757, 60234, 66900, 20355, 89208, 81589, 58850, 82610, 35307, 21428, 86488, 60315, 24260, 80604, 63605, 1570, 10794, 10579, 24654, 80000, 22677, 30423, 9115, 52007, 53700, 81906, 78237, 8653, 64857, 89648, 22660, 2367, 55212, 3560, 31360, 71947, 83790, 70760, 56836, 29524, 8247, 34890, 68864, 68180, 76750, 8050, 10574, 37490, 76279, 2914, 26554, 43568, 14700, 10483, 72380, 88407, 52414, 81605, 34839, 84522, 69140, 2918, 21500, 426, 99999, 61895, 66436, 81615, 50078, 29520, 51567, 51721, 17156, 63850, 43583, 64883, 71937, 37066, 41306, 32075, 38500, 50035, 39600, 85450, 89636, 49830, 41307, 69800, 37468, 50650, 89649, 19661, 10697, 1497, 38200, 59565, 84324, 55202, 79924, 40462, 65320, 21745, 42475, 47000, 21930, 25376, 2360, 58575, 72599, 9112, 71673, 46415, 38606, 11950, 91120, 56810, 32046, 10455, 24450, 43347, 58795, 64180, 6150, 77190, 50000, 48800, 45889, 6170, 88312, 16860, 18115, 91424, 88300, 82285, 79148, 67190, 76352, 79907, 60583, 10719, 55950, 35690, 25100, 400, 20966, 40702, 9249, 64185, 69125, 56220, 46990, 86735, 20780, 24802, 77375, 76180, 71670, 2359, 21781, 10739, 63650, 78230, 28879, 14225, 24958, 80988, 29234, 36425, 75335, 20125, 53286, 60010, 85280, 84030, 91450, 59950, 63894, 2925, 23350, 79800, 47050, 10724, 24658, 39235, 84352, 17219, 67960, 8000, 74400, 56890, 86731, 44015, 42545, 11900, 45140, 66635, 10596, 53460, 17585, 75365, 7998, 76600, 66952, 14219, 71160, 17520, 30450, 79000, 70180, 14220, 51950, 89330, 43578, 65505, 11235, 61260, 61397, 29270, 8048, 91420, 4750, 5670, 52910, 79114, 28875, 25390, 53295, 55511, 86580, 41429, 10662, 84110, 91443, 67210, 67767, 62455, 30821, 66666, 78331, 43573, 62990, 4500, 57600, 76143, 4258, 53905, 29530, 42474, 62700, 18020, 74773, 84305, 43720, 15602, 39300, 86504, 21900, 55670, 39243, 76415, 44070, 87001, 86710, 25201, 76256, 45912, 36455, 82850, 24970, 22690, 48810, 32060, 24455, 28950, 78240, 70755, 52012, 75381, 79121, 3892, 14179, 64886, 20106, 10722, 60752, 59780, 10779, 52419, 66954, 79720, 36005, 18890, 12550, 31414, 21890, 64997, 51716, 31252, 35628, 19660, 73745, 91446, 91162, 10620, 55505, 63365, 13050, 404, 51725, 17770, 48032, 78120, 47746, 77170, 835, 60794, 77500, 61625, 26140, 82141, 91423, 64884, 16865, 76930, 74802, 67961, 69121, 29702, 89631, 48805, 72690, 71696, 48265, 61290, 75432, 14424, 91107, 24421, 61615, 4491, 81580, 83876, 1525, 41100, 12545, 68170, 69145, 29300, 28124, 70124, 56915, 78759, 25410, 67185, 81620, 84088, 37439, 77037, 43810, 84059, 17627, 46055, 61275, 83300, 81613, 84360, 37472, 46049, 13008, 65149, 64945, 91181, 76416, 76115, 75060, 10553, 8435, 55180, 76959, 25000, 837, 81554, 67380, 67253, 46326, 24459, 68220, 51002, 26136, 71440, 48610, 68100, 33187, 81616, 14800, 87580, 34653, 14217, 42540, 32127, 74803, 53323, 51003, 68270, 63615, 13445, 85221, 3488, 62390, 28443, 10490, 52015, 58710, 55214, 29190, 40476, 44057, 81617, 60219, 91153, 38550, 91170, 75160, 82228, 70540, 61000, 71650, 91435, 80177, 11240, 82900, 88315, 84523, 68985, 80980, 22679, 47250, 9240, 64981, 87500, 65590, 46350, 88320, 700, 58800, 17255, 78329, 12900, 51777, 58920, 55210, 70001, 44400, 74740, 11005, 10547, 17990, 11397, 91310, 11002, 86738, 81591, 41400, 64589, 78328, 25440, 48390, 39240, 52865, 72382, 63890, 81608, 46252, 60751, 17745, 83910, 82458, 16315, 24050, 38226, 40760, 10731, 80910, 46057, 12614, 65860, 48030, 10671, 57100, 81900, 86560, 69995, 80350, 58730, 21700, 35618, 10569, 6405, 35640, 34510, 65500, 46992, 70136, 10613, 6407, 4455, 67215, 1510, 20093, 17650, 59860, 30227, 1494, 53880, 35350, 52903, 28239, 36950, 61899, 61497, 33166, 53324, 48613, 25550, 18560, 27304, 10742, 30758, 44627, 16257, 21725, 23100, 53714, 73760, 6561, 74005, 81860, 3700, 64660, 43570, 14292, 51700, 19500, 26550, 67275, 38760, 67765, 61385, 29888, 58668, 32067, 66310, 71130, 46201, 83430, 78055, 89788, 50150, 6142, 7965, 46327, 63852, 67172, 3898, 79304, 86485, 45910, 28440, 74850, 46420, 40660, 87072, 25600, 14885, 22399, 60002, 82425, 17910, 52320, 29135, 84490, 80603, 7600, 48378, 66903, 32190, 1491, 20959, 52200, 64768, 73740, 60282, 62340, 21720, 58675, 10589, 37465, 78420, 17775, 15925, 88905, 35717, 89633, 82395, 49215, 1498, 21605, 77010, 36480, 79726, 6750, 16880, 60790, 58720, 32175, 71680, 90500, 54625, 78425, 26600, 29590, 2900, 46425, 75315, 81598, 64355, 70649, 80940, 72518, 6505, 16254, 77746, 71950, 9243, 71200, 20950, 73003, 44050, 2362, 34400, 455, 66212, 70535, 62688, 68361, 47435, 42625, 42479, 45950, 89600, 80375, 67176, 38450, 15600, 67970, 10704, 6800, 10548, 64881, 45465, 22395, 81572, 39553, 17663, 61250, 10542, 50568, 33509, 9150, 4459, 40711, 43765, 39251, 10472, 36660, 66645, 7966, 28909, 48020, 56223, 33510, 28365, 81797, 20108, 32299, 1496, 50538, 35714, 6450, 84320, 60005, 82495, 38770, 64954, 10732, 55175, 10537, 71205, 28238, 89657, 56839, 84463, 39247, 61629, 29914, 88902, 28877, 10590, 28955, 80555, 44008, 66605, 79625, 31400, 14857, 59840, 2103, 30828, 73345, 79130, 6130, 7970, 30300, 71140, 60225, 35722, 22480, 47211, 63860, 3900, 15924, 66355, 89760, 85357, 39597, 27680, 82138, 9820, 10523, 70633, 2885, 32050, 90820, 35708, 3610, 5549, 33190, 42631, 71700, 22663, 70650, 17051, 92000, 46890, 82144, 41785, 4155, 38590, 71452, 77770, 15808, 46660, 91115, 4163, 48501, 3890, 33215, 30469, 36440, 76277, 70630, 56883, 62925, 73650, 36004, 67755, 72594, 84530, 67177, 64219, 27301, 17984, 61919, 87532, 34837, 80380, 79160, 32400, 29550, 16035, 39588, 28935, 46330, 45105, 10693, 4259, 75115, 9707, 40675, 17045, 58726, 35143, 82615, 81587, 4256, 36751, 61295, 69593, 44090, 62750, 39603, 91169, 84730, 51575, 24461, 51795, 67283, 63818, 34836, 67723, 89628, 38150, 78754, 6035, 20970, 77738, 52948, 4492, 89020, 20369, 10514, 20958, 77401, 22675, 57117, 79113, 4457, 69144, 9225, 10156, 71705, 12481, 12072, 70655, 42586, 76340, 12278, 78375, 44625, 90971, 14134, 15933, 13680, 11023, 17916, 56819, 12058, 11965, 40458, 45482, 10921, 12645, 36214, 25409, 63290, 76189, 74301, 10700, 43549, 25558, 11150, 10245, 10607, 86727, 13520, 50987, 14862, 31256, 35712, 29275, 46331, 14839, 72684, 58970, 11299, 18140, 10591, 65496, 90450, 61605, 46056, 69900, 56878, 76289, 11195, 14266, 24707, 14408, 63856, 10764, 10449, 11836, 13313, 10456, 63640, 69050, 89365, 52860, 24035, 15819, 46285, 60600, 10543, 29579, 35709, 58712, 55220, 50569, 3497, 8658, 45499, 15353, 56830, 67173, 67712, 51733, 63635, 6415, 34842, 18888, 59768, 79250, 36754, 64855, 61402, 1507, 50950, 18125, 22687, 70133, 54200, 24046, 28885, 40464, 61829, 41427, 92006, 80169, 15721, 21430, 41418, 4760, 21424, 76411, 2361, 81575, 59511, 16311, 48026, 6132, 55215, 48385, 41428, 33747, 30520, 42597, 75427, 50528, 482, 4257, 34354, 48826, 62900, 34465, 27555, 23376, 40671, 50566, 23356, 56450, 53151, 58671, 84089, 20109, 71661, 64658, 72681, 29725, 24034, 54640, 24250, 960, 66610, 90898, 65156, 10675, 828, 78465, 6833, 71454, 72678, 8659, 57441, 44083, 18107, 15716, 25414, 60480, 36755, 62310, 44085, 18141, 38752, 81830, 23383, 10558, 3910, 35630, 30925, 89632, 80365, 71940, 57110, 77090, 8005, 81584, 82605, 80187, 26549, 68364, 829, 61405, 76212, 20490, 82147, 40705, 90885, 45494, 3475, 63865, 30205, 89665, 88360, 20130, 26558, 84067, 23352, 28240, 25665, 10545, 31144, 81588, 54630, 66955, 3480, 79908, 10562, 10665, 29734, 827, 80376, 77420, 31357, 10307, 63157, 456, 23378, 2919, 54610, 53296, 17475, 67946, 25383, 71185, 31363, 64955, 83480, 65153, 29581, 90206, 15935, 26130, 75400, 67260, 10740, 45477, 51780, 62349, 30237, 76755, 82290, 28884, 89790, 42636, 6558, 45953, 17259, 6063, 88748, 87475, 64664, 75945, 24002, 82227, 20962, 15603, 50570, 4254, 60594, 28888, 84473, 17638, 67959, 54126, 62715, 90979, 62452, 8020, 10539, 89653, 81619, 4495, 6300, 20968, 78235, 72680, 34452, 50900, 71459, 77030, 33567, 30206, 58906, 18026, 80355, 60236, 39294, 17220, 38206, 89782, 88430, 4255, 51630, 62855, 4152, 34719, 34832, 68173, 4456, 32063, 21038, 74805, 20500, 48820, 4755, 70135, 81599, 66440, 35485, 8018, 75680, 1561, 56574, 23118, 89009, 37438, 77740, 84325, 60796, 77387, 77173, 28235, 9815, 64959, 70546, 75293, 29738, 8022, 25825, 31411, 44572, 16452, 53110, 62344, 16326, 2899, 18701, 15930])"
            ]
          },
          "metadata": {
            "tags": []
          },
          "execution_count": 68
        }
      ]
    },
    {
      "cell_type": "code",
      "metadata": {
        "id": "ED0eEf0lf2d1",
        "colab_type": "code",
        "colab": {
          "base_uri": "https://localhost:8080/",
          "height": 54
        },
        "outputId": "fc0356d7-494d-4f7c-842b-65c168f51727"
      },
      "source": [
        "Counter(credit.FranchiseCode).values() # 845431 non Franchise Loans "
      ],
      "execution_count": 69,
      "outputs": [
        {
          "output_type": "execute_result",
          "data": {
            "text/plain": [
              "dict_values([637395, 208036, 70, 311, 11, 615, 34, 169, 219, 149, 6, 78, 1, 11, 223, 63, 3373, 173, 1034, 73, 34, 1, 3, 17, 51, 238, 7, 204, 70, 13, 129, 10, 4, 56, 308, 56, 21, 45, 3, 16, 12, 2, 212, 606, 88, 369, 111, 347, 659, 80, 122, 45, 42, 3, 47, 435, 57, 576, 87, 1001, 108, 7, 105, 241, 166, 79, 27, 13, 378, 6, 1921, 26, 134, 68, 191, 10, 107, 36, 194, 39, 5, 14, 220, 536, 202, 190, 122, 715, 31, 28, 5, 267, 40, 97, 164, 195, 11, 98, 2, 47, 260, 292, 14, 147, 1, 114, 196, 199, 39, 48, 7, 22, 49, 134, 9, 17, 145, 420, 44, 228, 53, 17, 98, 161, 21, 16, 7, 49, 20, 3, 160, 74, 21, 88, 7, 30, 3, 21, 7, 5, 28, 8, 18, 21, 20, 44, 5, 33, 138, 21, 100, 62, 4, 104, 13, 161, 68, 35, 31, 28, 140, 19, 261, 23, 19, 2, 10, 227, 57, 36, 45, 46, 104, 365, 4, 51, 54, 9, 68, 1, 29, 108, 34, 66, 9, 2, 7, 27, 77, 75, 5, 38, 146, 4, 62, 24, 85, 60, 150, 6, 127, 26, 125, 49, 2, 7, 1, 2, 9, 7, 12, 7, 275, 15, 32, 42, 174, 68, 4, 63, 47, 52, 16, 34, 94, 30, 197, 27, 39, 91, 51, 25, 2, 19, 196, 6, 2, 74, 102, 1, 26, 89, 41, 7, 8, 29, 15, 104, 7, 133, 128, 148, 12, 89, 66, 39, 147, 1, 8, 265, 16, 96, 14, 5, 6, 120, 9, 18, 6, 6, 62, 83, 108, 76, 6, 15, 308, 137, 74, 20, 44, 39, 49, 14, 16, 14, 25, 6, 6, 6, 38, 91, 3, 7, 5, 4, 58, 101, 2, 39, 1, 41, 24, 5, 84, 1, 28, 29, 3, 6, 5, 29, 10, 5, 17, 1, 29, 15, 37, 9, 61, 23, 7, 14, 22, 325, 74, 119, 2, 69, 14, 62, 12, 17, 13, 32, 110, 16, 15, 121, 25, 5, 10, 186, 52, 333, 9, 33, 5, 9, 24, 7, 28, 4, 7, 17, 36, 9, 69, 21, 119, 91, 19, 17, 21, 9, 6, 15, 74, 25, 28, 2, 64, 115, 22, 36, 4, 7, 20, 6, 8, 8, 8, 57, 28, 82, 19, 2, 18, 20, 8, 11, 74, 33, 41, 6, 13, 37, 6, 70, 4, 1, 78, 12, 171, 11, 93, 57, 12, 6, 100, 30, 12, 22, 42, 33, 25, 76, 73, 14, 10, 13, 10, 12, 35, 64, 15, 37, 35, 8, 30, 122, 33, 5, 4, 46, 47, 61, 15, 7, 40, 3, 4, 1, 140, 4, 10, 44, 46, 5, 71, 26, 26, 49, 9, 1, 55, 28, 18, 9, 80, 20, 20, 22, 60, 20, 3, 29, 14, 22, 10, 4, 8, 3, 17, 29, 93, 63, 15, 3, 4, 3, 96, 21, 6, 62, 26, 23, 1, 1, 16, 13, 1, 23, 10, 7, 18, 67, 12, 29, 3, 14, 30, 11, 1, 32, 63, 17, 12, 2, 1, 62, 18, 1, 69, 3, 11, 34, 12, 20, 13, 31, 22, 4, 9, 1, 16, 11, 37, 41, 7, 14, 7, 6, 81, 20, 10, 15, 13, 30, 8, 9, 1, 8, 16, 59, 102, 15, 17, 71, 24, 25, 26, 19, 7, 29, 19, 9, 23, 16, 29, 6, 5, 8, 13, 7, 8, 2, 3, 84, 13, 38, 15, 7, 5, 10, 6, 5, 5, 15, 14, 4, 80, 3, 4, 7, 6, 22, 1, 9, 2, 1, 12, 16, 27, 4, 3, 34, 8, 38, 50, 6, 18, 8, 9, 9, 22, 11, 25, 9, 15, 3, 23, 23, 20, 39, 15, 6, 5, 85, 48, 29, 52, 46, 8, 10, 6, 173, 32, 9, 36, 14, 3, 21, 45, 1, 37, 13, 27, 6, 46, 2, 37, 19, 6, 17, 4, 5, 8, 14, 1, 12, 12, 2, 9, 11, 10, 13, 14, 1, 1, 4, 23, 14, 1, 33, 7, 7, 33, 4, 59, 3, 1, 2, 8, 60, 13, 3, 41, 5, 19, 56, 16, 5, 41, 21, 37, 11, 5, 19, 1, 3, 57, 8, 16, 3, 18, 14, 1, 33, 26, 10, 26, 6, 53, 4, 15, 15, 11, 3, 15, 1, 5, 2, 2, 5, 2, 6, 15, 7, 1, 5, 1, 6, 1, 11, 37, 4, 1, 2, 64, 28, 11, 4, 6, 4, 4, 34, 7, 5, 2, 11, 13, 7, 30, 13, 9, 24, 2, 3, 15, 15, 14, 7, 2, 8, 9, 5, 9, 5, 3, 14, 12, 2, 31, 2, 12, 12, 29, 14, 1, 2, 9, 10, 5, 47, 11, 11, 9, 45, 2, 4, 16, 2, 44, 1, 37, 15, 1, 19, 19, 2, 6, 2, 2, 14, 10, 66, 7, 9, 1, 1, 10, 7, 1, 2, 9, 1, 1, 9, 4, 3, 34, 3, 2, 4, 3, 1, 1, 3, 2, 5, 1, 1, 4, 6, 1, 3, 1, 2, 3, 6, 3, 25, 22, 13, 6, 14, 14, 13, 6, 16, 17, 5, 2, 36, 34, 9, 4, 16, 2, 5, 17, 1, 1, 13, 15, 14, 5, 19, 12, 6, 10, 12, 19, 18, 3, 30, 8, 9, 3, 10, 9, 2, 63, 7, 22, 2, 48, 23, 5, 15, 1, 2, 10, 5, 6, 2, 18, 13, 8, 13, 17, 12, 21, 42, 4, 2, 4, 13, 3, 3, 3, 13, 1, 6, 5, 2, 24, 2, 15, 5, 7, 13, 8, 8, 1, 14, 6, 1, 12, 4, 2, 17, 5, 2, 6, 3, 1, 5, 7, 7, 15, 18, 4, 3, 18, 2, 3, 2, 26, 7, 5, 10, 3, 9, 2, 36, 4, 2, 4, 4, 4, 56, 7, 8, 8, 1, 28, 18, 34, 3, 14, 36, 2, 1, 34, 6, 14, 3, 20, 3, 1, 26, 1, 6, 1, 12, 6, 9, 7, 7, 6, 1, 3, 11, 2, 1, 23, 1, 25, 5, 19, 8, 7, 1, 9, 11, 6, 27, 1, 15, 2, 5, 2, 24, 37, 5, 4, 3, 22, 6, 2, 30, 1, 11, 2, 7, 24, 3, 2, 3, 3, 4, 10, 1, 1, 2, 32, 2, 12, 3, 4, 4, 2, 1, 3, 3, 7, 2, 27, 2, 4, 13, 3, 3, 2, 1, 2, 5, 4, 40, 6, 1, 11, 25, 9, 9, 12, 6, 1, 4, 14, 3, 8, 28, 8, 10, 10, 1, 11, 14, 10, 3, 4, 1, 1, 15, 23, 1, 3, 1, 12, 2, 24, 19, 7, 1, 2, 2, 2, 4, 1, 14, 1, 1, 14, 2, 1, 1, 5, 4, 3, 7, 2, 2, 3, 12, 3, 18, 2, 2, 16, 24, 4, 1, 11, 8, 1, 3, 13, 2, 2, 15, 3, 3, 25, 4, 12, 6, 5, 12, 2, 10, 4, 6, 2, 2, 3, 9, 4, 4, 24, 4, 2, 4, 16, 2, 2, 9, 4, 1, 1, 13, 4, 30, 7, 37, 15, 26, 5, 14, 1, 11, 19, 4, 1, 4, 33, 21, 3, 5, 5, 9, 30, 3, 1, 8, 3, 2, 8, 6, 4, 2, 6, 24, 2, 3, 2, 12, 2, 12, 2, 10, 5, 2, 4, 1, 8, 40, 2, 1, 25, 9, 1, 5, 8, 10, 4, 1, 8, 2, 17, 4, 5, 1, 28, 3, 4, 3, 1, 4, 3, 1, 7, 8, 7, 9, 5, 8, 7, 11, 6, 14, 6, 4, 2, 10, 1, 2, 9, 6, 2, 1, 1, 1, 2, 4, 3, 8, 5, 1, 1, 4, 1, 10, 5, 2, 13, 14, 2, 2, 4, 1, 2, 4, 2, 5, 12, 3, 3, 4, 1, 3, 4, 8, 18, 1, 6, 5, 14, 1, 1, 9, 5, 4, 1, 4, 8, 14, 1, 6, 1, 2, 2, 5, 3, 3, 1, 1, 6, 1, 4, 2, 1, 5, 6, 5, 8, 1, 3, 2, 7, 2, 4, 2, 1, 1, 2, 1, 12, 6, 1, 4, 2, 6, 1, 1, 5, 10, 1, 1, 1, 2, 2, 5, 57, 8, 2, 3, 3, 1, 2, 1, 2, 6, 9, 4, 2, 9, 25, 2, 2, 4, 1, 1, 2, 5, 6, 9, 9, 3, 1, 1, 14, 1, 3, 1, 3, 4, 3, 4, 5, 4, 9, 4, 40, 3, 14, 11, 1, 7, 4, 1, 1, 3, 1, 1, 1, 2, 1, 6, 5, 2, 11, 1, 1, 4, 3, 12, 4, 2, 1, 5, 18, 5, 1, 1, 6, 1, 6, 3, 10, 2, 4, 1, 4, 2, 1, 11, 3, 14, 1, 5, 5, 2, 4, 2, 7, 1, 8, 7, 3, 5, 1, 2, 7, 1, 1, 4, 3, 2, 1, 13, 4, 2, 3, 2, 8, 1, 3, 2, 4, 4, 1, 1, 4, 2, 1, 2, 4, 1, 2, 3, 1, 5, 1, 3, 1, 1, 6, 10, 1, 1, 31, 2, 2, 3, 6, 8, 2, 1, 4, 1, 1, 1, 1, 2, 1, 2, 4, 2, 7, 4, 5, 12, 11, 17, 1, 4, 4, 16, 3, 8, 4, 5, 10, 9, 21, 4, 20, 3, 1, 11, 1, 3, 3, 1, 1, 2, 1, 9, 2, 2, 2, 3, 2, 2, 1, 1, 3, 1, 3, 1, 1, 3, 4, 24, 4, 3, 6, 17, 5, 9, 1, 6, 3, 4, 4, 2, 32, 4, 1, 3, 3, 1, 3, 1, 3, 4, 1, 1, 1, 2, 5, 13, 3, 1, 1, 1, 1, 43, 1, 10, 9, 1, 8, 7, 1, 4, 3, 2, 1, 2, 3, 6, 2, 3, 2, 4, 2, 13, 3, 2, 1, 2, 1, 3, 1, 2, 1, 3, 4, 3, 2, 4, 2, 22, 2, 1, 1, 2, 2, 6, 9, 1, 1, 1, 2, 2, 2, 4, 2, 3, 4, 7, 1, 1, 1, 3, 2, 3, 5, 5, 35, 1, 3, 1, 2, 6, 1, 1, 1, 1, 8, 1, 1, 1, 21, 1, 6, 1, 1, 1, 2, 2, 6, 5, 13, 6, 1, 1, 1, 6, 10, 1, 1, 6, 3, 2, 2, 1, 11, 11, 1, 1, 3, 1, 2, 1, 1, 8, 1, 1, 1, 10, 3, 1, 2, 3, 4, 5, 4, 1, 3, 3, 1, 3, 9, 4, 2, 2, 5, 2, 1, 3, 1, 2, 3, 6, 1, 4, 3, 3, 30, 2, 2, 1, 9, 16, 1, 4, 2, 1, 1, 1, 1, 2, 2, 1, 1, 7, 1, 3, 2, 8, 4, 3, 1, 1, 2, 1, 1, 1, 1, 1, 1, 2, 3, 1, 8, 7, 4, 2, 1, 1, 4, 2, 3, 7, 3, 1, 2, 1, 2, 3, 3, 1, 1, 1, 1, 3, 3, 1, 1, 1, 5, 2, 1, 1, 2, 2, 1, 1, 4, 5, 2, 1, 2, 3, 1, 1, 2, 1, 8, 4, 1, 1, 4, 12, 9, 1, 8, 3, 1, 1, 6, 1, 1, 1, 1, 2, 3, 18, 3, 2, 1, 2, 1, 1, 1, 8, 1, 1, 1, 3, 6, 3, 2, 1, 9, 4, 1, 6, 1, 1, 4, 1, 1, 2, 6, 1, 1, 2, 5, 2, 7, 1, 2, 2, 1, 1, 4, 1, 5, 1, 1, 11, 6, 1, 3, 4, 1, 3, 3, 2, 2, 2, 3, 2, 5, 1, 1, 2, 4, 1, 4, 3, 1, 1, 1, 1, 1, 1, 2, 1, 1, 2, 1, 2, 4, 1, 1, 3, 1, 1, 2, 2, 1, 2, 2, 4, 1, 1, 2, 7, 2, 1, 5, 5, 5, 2, 2, 9, 1, 1, 1, 1, 2, 1, 1, 3, 4, 1, 1, 1, 2, 1, 3, 9, 13, 1, 1, 2, 3, 2, 1, 1, 1, 1, 11, 7, 2, 1, 1, 9, 2, 7, 13, 1, 1, 2, 3, 5, 3, 3, 5, 1, 5, 1, 1, 2, 1, 1, 4, 3, 2, 2, 1, 1, 2, 2, 3, 1, 3, 4, 3, 1, 1, 1, 1, 1, 4, 1, 3, 6, 1, 5, 3, 1, 5, 3, 1, 1, 1, 2, 1, 7, 2, 1, 3, 4, 1, 1, 2, 1, 1, 1, 3, 2, 1, 1, 1, 1, 1, 2, 2, 2, 1, 1, 4, 8, 2, 3, 1, 12, 1, 1, 2, 6, 1, 2, 6, 2, 1, 1, 1, 1, 1, 2, 4, 3, 3, 2, 2, 1, 5, 1, 5, 6, 1, 4, 7, 1, 1, 1, 3, 26, 1, 1, 1, 2, 2, 2, 1, 4, 3, 1, 1, 1, 8, 3, 1, 4, 7, 15, 1, 2, 1, 2, 1, 4, 2, 2, 2, 2, 10, 6, 3, 4, 2, 8, 2, 2, 7, 2, 1, 3, 2, 1, 1, 1, 2, 2, 1, 5, 1, 3, 1, 2, 7, 2, 9, 1, 18, 3, 1, 4, 2, 2, 1, 3, 2, 2, 4, 1, 19, 2, 1, 1, 2, 1, 1, 1, 1, 1, 4, 1, 2, 2, 2, 3, 1, 1, 1, 1, 1, 1, 2, 14, 1, 1, 3, 1, 3, 4, 1, 1, 1, 1, 1, 1, 1, 1, 8, 1, 2, 5, 2, 6, 1, 1, 1, 2, 7, 1, 1, 4, 3, 4, 1, 1, 2, 4, 1, 1, 3, 5, 1, 1, 1, 2, 2, 1, 1, 1, 3, 1, 1, 2, 1, 7, 1, 2, 4, 6, 1, 7, 25, 3, 1, 1, 1, 1, 2, 3, 3, 2, 1, 2, 1, 1, 2, 1, 2, 3, 1, 2, 1, 1, 4, 3, 9, 3, 2, 1, 1, 4, 2, 1, 2, 1, 2, 1, 4, 1, 4, 1, 1, 8, 1, 1, 4, 1, 1, 1, 2, 1, 3, 1, 2, 1, 3, 1, 4, 2, 3, 2, 3, 1, 1, 13, 1, 1, 1, 3, 1, 1, 1, 5, 1, 5, 3, 3, 1, 37, 1, 7, 3, 3, 4, 7, 1, 1, 1, 5, 1, 1, 4, 1, 1, 4, 2, 2, 1, 1, 2, 3, 1, 4, 4, 1, 1, 1, 1, 2, 1, 2, 1, 6, 2, 1, 1, 9, 7, 2, 1, 1, 1, 6, 1, 9, 1, 1, 1, 1, 6, 1, 2, 3, 5, 2, 3, 1, 1, 1, 3, 15, 7, 1, 1, 2, 1, 1, 1, 3, 1, 2, 2, 1, 1, 1, 1, 2, 4, 1, 1, 1, 5, 1, 1, 6, 2, 1, 1, 1, 1, 2, 8, 6, 1, 1, 2, 1, 1, 3, 3, 1, 1, 1, 5, 2, 1, 1, 1, 1, 1, 2, 3, 2, 1, 1, 1, 3, 1, 1, 1, 4, 1, 1, 3, 1, 1, 2, 6, 1, 1, 2, 1, 2, 2, 1, 3, 11, 2, 1, 1, 1, 1, 1, 2, 2, 1, 1, 1, 1, 1, 1, 1, 1, 1, 2, 1, 1, 1, 1, 4, 1, 1, 1, 1, 2, 1, 1, 1, 1, 1, 1, 1, 1, 1, 12, 2, 1, 2, 1, 2, 1, 1, 2, 2, 2, 1, 1, 1, 2, 1, 2, 1, 1, 1, 1, 2, 2, 1, 1, 4, 1, 3, 2, 1, 1, 1, 1, 12, 2, 2, 1, 2, 2, 4, 1, 1, 1, 2, 2, 1, 1, 1, 1, 1, 2, 1, 2, 1, 1, 1, 3, 1, 2, 1, 1, 2, 1, 6, 4, 1, 1, 1, 1, 2, 1, 1, 1, 2, 1, 1, 1, 1, 1, 3, 1, 2, 1, 1, 1, 1, 2, 2, 1, 1, 4, 1, 8, 3, 1, 1, 1, 2, 8, 1, 2, 1, 1, 1, 1, 4, 1, 2, 1, 1, 1, 1, 2, 4, 2, 2, 1, 2, 1, 2, 1, 2, 1, 2, 1, 1, 1, 1, 1, 1, 1, 2, 1, 1, 1, 2, 2, 1, 2, 1, 1, 1, 2, 1, 1, 1, 1, 1, 2, 1, 2, 1, 1, 1, 2, 1, 1, 1, 1, 5, 1, 1, 2, 1, 1, 1, 2, 1, 1, 1, 1, 1, 1, 1, 2, 2, 1, 1, 1, 2, 1, 1, 1, 1, 1, 1, 1, 1, 2, 1, 2, 1, 1, 3, 1, 1, 1, 1, 2, 1, 1, 1, 1, 1, 1, 1, 1, 2, 1, 1, 1, 1, 1, 1, 1, 2, 1, 1, 1, 1, 6, 1, 1, 1, 1, 1, 1, 1, 1, 1, 1, 1, 1, 3, 3, 1, 1, 1, 1, 1, 1, 1, 1, 1, 1, 1, 1, 1, 1, 1, 1, 1, 1, 1, 2, 1, 2, 1, 1, 1, 20, 1, 1, 1, 1, 2, 1, 1, 1, 1, 1, 1, 1, 6, 1, 1, 1, 1, 1, 1, 1, 1, 1, 1, 1, 1, 2, 1, 1, 1, 1, 1, 1, 1, 1, 1, 1, 2, 1, 1, 1, 1, 1, 1, 1, 1])"
            ]
          },
          "metadata": {
            "tags": []
          },
          "execution_count": 69
        }
      ]
    },
    {
      "cell_type": "code",
      "metadata": {
        "id": "EzRSYaIof87D",
        "colab_type": "code",
        "colab": {}
      },
      "source": [
        "#Let's check our assumption, if Franchise Code is with digits = New business\n",
        "cond_4 = credit[(credit['FranchiseCode'] != 0) & (credit['FranchiseCode'] != 1)] #Lets store our Franchise cases\n"
      ],
      "execution_count": 0,
      "outputs": []
    },
    {
      "cell_type": "code",
      "metadata": {
        "id": "p-HaP3wNgR5h",
        "colab_type": "code",
        "colab": {
          "base_uri": "https://localhost:8080/",
          "height": 34
        },
        "outputId": "1a3ac991-bc28-4988-b15c-2834f4d6cdc0"
      },
      "source": [
        "cond_4.shape"
      ],
      "execution_count": 71,
      "outputs": [
        {
          "output_type": "execute_result",
          "data": {
            "text/plain": [
              "(51732, 25)"
            ]
          },
          "metadata": {
            "tags": []
          },
          "execution_count": 71
        }
      ]
    },
    {
      "cell_type": "code",
      "metadata": {
        "id": "cc1-H41ngSW8",
        "colab_type": "code",
        "colab": {
          "base_uri": "https://localhost:8080/",
          "height": 34
        },
        "outputId": "2c5320eb-8ea6-46a4-ffc8-96940b8b4469"
      },
      "source": [
        "Counter(cond_4.NewExist).values()\n",
        "# We have:\n",
        "# 27940 rows - New Business\n",
        "# 23725 rows - Exisitng Business\n",
        "# 67 rows - NA in Existing Business\n",
        "# Our assumption is not correct!"
      ],
      "execution_count": 72,
      "outputs": [
        {
          "output_type": "execute_result",
          "data": {
            "text/plain": [
              "dict_values([27940, 23725, 67])"
            ]
          },
          "metadata": {
            "tags": []
          },
          "execution_count": 72
        }
      ]
    },
    {
      "cell_type": "code",
      "metadata": {
        "id": "Ljcqy0hdglJO",
        "colab_type": "code",
        "colab": {
          "base_uri": "https://localhost:8080/",
          "height": 34
        },
        "outputId": "fd12a64d-53b4-4a46-8f81-ea20b62e3a89"
      },
      "source": [
        "Counter(cond_4.NewExist).keys()"
      ],
      "execution_count": 73,
      "outputs": [
        {
          "output_type": "execute_result",
          "data": {
            "text/plain": [
              "dict_keys([2.0, 1.0, 0.0])"
            ]
          },
          "metadata": {
            "tags": []
          },
          "execution_count": 73
        }
      ]
    },
    {
      "cell_type": "code",
      "metadata": {
        "id": "FdghGlmthvd_",
        "colab_type": "code",
        "colab": {
          "base_uri": "https://localhost:8080/",
          "height": 101
        },
        "outputId": "21cc8a48-6c2c-41ed-a7b4-c9721b1305e3"
      },
      "source": [
        "credit.NewExist.value_counts(dropna=False)"
      ],
      "execution_count": 74,
      "outputs": [
        {
          "output_type": "execute_result",
          "data": {
            "text/plain": [
              "1.0    643711\n",
              "2.0    252559\n",
              "0.0       874\n",
              "NaN        19\n",
              "Name: NewExist, dtype: int64"
            ]
          },
          "metadata": {
            "tags": []
          },
          "execution_count": 74
        }
      ]
    },
    {
      "cell_type": "code",
      "metadata": {
        "id": "bW8c9db5hosV",
        "colab_type": "code",
        "colab": {}
      },
      "source": [
        "# I think I will stop my investigation on this stage and will drop NAs in NewExist feature.\n",
        "#Before it was 134 NAs + 1027 with zero value, after imputation we have 19 rows = NA and 874 = \"0\". In total, 893."
      ],
      "execution_count": 0,
      "outputs": []
    },
    {
      "cell_type": "code",
      "metadata": {
        "id": "rPZ49WC8iPjo",
        "colab_type": "code",
        "colab": {}
      },
      "source": [
        "\n",
        "\n",
        "#First, I will assign NA to 0 values and drop all NAs in this feature.\n",
        "cond_5 = credit[(credit['NewExist'] == 0)].index"
      ],
      "execution_count": 0,
      "outputs": []
    },
    {
      "cell_type": "code",
      "metadata": {
        "id": "7qDWoFLNiP80",
        "colab_type": "code",
        "colab": {
          "base_uri": "https://localhost:8080/",
          "height": 118
        },
        "outputId": "5e2f23e4-4fc4-4663-e490-c75ec19d8c06"
      },
      "source": [
        "cond_5"
      ],
      "execution_count": 77,
      "outputs": [
        {
          "output_type": "execute_result",
          "data": {
            "text/plain": [
              "Int64Index([   142,    170,    185,    211,    223,    246,    254,    260,\n",
              "               269,    274,\n",
              "            ...\n",
              "            892984, 893537, 894289, 894665, 894976, 895872, 895976, 896382,\n",
              "            896633, 897212],\n",
              "           dtype='int64', length=874)"
            ]
          },
          "metadata": {
            "tags": []
          },
          "execution_count": 77
        }
      ]
    },
    {
      "cell_type": "code",
      "metadata": {
        "id": "ZF9M-Q_qgmmx",
        "colab_type": "code",
        "colab": {}
      },
      "source": [
        "\n",
        "for i in cond_5:\n",
        "    credit.loc[i,['NewExist']] = np.nan #11 corresponds to NewExist column\n",
        "    \n",
        "credit = credit.dropna(axis =0, subset=['NewExist'])"
      ],
      "execution_count": 0,
      "outputs": []
    },
    {
      "cell_type": "code",
      "metadata": {
        "id": "Z6AmR6bUiZsp",
        "colab_type": "code",
        "colab": {
          "base_uri": "https://localhost:8080/",
          "height": 34
        },
        "outputId": "61fef320-6081-4a01-dd1c-7ed14d4d4c88"
      },
      "source": [
        "credit.shape"
      ],
      "execution_count": 79,
      "outputs": [
        {
          "output_type": "execute_result",
          "data": {
            "text/plain": [
              "(896270, 25)"
            ]
          },
          "metadata": {
            "tags": []
          },
          "execution_count": 79
        }
      ]
    },
    {
      "cell_type": "code",
      "metadata": {
        "id": "dgqSQJITia90",
        "colab_type": "code",
        "colab": {
          "base_uri": "https://localhost:8080/",
          "height": 454
        },
        "outputId": "370da324-b1b3-461a-e6ef-6f23e945e829"
      },
      "source": [
        "#Much better.\n",
        "credit.isnull().sum()"
      ],
      "execution_count": 80,
      "outputs": [
        {
          "output_type": "execute_result",
          "data": {
            "text/plain": [
              "LoanNr_ChkDgt           0\n",
              "City                    0\n",
              "State                   0\n",
              "Zip                     0\n",
              "Bank                 1503\n",
              "BankState            1510\n",
              "NAICS                   0\n",
              "ApprovalDate            0\n",
              "ApprovalFY              0\n",
              "Term                    0\n",
              "NoEmp                   0\n",
              "NewExist                0\n",
              "CreateJob               0\n",
              "RetainedJob             0\n",
              "FranchiseCode           0\n",
              "UrbanRural              0\n",
              "RevLineCr            4517\n",
              "LowDoc               2578\n",
              "DisbursementDate     2174\n",
              "DisbursementGross       0\n",
              "BalanceGross            0\n",
              "MIS_Status              0\n",
              "ChgOffPrinGr            0\n",
              "GrAppv                  0\n",
              "SBA_Appv                0\n",
              "dtype: int64"
            ]
          },
          "metadata": {
            "tags": []
          },
          "execution_count": 80
        }
      ]
    },
    {
      "cell_type": "code",
      "metadata": {
        "id": "YVFjIb0Viehu",
        "colab_type": "code",
        "colab": {}
      },
      "source": [
        "#I decided to drop Bank Name and Bank State on this stage. My idea was to use state as a predictor, because \n",
        "#different states have different economic environments.\n",
        "#According to documentation, State of Borrower is a right Feature to use for this goal.\n",
        "#Also, Bank Name (> 5000 names) as a Borrowers Name is a unique value, so we can delete it, too.\n",
        "#Columns \"Disbursment Date\", \"DisbursementGross\", \"BalanceGross\" and \"ChgOffPrinGr\" \n",
        "#contain information that is important after default is declared, so we can't use these columns for predicting\n",
        "#default risks. I delete them.\n",
        "credit = credit.drop(axis =1, columns = ['Bank', 'BankState', 'DisbursementDate', 'DisbursementGross', \n",
        "                                         'BalanceGross','ChgOffPrinGr'])"
      ],
      "execution_count": 0,
      "outputs": []
    },
    {
      "cell_type": "code",
      "metadata": {
        "id": "ptiTOmdAjG8t",
        "colab_type": "code",
        "colab": {
          "base_uri": "https://localhost:8080/",
          "height": 34
        },
        "outputId": "e5040d23-cd33-4361-c52f-6f38952c2900"
      },
      "source": [
        "credit.shape"
      ],
      "execution_count": 82,
      "outputs": [
        {
          "output_type": "execute_result",
          "data": {
            "text/plain": [
              "(896270, 19)"
            ]
          },
          "metadata": {
            "tags": []
          },
          "execution_count": 82
        }
      ]
    },
    {
      "cell_type": "code",
      "metadata": {
        "id": "264ZBQMSjID9",
        "colab_type": "code",
        "colab": {
          "base_uri": "https://localhost:8080/",
          "height": 34
        },
        "outputId": "58c9d4d8-0c02-4024-e36a-ed61dd8a4e3a"
      },
      "source": [
        "#Now we have only 2 features left: LowDoc and RevLineCr,\n",
        "#We will start from - LowDoc. Loan Program: Y = Yes, N = No\n",
        "Counter(credit.LowDoc).keys()"
      ],
      "execution_count": 83,
      "outputs": [
        {
          "output_type": "execute_result",
          "data": {
            "text/plain": [
              "dict_keys(['Y', 'N', 'C', '1', nan, 'S', 'R', 'A', '0'])"
            ]
          },
          "metadata": {
            "tags": []
          },
          "execution_count": 83
        }
      ]
    },
    {
      "cell_type": "code",
      "metadata": {
        "id": "zv2i8VqnjeQt",
        "colab_type": "code",
        "colab": {
          "base_uri": "https://localhost:8080/",
          "height": 34
        },
        "outputId": "eac0eb5e-e002-4c3e-e02a-bee0ffb09e71"
      },
      "source": [
        "Counter(credit.LowDoc).values()"
      ],
      "execution_count": 84,
      "outputs": [
        {
          "output_type": "execute_result",
          "data": {
            "text/plain": [
              "dict_values([110046, 780227, 757, 1, 2578, 603, 74, 495, 1489])"
            ]
          },
          "metadata": {
            "tags": []
          },
          "execution_count": 84
        }
      ]
    },
    {
      "cell_type": "code",
      "metadata": {
        "id": "smbHWNegjeoC",
        "colab_type": "code",
        "colab": {}
      },
      "source": [
        "#I made some research about \"LowDoc program\". So, these are less than 150 000$ short-term loans. \n",
        "#To get this loan you need less documents\n",
        "#And it was a very popular loan program in the USA in 2000-2007. And seems like it's a strong predictor\n",
        "#I will select rows with this condition and check values in LowDoc feauture\n",
        "#But first I should convert ApprovalDate from object to DateTime format\n",
        "from datetime import date\n",
        "credit['ApprovalDate'] = credit['ApprovalDate'].astype(str)\n",
        "credit['ApprovalDate'] = pd.to_datetime(credit['ApprovalDate'])"
      ],
      "execution_count": 0,
      "outputs": []
    },
    {
      "cell_type": "code",
      "metadata": {
        "id": "QXG_XJhfj7BN",
        "colab_type": "code",
        "colab": {
          "base_uri": "https://localhost:8080/",
          "height": 118
        },
        "outputId": "880dcbef-b87d-464c-e59a-8b078f76bcbf"
      },
      "source": [
        "credit.ApprovalDate[:5]"
      ],
      "execution_count": 86,
      "outputs": [
        {
          "output_type": "execute_result",
          "data": {
            "text/plain": [
              "0   1997-02-28\n",
              "1   1997-02-28\n",
              "2   1997-02-28\n",
              "3   1997-02-28\n",
              "4   1997-02-28\n",
              "Name: ApprovalDate, dtype: datetime64[ns]"
            ]
          },
          "metadata": {
            "tags": []
          },
          "execution_count": 86
        }
      ]
    },
    {
      "cell_type": "code",
      "metadata": {
        "id": "XNjIJOxgj-RC",
        "colab_type": "code",
        "colab": {
          "base_uri": "https://localhost:8080/",
          "height": 249
        },
        "outputId": "89b8dc9a-f406-40ee-e38d-f2d2a3b75cec"
      },
      "source": [
        "cond_6 = credit[(credit['LowDoc'] != \"Y\") & (credit['LowDoc'] != \"N\")]\n",
        "cond_6.head(5)\n",
        "#5997 rows with NAs and other different values. (1404)\n",
        "#Seems like it's a very important value, we will not drop rows with NAs. \n",
        "#We will try to impute LowDoc value using other features"
      ],
      "execution_count": 87,
      "outputs": [
        {
          "output_type": "execute_result",
          "data": {
            "text/html": [
              "<div>\n",
              "<style scoped>\n",
              "    .dataframe tbody tr th:only-of-type {\n",
              "        vertical-align: middle;\n",
              "    }\n",
              "\n",
              "    .dataframe tbody tr th {\n",
              "        vertical-align: top;\n",
              "    }\n",
              "\n",
              "    .dataframe thead th {\n",
              "        text-align: right;\n",
              "    }\n",
              "</style>\n",
              "<table border=\"1\" class=\"dataframe\">\n",
              "  <thead>\n",
              "    <tr style=\"text-align: right;\">\n",
              "      <th></th>\n",
              "      <th>LoanNr_ChkDgt</th>\n",
              "      <th>City</th>\n",
              "      <th>State</th>\n",
              "      <th>Zip</th>\n",
              "      <th>NAICS</th>\n",
              "      <th>ApprovalDate</th>\n",
              "      <th>ApprovalFY</th>\n",
              "      <th>Term</th>\n",
              "      <th>NoEmp</th>\n",
              "      <th>NewExist</th>\n",
              "      <th>CreateJob</th>\n",
              "      <th>RetainedJob</th>\n",
              "      <th>FranchiseCode</th>\n",
              "      <th>UrbanRural</th>\n",
              "      <th>RevLineCr</th>\n",
              "      <th>LowDoc</th>\n",
              "      <th>MIS_Status</th>\n",
              "      <th>GrAppv</th>\n",
              "      <th>SBA_Appv</th>\n",
              "    </tr>\n",
              "  </thead>\n",
              "  <tbody>\n",
              "    <tr>\n",
              "      <th>7413</th>\n",
              "      <td>1050326003</td>\n",
              "      <td>ST. NAZIANZ</td>\n",
              "      <td>WI</td>\n",
              "      <td>54232</td>\n",
              "      <td>333111</td>\n",
              "      <td>2006-02-16</td>\n",
              "      <td>2006</td>\n",
              "      <td>240</td>\n",
              "      <td>130</td>\n",
              "      <td>1.0</td>\n",
              "      <td>0</td>\n",
              "      <td>130</td>\n",
              "      <td>1</td>\n",
              "      <td>2</td>\n",
              "      <td>0</td>\n",
              "      <td>C</td>\n",
              "      <td>1</td>\n",
              "      <td>1306000.0</td>\n",
              "      <td>1306000.0</td>\n",
              "    </tr>\n",
              "    <tr>\n",
              "      <th>23459</th>\n",
              "      <td>1176096001</td>\n",
              "      <td>DEMING</td>\n",
              "      <td>NM</td>\n",
              "      <td>88031</td>\n",
              "      <td>722110</td>\n",
              "      <td>2006-02-27</td>\n",
              "      <td>2006</td>\n",
              "      <td>120</td>\n",
              "      <td>7</td>\n",
              "      <td>2.0</td>\n",
              "      <td>0</td>\n",
              "      <td>0</td>\n",
              "      <td>1</td>\n",
              "      <td>1</td>\n",
              "      <td>N</td>\n",
              "      <td>C</td>\n",
              "      <td>1</td>\n",
              "      <td>160000.0</td>\n",
              "      <td>120000.0</td>\n",
              "    </tr>\n",
              "    <tr>\n",
              "      <th>30877</th>\n",
              "      <td>1232806006</td>\n",
              "      <td>EL PASO</td>\n",
              "      <td>TX</td>\n",
              "      <td>79938</td>\n",
              "      <td>722213</td>\n",
              "      <td>2006-03-02</td>\n",
              "      <td>2006</td>\n",
              "      <td>120</td>\n",
              "      <td>5</td>\n",
              "      <td>2.0</td>\n",
              "      <td>0</td>\n",
              "      <td>0</td>\n",
              "      <td>8023</td>\n",
              "      <td>1</td>\n",
              "      <td>N</td>\n",
              "      <td>C</td>\n",
              "      <td>1</td>\n",
              "      <td>189000.0</td>\n",
              "      <td>141750.0</td>\n",
              "    </tr>\n",
              "    <tr>\n",
              "      <th>35740</th>\n",
              "      <td>1272576003</td>\n",
              "      <td>AVON LAKE</td>\n",
              "      <td>OH</td>\n",
              "      <td>44012</td>\n",
              "      <td>811192</td>\n",
              "      <td>2006-03-06</td>\n",
              "      <td>2006</td>\n",
              "      <td>252</td>\n",
              "      <td>2</td>\n",
              "      <td>2.0</td>\n",
              "      <td>0</td>\n",
              "      <td>0</td>\n",
              "      <td>1</td>\n",
              "      <td>1</td>\n",
              "      <td>N</td>\n",
              "      <td>C</td>\n",
              "      <td>1</td>\n",
              "      <td>1200000.0</td>\n",
              "      <td>900000.0</td>\n",
              "    </tr>\n",
              "    <tr>\n",
              "      <th>36376</th>\n",
              "      <td>1277995003</td>\n",
              "      <td>Martinsville</td>\n",
              "      <td>VA</td>\n",
              "      <td>24112</td>\n",
              "      <td>484110</td>\n",
              "      <td>2005-04-22</td>\n",
              "      <td>2005</td>\n",
              "      <td>83</td>\n",
              "      <td>1</td>\n",
              "      <td>1.0</td>\n",
              "      <td>2</td>\n",
              "      <td>1</td>\n",
              "      <td>1</td>\n",
              "      <td>2</td>\n",
              "      <td>Y</td>\n",
              "      <td>C</td>\n",
              "      <td>1</td>\n",
              "      <td>250000.0</td>\n",
              "      <td>125000.0</td>\n",
              "    </tr>\n",
              "  </tbody>\n",
              "</table>\n",
              "</div>"
            ],
            "text/plain": [
              "       LoanNr_ChkDgt          City State  ...  MIS_Status     GrAppv   SBA_Appv\n",
              "7413      1050326003   ST. NAZIANZ    WI  ...           1  1306000.0  1306000.0\n",
              "23459     1176096001        DEMING    NM  ...           1   160000.0   120000.0\n",
              "30877     1232806006       EL PASO    TX  ...           1   189000.0   141750.0\n",
              "35740     1272576003     AVON LAKE    OH  ...           1  1200000.0   900000.0\n",
              "36376     1277995003  Martinsville    VA  ...           1   250000.0   125000.0\n",
              "\n",
              "[5 rows x 19 columns]"
            ]
          },
          "metadata": {
            "tags": []
          },
          "execution_count": 87
        }
      ]
    },
    {
      "cell_type": "code",
      "metadata": {
        "id": "mjJ3PePmkQqp",
        "colab_type": "code",
        "colab": {
          "base_uri": "https://localhost:8080/",
          "height": 34
        },
        "outputId": "9c1d0756-607a-4adf-eede-8808b96e9db0"
      },
      "source": [
        "cond_6.shape"
      ],
      "execution_count": 88,
      "outputs": [
        {
          "output_type": "execute_result",
          "data": {
            "text/plain": [
              "(5997, 19)"
            ]
          },
          "metadata": {
            "tags": []
          },
          "execution_count": 88
        }
      ]
    },
    {
      "cell_type": "code",
      "metadata": {
        "id": "oJN_Yk5_kkZi",
        "colab_type": "code",
        "colab": {
          "base_uri": "https://localhost:8080/",
          "height": 34
        },
        "outputId": "9e9a4f2b-290e-4215-bb4a-984c3b1d1d14"
      },
      "source": [
        "Counter(cond_6.LowDoc).keys() #dict_keys(['C', '1', nan, 'S', 'R', 'A', '0'])"
      ],
      "execution_count": 89,
      "outputs": [
        {
          "output_type": "execute_result",
          "data": {
            "text/plain": [
              "dict_keys(['C', '1', nan, 'S', 'R', 'A', '0'])"
            ]
          },
          "metadata": {
            "tags": []
          },
          "execution_count": 89
        }
      ]
    },
    {
      "cell_type": "code",
      "metadata": {
        "id": "zYWQeudAkfoL",
        "colab_type": "code",
        "colab": {
          "base_uri": "https://localhost:8080/",
          "height": 34
        },
        "outputId": "d4ab414d-ee07-44a7-ec2e-2e4fff0fa600"
      },
      "source": [
        "Counter(cond_6.LowDoc).values() #dict_values([757, 1, 2578, 603, 74, 494, 1490])\n"
      ],
      "execution_count": 90,
      "outputs": [
        {
          "output_type": "execute_result",
          "data": {
            "text/plain": [
              "dict_values([757, 1, 2578, 603, 74, 495, 1489])"
            ]
          },
          "metadata": {
            "tags": []
          },
          "execution_count": 90
        }
      ]
    },
    {
      "cell_type": "code",
      "metadata": {
        "id": "KL97s0Wekmue",
        "colab_type": "code",
        "colab": {
          "base_uri": "https://localhost:8080/",
          "height": 34
        },
        "outputId": "aa757913-e464-4492-cfdd-11f427c97b6c"
      },
      "source": [
        "#Let's see how many rows in cond_6 are default cases\n",
        "Counter(cond_6.MIS_Status).values()\n",
        "#4420 rows - not default\n",
        "#1577 - default cases. \n",
        "#Would be nice to impute these rows with values."
      ],
      "execution_count": 91,
      "outputs": [
        {
          "output_type": "execute_result",
          "data": {
            "text/plain": [
              "dict_values([4421, 1576])"
            ]
          },
          "metadata": {
            "tags": []
          },
          "execution_count": 91
        }
      ]
    },
    {
      "cell_type": "code",
      "metadata": {
        "id": "jwai3wPUkvdd",
        "colab_type": "code",
        "colab": {}
      },
      "source": [
        "#Let's examine LowDoc loans and Not LowDoc loans and try to find any patterns\n",
        "low_doc = credit[credit['LowDoc'] == \"Y\"]"
      ],
      "execution_count": 0,
      "outputs": []
    },
    {
      "cell_type": "code",
      "metadata": {
        "id": "WAJzonYek3tY",
        "colab_type": "code",
        "colab": {
          "base_uri": "https://localhost:8080/",
          "height": 168
        },
        "outputId": "0cf8a525-1faf-487d-d510-55b92f0a774e"
      },
      "source": [
        "low_doc['GrAppv'].describe() # 75% of loans are =< $100 000"
      ],
      "execution_count": 93,
      "outputs": [
        {
          "output_type": "execute_result",
          "data": {
            "text/plain": [
              "count     110046.000000\n",
              "mean       68661.091816\n",
              "std        37671.332829\n",
              "min         4000.000000\n",
              "25%        40000.000000\n",
              "50%        60000.000000\n",
              "75%       100000.000000\n",
              "max      1000000.000000\n",
              "Name: GrAppv, dtype: float64"
            ]
          },
          "metadata": {
            "tags": []
          },
          "execution_count": 93
        }
      ]
    },
    {
      "cell_type": "code",
      "metadata": {
        "id": "47pN1vuwk-kL",
        "colab_type": "code",
        "colab": {
          "base_uri": "https://localhost:8080/",
          "height": 168
        },
        "outputId": "2d33daa7-9167-43b6-f96a-a207842c1957"
      },
      "source": [
        "low_doc['Term'].describe() #75% or loans <= 93 months"
      ],
      "execution_count": 94,
      "outputs": [
        {
          "output_type": "execute_result",
          "data": {
            "text/plain": [
              "count    110046.000000\n",
              "mean         87.698026\n",
              "std          45.809016\n",
              "min           0.000000\n",
              "25%          60.000000\n",
              "50%          84.000000\n",
              "75%          93.000000\n",
              "max         511.000000\n",
              "Name: Term, dtype: float64"
            ]
          },
          "metadata": {
            "tags": []
          },
          "execution_count": 94
        }
      ]
    },
    {
      "cell_type": "code",
      "metadata": {
        "id": "JhVAkL4RlTE0",
        "colab_type": "code",
        "colab": {
          "base_uri": "https://localhost:8080/",
          "height": 34
        },
        "outputId": "e25129b6-636b-43d6-bc2d-b3b95f262a65"
      },
      "source": [
        "Counter(low_doc.MIS_Status).keys()"
      ],
      "execution_count": 95,
      "outputs": [
        {
          "output_type": "execute_result",
          "data": {
            "text/plain": [
              "dict_keys([1, 0])"
            ]
          },
          "metadata": {
            "tags": []
          },
          "execution_count": 95
        }
      ]
    },
    {
      "cell_type": "code",
      "metadata": {
        "id": "dI-YgxnllTxp",
        "colab_type": "code",
        "colab": {
          "base_uri": "https://localhost:8080/",
          "height": 34
        },
        "outputId": "6774bfed-10d2-4eae-84cb-67f65b1ac3ae"
      },
      "source": [
        "Counter(low_doc.MIS_Status).values() #MIS_Status 1 = 100153, 0 = 9893 (1 is 10 times more than 0)"
      ],
      "execution_count": 96,
      "outputs": [
        {
          "output_type": "execute_result",
          "data": {
            "text/plain": [
              "dict_values([100153, 9893])"
            ]
          },
          "metadata": {
            "tags": []
          },
          "execution_count": 96
        }
      ]
    },
    {
      "cell_type": "code",
      "metadata": {
        "id": "SKVTdb_5ljxm",
        "colab_type": "code",
        "colab": {
          "base_uri": "https://localhost:8080/",
          "height": 590
        },
        "outputId": "52d96d27-b7fb-488c-aae8-1fe1a9202943"
      },
      "source": [
        "#Let's check if we have some rows in cond_6 with these conditions\n",
        "cond_7 = cond_6[(cond_6['GrAppv'] <= 100000) & (cond_6['Term'] <= 93) & (cond_6['MIS_Status'] == 1)]\n",
        "cond_7\n",
        "#Ok, we can assign 1 to 1565 rows in LowDoc program. It's better to then just delete the rows."
      ],
      "execution_count": 97,
      "outputs": [
        {
          "output_type": "execute_result",
          "data": {
            "text/html": [
              "<div>\n",
              "<style scoped>\n",
              "    .dataframe tbody tr th:only-of-type {\n",
              "        vertical-align: middle;\n",
              "    }\n",
              "\n",
              "    .dataframe tbody tr th {\n",
              "        vertical-align: top;\n",
              "    }\n",
              "\n",
              "    .dataframe thead th {\n",
              "        text-align: right;\n",
              "    }\n",
              "</style>\n",
              "<table border=\"1\" class=\"dataframe\">\n",
              "  <thead>\n",
              "    <tr style=\"text-align: right;\">\n",
              "      <th></th>\n",
              "      <th>LoanNr_ChkDgt</th>\n",
              "      <th>City</th>\n",
              "      <th>State</th>\n",
              "      <th>Zip</th>\n",
              "      <th>NAICS</th>\n",
              "      <th>ApprovalDate</th>\n",
              "      <th>ApprovalFY</th>\n",
              "      <th>Term</th>\n",
              "      <th>NoEmp</th>\n",
              "      <th>NewExist</th>\n",
              "      <th>CreateJob</th>\n",
              "      <th>RetainedJob</th>\n",
              "      <th>FranchiseCode</th>\n",
              "      <th>UrbanRural</th>\n",
              "      <th>RevLineCr</th>\n",
              "      <th>LowDoc</th>\n",
              "      <th>MIS_Status</th>\n",
              "      <th>GrAppv</th>\n",
              "      <th>SBA_Appv</th>\n",
              "    </tr>\n",
              "  </thead>\n",
              "  <tbody>\n",
              "    <tr>\n",
              "      <th>49151</th>\n",
              "      <td>1380186001</td>\n",
              "      <td>EL PASO</td>\n",
              "      <td>TX</td>\n",
              "      <td>79912</td>\n",
              "      <td>531210</td>\n",
              "      <td>2006-03-16</td>\n",
              "      <td>2006</td>\n",
              "      <td>60</td>\n",
              "      <td>2</td>\n",
              "      <td>1.0</td>\n",
              "      <td>0</td>\n",
              "      <td>0</td>\n",
              "      <td>1</td>\n",
              "      <td>1</td>\n",
              "      <td>Y</td>\n",
              "      <td>C</td>\n",
              "      <td>1</td>\n",
              "      <td>50000.0</td>\n",
              "      <td>37500.0</td>\n",
              "    </tr>\n",
              "    <tr>\n",
              "      <th>66702</th>\n",
              "      <td>1503586004</td>\n",
              "      <td>EL PASO</td>\n",
              "      <td>TX</td>\n",
              "      <td>79936</td>\n",
              "      <td>541310</td>\n",
              "      <td>2006-03-27</td>\n",
              "      <td>2006</td>\n",
              "      <td>60</td>\n",
              "      <td>4</td>\n",
              "      <td>2.0</td>\n",
              "      <td>0</td>\n",
              "      <td>0</td>\n",
              "      <td>1</td>\n",
              "      <td>1</td>\n",
              "      <td>N</td>\n",
              "      <td>C</td>\n",
              "      <td>1</td>\n",
              "      <td>30000.0</td>\n",
              "      <td>25500.0</td>\n",
              "    </tr>\n",
              "    <tr>\n",
              "      <th>71166</th>\n",
              "      <td>1535204008</td>\n",
              "      <td>EL PASO</td>\n",
              "      <td>TX</td>\n",
              "      <td>79915</td>\n",
              "      <td>0</td>\n",
              "      <td>1997-09-10</td>\n",
              "      <td>1997</td>\n",
              "      <td>84</td>\n",
              "      <td>6</td>\n",
              "      <td>1.0</td>\n",
              "      <td>2</td>\n",
              "      <td>4</td>\n",
              "      <td>1</td>\n",
              "      <td>0</td>\n",
              "      <td>N</td>\n",
              "      <td>C</td>\n",
              "      <td>1</td>\n",
              "      <td>45000.0</td>\n",
              "      <td>36000.0</td>\n",
              "    </tr>\n",
              "    <tr>\n",
              "      <th>75024</th>\n",
              "      <td>1562824001</td>\n",
              "      <td>EL PASO</td>\n",
              "      <td>TX</td>\n",
              "      <td>79905</td>\n",
              "      <td>0</td>\n",
              "      <td>1997-09-19</td>\n",
              "      <td>1997</td>\n",
              "      <td>60</td>\n",
              "      <td>1</td>\n",
              "      <td>2.0</td>\n",
              "      <td>0</td>\n",
              "      <td>1</td>\n",
              "      <td>1</td>\n",
              "      <td>0</td>\n",
              "      <td>N</td>\n",
              "      <td>C</td>\n",
              "      <td>1</td>\n",
              "      <td>11000.0</td>\n",
              "      <td>8800.0</td>\n",
              "    </tr>\n",
              "    <tr>\n",
              "      <th>96102</th>\n",
              "      <td>1712804002</td>\n",
              "      <td>EL PASO</td>\n",
              "      <td>TX</td>\n",
              "      <td>79902</td>\n",
              "      <td>0</td>\n",
              "      <td>1997-12-02</td>\n",
              "      <td>1998</td>\n",
              "      <td>68</td>\n",
              "      <td>3</td>\n",
              "      <td>1.0</td>\n",
              "      <td>2</td>\n",
              "      <td>1</td>\n",
              "      <td>1</td>\n",
              "      <td>0</td>\n",
              "      <td>N</td>\n",
              "      <td>C</td>\n",
              "      <td>1</td>\n",
              "      <td>25000.0</td>\n",
              "      <td>20000.0</td>\n",
              "    </tr>\n",
              "    <tr>\n",
              "      <th>...</th>\n",
              "      <td>...</td>\n",
              "      <td>...</td>\n",
              "      <td>...</td>\n",
              "      <td>...</td>\n",
              "      <td>...</td>\n",
              "      <td>...</td>\n",
              "      <td>...</td>\n",
              "      <td>...</td>\n",
              "      <td>...</td>\n",
              "      <td>...</td>\n",
              "      <td>...</td>\n",
              "      <td>...</td>\n",
              "      <td>...</td>\n",
              "      <td>...</td>\n",
              "      <td>...</td>\n",
              "      <td>...</td>\n",
              "      <td>...</td>\n",
              "      <td>...</td>\n",
              "      <td>...</td>\n",
              "    </tr>\n",
              "    <tr>\n",
              "      <th>860458</th>\n",
              "      <td>9254924001</td>\n",
              "      <td>EL PASO</td>\n",
              "      <td>TX</td>\n",
              "      <td>79936</td>\n",
              "      <td>561730</td>\n",
              "      <td>2005-11-09</td>\n",
              "      <td>2006</td>\n",
              "      <td>60</td>\n",
              "      <td>19</td>\n",
              "      <td>1.0</td>\n",
              "      <td>0</td>\n",
              "      <td>0</td>\n",
              "      <td>1</td>\n",
              "      <td>1</td>\n",
              "      <td>Y</td>\n",
              "      <td>C</td>\n",
              "      <td>1</td>\n",
              "      <td>50000.0</td>\n",
              "      <td>42500.0</td>\n",
              "    </tr>\n",
              "    <tr>\n",
              "      <th>862620</th>\n",
              "      <td>9286494008</td>\n",
              "      <td>EL PASO</td>\n",
              "      <td>TX</td>\n",
              "      <td>79935</td>\n",
              "      <td>323110</td>\n",
              "      <td>2005-11-17</td>\n",
              "      <td>2006</td>\n",
              "      <td>36</td>\n",
              "      <td>13</td>\n",
              "      <td>1.0</td>\n",
              "      <td>0</td>\n",
              "      <td>0</td>\n",
              "      <td>1</td>\n",
              "      <td>1</td>\n",
              "      <td>Y</td>\n",
              "      <td>C</td>\n",
              "      <td>1</td>\n",
              "      <td>100000.0</td>\n",
              "      <td>85000.0</td>\n",
              "    </tr>\n",
              "    <tr>\n",
              "      <th>870592</th>\n",
              "      <td>9398784006</td>\n",
              "      <td>EL PASO</td>\n",
              "      <td>TX</td>\n",
              "      <td>79901</td>\n",
              "      <td>541810</td>\n",
              "      <td>2005-12-08</td>\n",
              "      <td>2006</td>\n",
              "      <td>75</td>\n",
              "      <td>8</td>\n",
              "      <td>1.0</td>\n",
              "      <td>0</td>\n",
              "      <td>0</td>\n",
              "      <td>1</td>\n",
              "      <td>1</td>\n",
              "      <td>N</td>\n",
              "      <td>C</td>\n",
              "      <td>1</td>\n",
              "      <td>75000.0</td>\n",
              "      <td>63750.0</td>\n",
              "    </tr>\n",
              "    <tr>\n",
              "      <th>879369</th>\n",
              "      <td>9541544008</td>\n",
              "      <td>EL PASO</td>\n",
              "      <td>TX</td>\n",
              "      <td>79922</td>\n",
              "      <td>444220</td>\n",
              "      <td>2005-12-29</td>\n",
              "      <td>2006</td>\n",
              "      <td>72</td>\n",
              "      <td>1</td>\n",
              "      <td>2.0</td>\n",
              "      <td>0</td>\n",
              "      <td>0</td>\n",
              "      <td>1</td>\n",
              "      <td>1</td>\n",
              "      <td>N</td>\n",
              "      <td>C</td>\n",
              "      <td>1</td>\n",
              "      <td>60000.0</td>\n",
              "      <td>51000.0</td>\n",
              "    </tr>\n",
              "    <tr>\n",
              "      <th>886307</th>\n",
              "      <td>9718054010</td>\n",
              "      <td>EL PASO</td>\n",
              "      <td>TX</td>\n",
              "      <td>79901</td>\n",
              "      <td>541620</td>\n",
              "      <td>2006-01-19</td>\n",
              "      <td>2006</td>\n",
              "      <td>60</td>\n",
              "      <td>16</td>\n",
              "      <td>1.0</td>\n",
              "      <td>0</td>\n",
              "      <td>0</td>\n",
              "      <td>1</td>\n",
              "      <td>1</td>\n",
              "      <td>N</td>\n",
              "      <td>C</td>\n",
              "      <td>1</td>\n",
              "      <td>20000.0</td>\n",
              "      <td>15000.0</td>\n",
              "    </tr>\n",
              "  </tbody>\n",
              "</table>\n",
              "<p>1565 rows × 19 columns</p>\n",
              "</div>"
            ],
            "text/plain": [
              "        LoanNr_ChkDgt     City State  ...  MIS_Status    GrAppv SBA_Appv\n",
              "49151      1380186001  EL PASO    TX  ...           1   50000.0  37500.0\n",
              "66702      1503586004  EL PASO    TX  ...           1   30000.0  25500.0\n",
              "71166      1535204008  EL PASO    TX  ...           1   45000.0  36000.0\n",
              "75024      1562824001  EL PASO    TX  ...           1   11000.0   8800.0\n",
              "96102      1712804002  EL PASO    TX  ...           1   25000.0  20000.0\n",
              "...               ...      ...   ...  ...         ...       ...      ...\n",
              "860458     9254924001  EL PASO    TX  ...           1   50000.0  42500.0\n",
              "862620     9286494008  EL PASO    TX  ...           1  100000.0  85000.0\n",
              "870592     9398784006  EL PASO    TX  ...           1   75000.0  63750.0\n",
              "879369     9541544008  EL PASO    TX  ...           1   60000.0  51000.0\n",
              "886307     9718054010  EL PASO    TX  ...           1   20000.0  15000.0\n",
              "\n",
              "[1565 rows x 19 columns]"
            ]
          },
          "metadata": {
            "tags": []
          },
          "execution_count": 97
        }
      ]
    },
    {
      "cell_type": "code",
      "metadata": {
        "id": "EdbcF1zZl_Ud",
        "colab_type": "code",
        "colab": {
          "base_uri": "https://localhost:8080/",
          "height": 34
        },
        "outputId": "ad20adeb-e1d3-4cf0-8bef-46c95c99c653"
      },
      "source": [
        "cond_7.shape"
      ],
      "execution_count": 98,
      "outputs": [
        {
          "output_type": "execute_result",
          "data": {
            "text/plain": [
              "(1565, 19)"
            ]
          },
          "metadata": {
            "tags": []
          },
          "execution_count": 98
        }
      ]
    },
    {
      "cell_type": "code",
      "metadata": {
        "id": "JHXbD_ZbmAlF",
        "colab_type": "code",
        "colab": {}
      },
      "source": [
        "#I will iterate a loop to assign value 'Y' to these rows in column 15 (LowDoc)\n",
        "for i in cond_7.index:\n",
        "    credit.loc[i,['LowDoc']] = 'Y'"
      ],
      "execution_count": 0,
      "outputs": []
    },
    {
      "cell_type": "code",
      "metadata": {
        "id": "dvxnICufmC_e",
        "colab_type": "code",
        "colab": {
          "base_uri": "https://localhost:8080/",
          "height": 455
        },
        "outputId": "7c54c108-69ae-4ced-beae-3bac90da3049"
      },
      "source": [
        "#Examine results 4432 rows. I will drop other values\n",
        "cond_8 = credit[(credit['LowDoc'] != \"Y\") & (credit['LowDoc'] != \"N\")]\n",
        "cond_8"
      ],
      "execution_count": 100,
      "outputs": [
        {
          "output_type": "execute_result",
          "data": {
            "text/html": [
              "<div>\n",
              "<style scoped>\n",
              "    .dataframe tbody tr th:only-of-type {\n",
              "        vertical-align: middle;\n",
              "    }\n",
              "\n",
              "    .dataframe tbody tr th {\n",
              "        vertical-align: top;\n",
              "    }\n",
              "\n",
              "    .dataframe thead th {\n",
              "        text-align: right;\n",
              "    }\n",
              "</style>\n",
              "<table border=\"1\" class=\"dataframe\">\n",
              "  <thead>\n",
              "    <tr style=\"text-align: right;\">\n",
              "      <th></th>\n",
              "      <th>LoanNr_ChkDgt</th>\n",
              "      <th>City</th>\n",
              "      <th>State</th>\n",
              "      <th>Zip</th>\n",
              "      <th>NAICS</th>\n",
              "      <th>ApprovalDate</th>\n",
              "      <th>ApprovalFY</th>\n",
              "      <th>Term</th>\n",
              "      <th>NoEmp</th>\n",
              "      <th>NewExist</th>\n",
              "      <th>CreateJob</th>\n",
              "      <th>RetainedJob</th>\n",
              "      <th>FranchiseCode</th>\n",
              "      <th>UrbanRural</th>\n",
              "      <th>RevLineCr</th>\n",
              "      <th>LowDoc</th>\n",
              "      <th>MIS_Status</th>\n",
              "      <th>GrAppv</th>\n",
              "      <th>SBA_Appv</th>\n",
              "    </tr>\n",
              "  </thead>\n",
              "  <tbody>\n",
              "    <tr>\n",
              "      <th>7413</th>\n",
              "      <td>1050326003</td>\n",
              "      <td>ST. NAZIANZ</td>\n",
              "      <td>WI</td>\n",
              "      <td>54232</td>\n",
              "      <td>333111</td>\n",
              "      <td>2006-02-16</td>\n",
              "      <td>2006</td>\n",
              "      <td>240</td>\n",
              "      <td>130</td>\n",
              "      <td>1.0</td>\n",
              "      <td>0</td>\n",
              "      <td>130</td>\n",
              "      <td>1</td>\n",
              "      <td>2</td>\n",
              "      <td>0</td>\n",
              "      <td>C</td>\n",
              "      <td>1</td>\n",
              "      <td>1306000.0</td>\n",
              "      <td>1306000.0</td>\n",
              "    </tr>\n",
              "    <tr>\n",
              "      <th>23459</th>\n",
              "      <td>1176096001</td>\n",
              "      <td>DEMING</td>\n",
              "      <td>NM</td>\n",
              "      <td>88031</td>\n",
              "      <td>722110</td>\n",
              "      <td>2006-02-27</td>\n",
              "      <td>2006</td>\n",
              "      <td>120</td>\n",
              "      <td>7</td>\n",
              "      <td>2.0</td>\n",
              "      <td>0</td>\n",
              "      <td>0</td>\n",
              "      <td>1</td>\n",
              "      <td>1</td>\n",
              "      <td>N</td>\n",
              "      <td>C</td>\n",
              "      <td>1</td>\n",
              "      <td>160000.0</td>\n",
              "      <td>120000.0</td>\n",
              "    </tr>\n",
              "    <tr>\n",
              "      <th>30877</th>\n",
              "      <td>1232806006</td>\n",
              "      <td>EL PASO</td>\n",
              "      <td>TX</td>\n",
              "      <td>79938</td>\n",
              "      <td>722213</td>\n",
              "      <td>2006-03-02</td>\n",
              "      <td>2006</td>\n",
              "      <td>120</td>\n",
              "      <td>5</td>\n",
              "      <td>2.0</td>\n",
              "      <td>0</td>\n",
              "      <td>0</td>\n",
              "      <td>8023</td>\n",
              "      <td>1</td>\n",
              "      <td>N</td>\n",
              "      <td>C</td>\n",
              "      <td>1</td>\n",
              "      <td>189000.0</td>\n",
              "      <td>141750.0</td>\n",
              "    </tr>\n",
              "    <tr>\n",
              "      <th>35740</th>\n",
              "      <td>1272576003</td>\n",
              "      <td>AVON LAKE</td>\n",
              "      <td>OH</td>\n",
              "      <td>44012</td>\n",
              "      <td>811192</td>\n",
              "      <td>2006-03-06</td>\n",
              "      <td>2006</td>\n",
              "      <td>252</td>\n",
              "      <td>2</td>\n",
              "      <td>2.0</td>\n",
              "      <td>0</td>\n",
              "      <td>0</td>\n",
              "      <td>1</td>\n",
              "      <td>1</td>\n",
              "      <td>N</td>\n",
              "      <td>C</td>\n",
              "      <td>1</td>\n",
              "      <td>1200000.0</td>\n",
              "      <td>900000.0</td>\n",
              "    </tr>\n",
              "    <tr>\n",
              "      <th>36376</th>\n",
              "      <td>1277995003</td>\n",
              "      <td>Martinsville</td>\n",
              "      <td>VA</td>\n",
              "      <td>24112</td>\n",
              "      <td>484110</td>\n",
              "      <td>2005-04-22</td>\n",
              "      <td>2005</td>\n",
              "      <td>83</td>\n",
              "      <td>1</td>\n",
              "      <td>1.0</td>\n",
              "      <td>2</td>\n",
              "      <td>1</td>\n",
              "      <td>1</td>\n",
              "      <td>2</td>\n",
              "      <td>Y</td>\n",
              "      <td>C</td>\n",
              "      <td>1</td>\n",
              "      <td>250000.0</td>\n",
              "      <td>125000.0</td>\n",
              "    </tr>\n",
              "    <tr>\n",
              "      <th>...</th>\n",
              "      <td>...</td>\n",
              "      <td>...</td>\n",
              "      <td>...</td>\n",
              "      <td>...</td>\n",
              "      <td>...</td>\n",
              "      <td>...</td>\n",
              "      <td>...</td>\n",
              "      <td>...</td>\n",
              "      <td>...</td>\n",
              "      <td>...</td>\n",
              "      <td>...</td>\n",
              "      <td>...</td>\n",
              "      <td>...</td>\n",
              "      <td>...</td>\n",
              "      <td>...</td>\n",
              "      <td>...</td>\n",
              "      <td>...</td>\n",
              "      <td>...</td>\n",
              "      <td>...</td>\n",
              "    </tr>\n",
              "    <tr>\n",
              "      <th>886336</th>\n",
              "      <td>9718424003</td>\n",
              "      <td>EL PASO</td>\n",
              "      <td>TX</td>\n",
              "      <td>79901</td>\n",
              "      <td>541620</td>\n",
              "      <td>2006-01-19</td>\n",
              "      <td>2006</td>\n",
              "      <td>60</td>\n",
              "      <td>16</td>\n",
              "      <td>1.0</td>\n",
              "      <td>0</td>\n",
              "      <td>0</td>\n",
              "      <td>1</td>\n",
              "      <td>1</td>\n",
              "      <td>Y</td>\n",
              "      <td>C</td>\n",
              "      <td>1</td>\n",
              "      <td>200000.0</td>\n",
              "      <td>150000.0</td>\n",
              "    </tr>\n",
              "    <tr>\n",
              "      <th>886363</th>\n",
              "      <td>9719294003</td>\n",
              "      <td>EL PASO</td>\n",
              "      <td>TX</td>\n",
              "      <td>79922</td>\n",
              "      <td>326199</td>\n",
              "      <td>2006-01-19</td>\n",
              "      <td>2006</td>\n",
              "      <td>84</td>\n",
              "      <td>71</td>\n",
              "      <td>1.0</td>\n",
              "      <td>0</td>\n",
              "      <td>0</td>\n",
              "      <td>1</td>\n",
              "      <td>1</td>\n",
              "      <td>N</td>\n",
              "      <td>C</td>\n",
              "      <td>1</td>\n",
              "      <td>2000000.0</td>\n",
              "      <td>1500000.0</td>\n",
              "    </tr>\n",
              "    <tr>\n",
              "      <th>887812</th>\n",
              "      <td>9755534000</td>\n",
              "      <td>EL PASO</td>\n",
              "      <td>TX</td>\n",
              "      <td>79925</td>\n",
              "      <td>238990</td>\n",
              "      <td>2006-01-23</td>\n",
              "      <td>2006</td>\n",
              "      <td>240</td>\n",
              "      <td>15</td>\n",
              "      <td>1.0</td>\n",
              "      <td>4</td>\n",
              "      <td>0</td>\n",
              "      <td>1</td>\n",
              "      <td>1</td>\n",
              "      <td>0</td>\n",
              "      <td>C</td>\n",
              "      <td>1</td>\n",
              "      <td>131000.0</td>\n",
              "      <td>131000.0</td>\n",
              "    </tr>\n",
              "    <tr>\n",
              "      <th>891829</th>\n",
              "      <td>9844504004</td>\n",
              "      <td>EL PASO</td>\n",
              "      <td>TX</td>\n",
              "      <td>79902</td>\n",
              "      <td>621310</td>\n",
              "      <td>2006-02-02</td>\n",
              "      <td>2006</td>\n",
              "      <td>84</td>\n",
              "      <td>3</td>\n",
              "      <td>2.0</td>\n",
              "      <td>0</td>\n",
              "      <td>0</td>\n",
              "      <td>1</td>\n",
              "      <td>1</td>\n",
              "      <td>N</td>\n",
              "      <td>C</td>\n",
              "      <td>1</td>\n",
              "      <td>135000.0</td>\n",
              "      <td>114750.0</td>\n",
              "    </tr>\n",
              "    <tr>\n",
              "      <th>894653</th>\n",
              "      <td>9894924010</td>\n",
              "      <td>LEMONT</td>\n",
              "      <td>IL</td>\n",
              "      <td>60439</td>\n",
              "      <td>238390</td>\n",
              "      <td>2006-02-06</td>\n",
              "      <td>2006</td>\n",
              "      <td>84</td>\n",
              "      <td>30</td>\n",
              "      <td>1.0</td>\n",
              "      <td>0</td>\n",
              "      <td>0</td>\n",
              "      <td>1</td>\n",
              "      <td>1</td>\n",
              "      <td>N</td>\n",
              "      <td>C</td>\n",
              "      <td>1</td>\n",
              "      <td>375000.0</td>\n",
              "      <td>281250.0</td>\n",
              "    </tr>\n",
              "  </tbody>\n",
              "</table>\n",
              "<p>4432 rows × 19 columns</p>\n",
              "</div>"
            ],
            "text/plain": [
              "        LoanNr_ChkDgt          City State  ...  MIS_Status     GrAppv   SBA_Appv\n",
              "7413       1050326003   ST. NAZIANZ    WI  ...           1  1306000.0  1306000.0\n",
              "23459      1176096001        DEMING    NM  ...           1   160000.0   120000.0\n",
              "30877      1232806006       EL PASO    TX  ...           1   189000.0   141750.0\n",
              "35740      1272576003     AVON LAKE    OH  ...           1  1200000.0   900000.0\n",
              "36376      1277995003  Martinsville    VA  ...           1   250000.0   125000.0\n",
              "...               ...           ...   ...  ...         ...        ...        ...\n",
              "886336     9718424003       EL PASO    TX  ...           1   200000.0   150000.0\n",
              "886363     9719294003       EL PASO    TX  ...           1  2000000.0  1500000.0\n",
              "887812     9755534000       EL PASO    TX  ...           1   131000.0   131000.0\n",
              "891829     9844504004       EL PASO    TX  ...           1   135000.0   114750.0\n",
              "894653     9894924010        LEMONT    IL  ...           1   375000.0   281250.0\n",
              "\n",
              "[4432 rows x 19 columns]"
            ]
          },
          "metadata": {
            "tags": []
          },
          "execution_count": 100
        }
      ]
    },
    {
      "cell_type": "code",
      "metadata": {
        "id": "IhCR24AcmOmK",
        "colab_type": "code",
        "colab": {}
      },
      "source": [
        "#I will assign nan to all values not equal to \"Y\" and \"N\" and than drop NAs\n",
        "for i in cond_8.index:\n",
        "    credit.loc[i,'LowDoc'] = np.nan\n",
        "\n",
        "credit = credit.dropna(axis =0, subset=['LowDoc'])"
      ],
      "execution_count": 0,
      "outputs": []
    },
    {
      "cell_type": "code",
      "metadata": {
        "id": "2pR1_fv5maSo",
        "colab_type": "code",
        "colab": {
          "base_uri": "https://localhost:8080/",
          "height": 34
        },
        "outputId": "21618459-d625-439c-f3c2-d8bac7d7cd92"
      },
      "source": [
        "credit.shape"
      ],
      "execution_count": 102,
      "outputs": [
        {
          "output_type": "execute_result",
          "data": {
            "text/plain": [
              "(891838, 19)"
            ]
          },
          "metadata": {
            "tags": []
          },
          "execution_count": 102
        }
      ]
    },
    {
      "cell_type": "code",
      "metadata": {
        "id": "eVYPLrbVmUSH",
        "colab_type": "code",
        "colab": {
          "base_uri": "https://localhost:8080/",
          "height": 34
        },
        "outputId": "666ca706-1885-4c29-ce06-a4d0ea5367e4"
      },
      "source": [
        "#Next is RevLineCr. According to the documentation, revolving line of credit: Y = Yes, N = No\n",
        "Counter(credit.RevLineCr).keys()\n"
      ],
      "execution_count": 103,
      "outputs": [
        {
          "output_type": "execute_result",
          "data": {
            "text/plain": [
              "dict_keys(['N', '0', 'Y', 'T', nan, '`', ',', '1', 'C', '3', '2', 'R', '7', 'A', '5', '.', '4', '-', 'Q'])"
            ]
          },
          "metadata": {
            "tags": []
          },
          "execution_count": 103
        }
      ]
    },
    {
      "cell_type": "code",
      "metadata": {
        "id": "fuAcEwgImYXJ",
        "colab_type": "code",
        "colab": {
          "base_uri": "https://localhost:8080/",
          "height": 34
        },
        "outputId": "5b146b81-ca41-41e6-d129-bf9006b97701"
      },
      "source": [
        "Counter(credit.RevLineCr).values()"
      ],
      "execution_count": 104,
      "outputs": [
        {
          "output_type": "execute_result",
          "data": {
            "text/plain": [
              "dict_values([415133, 256971, 200190, 15191, 4289, 11, 1, 22, 2, 1, 6, 14, 1, 1, 1, 1, 1, 1, 1])"
            ]
          },
          "metadata": {
            "tags": []
          },
          "execution_count": 104
        }
      ]
    },
    {
      "cell_type": "code",
      "metadata": {
        "id": "2oGM-uAxmepC",
        "colab_type": "code",
        "colab": {}
      },
      "source": [
        "#Again we will select rows not equal to Y and N\n",
        "cond_9 = credit[(credit['RevLineCr'] != \"Y\") & (credit['RevLineCr'] != \"N\")] #277188 rows"
      ],
      "execution_count": 0,
      "outputs": []
    },
    {
      "cell_type": "code",
      "metadata": {
        "id": "LA7HTtOemu2l",
        "colab_type": "code",
        "colab": {
          "base_uri": "https://localhost:8080/",
          "height": 34
        },
        "outputId": "dd62b98a-3447-4b02-d8a6-440e9460bbf8"
      },
      "source": [
        "Counter(cond_9.MIS_Status).keys() # 1:231537 0:44978 rows."
      ],
      "execution_count": 106,
      "outputs": [
        {
          "output_type": "execute_result",
          "data": {
            "text/plain": [
              "dict_keys([1, 0])"
            ]
          },
          "metadata": {
            "tags": []
          },
          "execution_count": 106
        }
      ]
    },
    {
      "cell_type": "code",
      "metadata": {
        "id": "LSFAW1l-mhDW",
        "colab_type": "code",
        "colab": {
          "base_uri": "https://localhost:8080/",
          "height": 34
        },
        "outputId": "fac8fcec-6889-43bc-9926-4b4ea698bc1d"
      },
      "source": [
        "Counter(cond_9.MIS_Status).values() # 1:231537 0:44978 rows."
      ],
      "execution_count": 107,
      "outputs": [
        {
          "output_type": "execute_result",
          "data": {
            "text/plain": [
              "dict_values([231537, 44978])"
            ]
          },
          "metadata": {
            "tags": []
          },
          "execution_count": 107
        }
      ]
    },
    {
      "cell_type": "code",
      "metadata": {
        "id": "Sgd2NkSOnJ0S",
        "colab_type": "code",
        "colab": {}
      },
      "source": [
        "#We will select all rows with RevLine Yes and RevLine No and try to find any patterns to impute NAs\n",
        "RevLine_yes = credit[credit['RevLineCr'] == \"Y\"]\n",
        "RevLine_no = credit[credit['RevLineCr'] == \"N\"]"
      ],
      "execution_count": 0,
      "outputs": []
    },
    {
      "cell_type": "code",
      "metadata": {
        "id": "h729a3oWnL_N",
        "colab_type": "code",
        "colab": {
          "base_uri": "https://localhost:8080/",
          "height": 34
        },
        "outputId": "a75c2d81-9d9d-46ac-81ba-5f8bfac4a559"
      },
      "source": [
        "RevLine_yes.shape"
      ],
      "execution_count": 109,
      "outputs": [
        {
          "output_type": "execute_result",
          "data": {
            "text/plain": [
              "(200190, 19)"
            ]
          },
          "metadata": {
            "tags": []
          },
          "execution_count": 109
        }
      ]
    },
    {
      "cell_type": "code",
      "metadata": {
        "id": "JD13WRsenQmB",
        "colab_type": "code",
        "colab": {
          "base_uri": "https://localhost:8080/",
          "height": 34
        },
        "outputId": "2ccd5eb6-d3c5-4f2a-88e1-60171538c193"
      },
      "source": [
        "RevLine_no.shape"
      ],
      "execution_count": 110,
      "outputs": [
        {
          "output_type": "execute_result",
          "data": {
            "text/plain": [
              "(415133, 19)"
            ]
          },
          "metadata": {
            "tags": []
          },
          "execution_count": 110
        }
      ]
    },
    {
      "cell_type": "code",
      "metadata": {
        "id": "49DMDVWMnDCZ",
        "colab_type": "code",
        "colab": {
          "base_uri": "https://localhost:8080/",
          "height": 168
        },
        "outputId": "5b2cc4c7-637d-4a3a-bd5e-5870a91ba01e"
      },
      "source": [
        "RevLine_yes.Term.describe() #highest term 312"
      ],
      "execution_count": 111,
      "outputs": [
        {
          "output_type": "execute_result",
          "data": {
            "text/plain": [
              "count    200190.000000\n",
              "mean         61.533938\n",
              "std          27.128074\n",
              "min           0.000000\n",
              "25%          39.000000\n",
              "50%          75.000000\n",
              "75%          84.000000\n",
              "max         312.000000\n",
              "Name: Term, dtype: float64"
            ]
          },
          "metadata": {
            "tags": []
          },
          "execution_count": 111
        }
      ]
    },
    {
      "cell_type": "code",
      "metadata": {
        "id": "jq0fI5Q7nF7H",
        "colab_type": "code",
        "colab": {
          "base_uri": "https://localhost:8080/",
          "height": 168
        },
        "outputId": "a9fbb7dd-635c-49c0-d002-f50c1865738f"
      },
      "source": [
        "RevLine_no.Term.describe() #highest term 527"
      ],
      "execution_count": 112,
      "outputs": [
        {
          "output_type": "execute_result",
          "data": {
            "text/plain": [
              "count    415133.000000\n",
              "mean        125.915061\n",
              "std          82.077373\n",
              "min           0.000000\n",
              "25%          60.000000\n",
              "50%          84.000000\n",
              "75%         180.000000\n",
              "max         527.000000\n",
              "Name: Term, dtype: float64"
            ]
          },
          "metadata": {
            "tags": []
          },
          "execution_count": 112
        }
      ]
    },
    {
      "cell_type": "code",
      "metadata": {
        "id": "2X8Tikm2ndkl",
        "colab_type": "code",
        "colab": {
          "base_uri": "https://localhost:8080/",
          "height": 168
        },
        "outputId": "8e0e9ec6-d1d1-40ab-c001-f1aad533fde2"
      },
      "source": [
        "#number of emp\n",
        "RevLine_no.NoEmp.describe()"
      ],
      "execution_count": 113,
      "outputs": [
        {
          "output_type": "execute_result",
          "data": {
            "text/plain": [
              "count    415133.000000\n",
              "mean         14.430156\n",
              "std          87.034973\n",
              "min           0.000000\n",
              "25%           2.000000\n",
              "50%           5.000000\n",
              "75%          14.000000\n",
              "max        9999.000000\n",
              "Name: NoEmp, dtype: float64"
            ]
          },
          "metadata": {
            "tags": []
          },
          "execution_count": 113
        }
      ]
    },
    {
      "cell_type": "code",
      "metadata": {
        "id": "2IRqptztniZF",
        "colab_type": "code",
        "colab": {
          "base_uri": "https://localhost:8080/",
          "height": 168
        },
        "outputId": "39a64076-c156-4fbe-9acd-3aee40c58d9d"
      },
      "source": [
        "RevLine_yes.NoEmp.describe()"
      ],
      "execution_count": 114,
      "outputs": [
        {
          "output_type": "execute_result",
          "data": {
            "text/plain": [
              "count    200190.000000\n",
              "mean          6.845717\n",
              "std          40.030355\n",
              "min           0.000000\n",
              "25%           2.000000\n",
              "50%           3.000000\n",
              "75%           6.000000\n",
              "max        8000.000000\n",
              "Name: NoEmp, dtype: float64"
            ]
          },
          "metadata": {
            "tags": []
          },
          "execution_count": 114
        }
      ]
    },
    {
      "cell_type": "code",
      "metadata": {
        "id": "k-V78_tmnobh",
        "colab_type": "code",
        "colab": {}
      },
      "source": [
        "#I can't find any clear pattern and there are a lot of NAs in this row, so I decided to delete this column on this stage.\n",
        "#Also, I found out that column #0 is unique, too. It's an ID number of Identifier – Primary key. We will drop it, too.\n",
        "#We don't need columns with dates anymore: ApprovalDate, ApprovalFY\n",
        "#SBA_Appv - a guaranteed ammount from the US government. Useless, too. "
      ],
      "execution_count": 0,
      "outputs": []
    },
    {
      "cell_type": "code",
      "metadata": {
        "id": "WXdYRY2LnsjS",
        "colab_type": "code",
        "colab": {}
      },
      "source": [
        "credit = credit.drop(axis =1, columns = ['Zip','LoanNr_ChkDgt','ApprovalDate', 'ApprovalFY','RevLineCr','SBA_Appv'])"
      ],
      "execution_count": 0,
      "outputs": []
    },
    {
      "cell_type": "code",
      "metadata": {
        "id": "1L3xgaiQn_O2",
        "colab_type": "code",
        "colab": {
          "base_uri": "https://localhost:8080/",
          "height": 34
        },
        "outputId": "5470fbd6-d611-4143-f2e6-86920c51d3f2"
      },
      "source": [
        "credit.shape"
      ],
      "execution_count": 117,
      "outputs": [
        {
          "output_type": "execute_result",
          "data": {
            "text/plain": [
              "(891838, 13)"
            ]
          },
          "metadata": {
            "tags": []
          },
          "execution_count": 117
        }
      ]
    },
    {
      "cell_type": "code",
      "metadata": {
        "id": "ZWQkjfAAoBG4",
        "colab_type": "code",
        "colab": {
          "base_uri": "https://localhost:8080/",
          "height": 218
        },
        "outputId": "4be8b03f-abb5-49ff-faf9-71ff824335b5"
      },
      "source": [
        "credit.City.value_counts()# 2 = 125348 1 = 292878 \n",
        "#We can try to create a feature according to cities (Small, Big, Medium), but maybe later for improving the model. \n",
        "#On this stage I think we can drop this column, too many unique values."
      ],
      "execution_count": 118,
      "outputs": [
        {
          "output_type": "execute_result",
          "data": {
            "text/plain": [
              "LOS ANGELES     11521\n",
              "HOUSTON         10180\n",
              "NEW YORK         7827\n",
              "CHICAGO          5987\n",
              "MIAMI            5594\n",
              "                ...  \n",
              "Lake Luzerne        1\n",
              "VERONIA             1\n",
              "PERORIA             1\n",
              "LaPlata             1\n",
              "NEW Y8ORK           1\n",
              "Name: City, Length: 32423, dtype: int64"
            ]
          },
          "metadata": {
            "tags": []
          },
          "execution_count": 118
        }
      ]
    },
    {
      "cell_type": "code",
      "metadata": {
        "id": "_30pyB01obxy",
        "colab_type": "code",
        "colab": {
          "base_uri": "https://localhost:8080/",
          "height": 890
        },
        "outputId": "39aebe53-a1a0-4196-a7c1-1b0d6f363e9b"
      },
      "source": [
        "credit.State.value_counts() \n",
        "#My idea is to create new features using States and NAICS. For each State and for each Sector of business I will give points.\n",
        "#Lower default rate - higher points."
      ],
      "execution_count": 119,
      "outputs": [
        {
          "output_type": "execute_result",
          "data": {
            "text/plain": [
              "CA    129723\n",
              "TX     69667\n",
              "NY     57264\n",
              "FL     41035\n",
              "PA     34517\n",
              "OH     32398\n",
              "IL     29481\n",
              "MA     24979\n",
              "MN     24263\n",
              "NJ     23916\n",
              "WA     23058\n",
              "GA     22157\n",
              "WI     20922\n",
              "MO     20547\n",
              "CO     20499\n",
              "MI     20410\n",
              "UT     18689\n",
              "AZ     17470\n",
              "NC     14119\n",
              "IN     14005\n",
              "MD     13183\n",
              "VA     13016\n",
              "CT     12022\n",
              "NH     12001\n",
              "IA     11953\n",
              "KS     11403\n",
              "OR     10970\n",
              "OK      9882\n",
              "LA      9525\n",
              "ID      9407\n",
              "TN      9297\n",
              "RI      8922\n",
              "MT      8688\n",
              "AL      8304\n",
              "NV      7955\n",
              "KY      7676\n",
              "MS      7619\n",
              "NE      6333\n",
              "AR      6296\n",
              "NM      5965\n",
              "ME      5911\n",
              "SC      5513\n",
              "VT      5413\n",
              "ND      5220\n",
              "SD      4404\n",
              "HI      3582\n",
              "WV      3266\n",
              "WY      2825\n",
              "AK      2393\n",
              "DE      2166\n",
              "DC      1609\n",
              "Name: State, dtype: int64"
            ]
          },
          "metadata": {
            "tags": []
          },
          "execution_count": 119
        }
      ]
    },
    {
      "cell_type": "code",
      "metadata": {
        "id": "09oYFu8po014",
        "colab_type": "code",
        "colab": {}
      },
      "source": [
        "#Function extracts first 2 digits from variable, if variables = 0, returns 0\n",
        "def first_two(d):\n",
        "    if d <= 0:\n",
        "        return 0\n",
        "    return (d // 10 ** (int(math.log(d, 10)) - 1))"
      ],
      "execution_count": 0,
      "outputs": []
    },
    {
      "cell_type": "code",
      "metadata": {
        "id": "hRxjMGycoDaj",
        "colab_type": "code",
        "colab": {}
      },
      "source": [
        "\n",
        "#Function returns points according to the given rate. Lower rate, higher points.\n",
        "def point_def(rate):\n",
        "    if rate <= 12:\n",
        "        return 5\n",
        "    elif  12 < rate <= 17: \n",
        "        return 4\n",
        "    elif 17 < rate <= 21:\n",
        "        return 3\n",
        "    elif 21 < rate <= 25:\n",
        "        return 2\n",
        "    elif rate > 25:\n",
        "        return 1"
      ],
      "execution_count": 0,
      "outputs": []
    },
    {
      "cell_type": "code",
      "metadata": {
        "id": "38gsgtIlo8PX",
        "colab_type": "code",
        "colab": {}
      },
      "source": [
        "#Function returns points according to the default rate of each sector.\n",
        "def apply_score(i):\n",
        "    sector_default = {21 : 8, 11 : 9, 55 : 10, 62:10, 22:14, 92:15,54:19, 42:19,31:19,32:16,33:14,81:20,71:21,72:22,44:22,45:23,23:23,56:24,61:24,51:25,48:27,49:23,52:28,53:29}\n",
        "    if i > 0:\n",
        "        defrate = None\n",
        "        if i in sector_default:\n",
        "            defrate = sector_default[i]\n",
        "            return point_def(defrate)\n",
        "    return 0"
      ],
      "execution_count": 0,
      "outputs": []
    },
    {
      "cell_type": "code",
      "metadata": {
        "id": "ZhKFgbVFpIH_",
        "colab_type": "code",
        "colab": {}
      },
      "source": [
        "#Once the functions are ready I will create a new column - \"Sector_Points\" and apply functions to get points\n",
        "credit['Sector_Points'] = credit.NAICS.apply(first_two).apply(apply_score)"
      ],
      "execution_count": 0,
      "outputs": []
    },
    {
      "cell_type": "code",
      "metadata": {
        "id": "bTCWlBRppPrl",
        "colab_type": "code",
        "colab": {
          "base_uri": "https://localhost:8080/",
          "height": 232
        },
        "outputId": "57266e52-a0dc-49de-89d0-4db8ed6bebb9"
      },
      "source": [
        "credit.head(5)"
      ],
      "execution_count": 124,
      "outputs": [
        {
          "output_type": "execute_result",
          "data": {
            "text/html": [
              "<div>\n",
              "<style scoped>\n",
              "    .dataframe tbody tr th:only-of-type {\n",
              "        vertical-align: middle;\n",
              "    }\n",
              "\n",
              "    .dataframe tbody tr th {\n",
              "        vertical-align: top;\n",
              "    }\n",
              "\n",
              "    .dataframe thead th {\n",
              "        text-align: right;\n",
              "    }\n",
              "</style>\n",
              "<table border=\"1\" class=\"dataframe\">\n",
              "  <thead>\n",
              "    <tr style=\"text-align: right;\">\n",
              "      <th></th>\n",
              "      <th>City</th>\n",
              "      <th>State</th>\n",
              "      <th>NAICS</th>\n",
              "      <th>Term</th>\n",
              "      <th>NoEmp</th>\n",
              "      <th>NewExist</th>\n",
              "      <th>CreateJob</th>\n",
              "      <th>RetainedJob</th>\n",
              "      <th>FranchiseCode</th>\n",
              "      <th>UrbanRural</th>\n",
              "      <th>LowDoc</th>\n",
              "      <th>MIS_Status</th>\n",
              "      <th>GrAppv</th>\n",
              "      <th>Sector_Points</th>\n",
              "    </tr>\n",
              "  </thead>\n",
              "  <tbody>\n",
              "    <tr>\n",
              "      <th>0</th>\n",
              "      <td>EVANSVILLE</td>\n",
              "      <td>IN</td>\n",
              "      <td>451120</td>\n",
              "      <td>84</td>\n",
              "      <td>4</td>\n",
              "      <td>2.0</td>\n",
              "      <td>0</td>\n",
              "      <td>0</td>\n",
              "      <td>1</td>\n",
              "      <td>0</td>\n",
              "      <td>Y</td>\n",
              "      <td>1</td>\n",
              "      <td>60000.0</td>\n",
              "      <td>2</td>\n",
              "    </tr>\n",
              "    <tr>\n",
              "      <th>1</th>\n",
              "      <td>NEW PARIS</td>\n",
              "      <td>IN</td>\n",
              "      <td>722410</td>\n",
              "      <td>60</td>\n",
              "      <td>2</td>\n",
              "      <td>2.0</td>\n",
              "      <td>0</td>\n",
              "      <td>0</td>\n",
              "      <td>1</td>\n",
              "      <td>0</td>\n",
              "      <td>Y</td>\n",
              "      <td>1</td>\n",
              "      <td>40000.0</td>\n",
              "      <td>2</td>\n",
              "    </tr>\n",
              "    <tr>\n",
              "      <th>2</th>\n",
              "      <td>BLOOMINGTON</td>\n",
              "      <td>IN</td>\n",
              "      <td>621210</td>\n",
              "      <td>180</td>\n",
              "      <td>7</td>\n",
              "      <td>1.0</td>\n",
              "      <td>0</td>\n",
              "      <td>0</td>\n",
              "      <td>1</td>\n",
              "      <td>0</td>\n",
              "      <td>N</td>\n",
              "      <td>1</td>\n",
              "      <td>287000.0</td>\n",
              "      <td>5</td>\n",
              "    </tr>\n",
              "    <tr>\n",
              "      <th>3</th>\n",
              "      <td>BROKEN ARROW</td>\n",
              "      <td>OK</td>\n",
              "      <td>0</td>\n",
              "      <td>60</td>\n",
              "      <td>2</td>\n",
              "      <td>1.0</td>\n",
              "      <td>0</td>\n",
              "      <td>0</td>\n",
              "      <td>1</td>\n",
              "      <td>0</td>\n",
              "      <td>Y</td>\n",
              "      <td>1</td>\n",
              "      <td>35000.0</td>\n",
              "      <td>0</td>\n",
              "    </tr>\n",
              "    <tr>\n",
              "      <th>4</th>\n",
              "      <td>ORLANDO</td>\n",
              "      <td>FL</td>\n",
              "      <td>0</td>\n",
              "      <td>240</td>\n",
              "      <td>14</td>\n",
              "      <td>1.0</td>\n",
              "      <td>7</td>\n",
              "      <td>7</td>\n",
              "      <td>1</td>\n",
              "      <td>0</td>\n",
              "      <td>N</td>\n",
              "      <td>1</td>\n",
              "      <td>229000.0</td>\n",
              "      <td>0</td>\n",
              "    </tr>\n",
              "  </tbody>\n",
              "</table>\n",
              "</div>"
            ],
            "text/plain": [
              "           City State   NAICS  Term  ...  LowDoc  MIS_Status    GrAppv  Sector_Points\n",
              "0    EVANSVILLE    IN  451120    84  ...       Y           1   60000.0              2\n",
              "1     NEW PARIS    IN  722410    60  ...       Y           1   40000.0              2\n",
              "2   BLOOMINGTON    IN  621210   180  ...       N           1  287000.0              5\n",
              "3  BROKEN ARROW    OK       0    60  ...       Y           1   35000.0              0\n",
              "4       ORLANDO    FL       0   240  ...       N           1  229000.0              0\n",
              "\n",
              "[5 rows x 14 columns]"
            ]
          },
          "metadata": {
            "tags": []
          },
          "execution_count": 124
        }
      ]
    },
    {
      "cell_type": "code",
      "metadata": {
        "id": "mlD1LbLppQ8j",
        "colab_type": "code",
        "colab": {}
      },
      "source": [
        "#Next, we will give points to each State.\n",
        "#I indicated only the highest and the lowest default rates in the library and assigned def rate = 18 (mean) to the states left\n",
        "#Function for the state scores \n",
        "def apply_score_state(i):\n",
        "    state_default = {'MT':8, 'ND': 8, 'WY':8, 'SD':8, 'VT':8, 'ME':10,'NH':10, 'NM':10, 'AK':10, 'WA':13,'AD':13, 'MN':13, \n",
        "                     'WI':13, 'IA':13,'NE':13, 'KS':13, 'MA':13,'CT':13,'RI':13,'PA':13, 'NV':23, 'IL':23, 'MI':23, 'KY':23,\n",
        "                     'GA':23, 'FL':28}\n",
        "    temp_defrate = None\n",
        "    average_def_rate = 18\n",
        "    if i in state_default:\n",
        "        temp_defrate = state_default[i]\n",
        "        return point_def(temp_defrate)\n",
        "    return point_def(average_def_rate)"
      ],
      "execution_count": 0,
      "outputs": []
    },
    {
      "cell_type": "code",
      "metadata": {
        "id": "YJQ2J_EiqVTx",
        "colab_type": "code",
        "colab": {}
      },
      "source": [
        "#Apply function and create new feature\n",
        "credit['State_Points'] = credit.State.apply(apply_score_state)"
      ],
      "execution_count": 0,
      "outputs": []
    },
    {
      "cell_type": "code",
      "metadata": {
        "id": "V2TNSFgyqYV9",
        "colab_type": "code",
        "colab": {
          "base_uri": "https://localhost:8080/",
          "height": 232
        },
        "outputId": "1f57c279-3025-4e66-ffed-b38c9366f699"
      },
      "source": [
        "credit.head(5)"
      ],
      "execution_count": 127,
      "outputs": [
        {
          "output_type": "execute_result",
          "data": {
            "text/html": [
              "<div>\n",
              "<style scoped>\n",
              "    .dataframe tbody tr th:only-of-type {\n",
              "        vertical-align: middle;\n",
              "    }\n",
              "\n",
              "    .dataframe tbody tr th {\n",
              "        vertical-align: top;\n",
              "    }\n",
              "\n",
              "    .dataframe thead th {\n",
              "        text-align: right;\n",
              "    }\n",
              "</style>\n",
              "<table border=\"1\" class=\"dataframe\">\n",
              "  <thead>\n",
              "    <tr style=\"text-align: right;\">\n",
              "      <th></th>\n",
              "      <th>City</th>\n",
              "      <th>State</th>\n",
              "      <th>NAICS</th>\n",
              "      <th>Term</th>\n",
              "      <th>NoEmp</th>\n",
              "      <th>NewExist</th>\n",
              "      <th>CreateJob</th>\n",
              "      <th>RetainedJob</th>\n",
              "      <th>FranchiseCode</th>\n",
              "      <th>UrbanRural</th>\n",
              "      <th>LowDoc</th>\n",
              "      <th>MIS_Status</th>\n",
              "      <th>GrAppv</th>\n",
              "      <th>Sector_Points</th>\n",
              "      <th>State_Points</th>\n",
              "    </tr>\n",
              "  </thead>\n",
              "  <tbody>\n",
              "    <tr>\n",
              "      <th>0</th>\n",
              "      <td>EVANSVILLE</td>\n",
              "      <td>IN</td>\n",
              "      <td>451120</td>\n",
              "      <td>84</td>\n",
              "      <td>4</td>\n",
              "      <td>2.0</td>\n",
              "      <td>0</td>\n",
              "      <td>0</td>\n",
              "      <td>1</td>\n",
              "      <td>0</td>\n",
              "      <td>Y</td>\n",
              "      <td>1</td>\n",
              "      <td>60000.0</td>\n",
              "      <td>2</td>\n",
              "      <td>3</td>\n",
              "    </tr>\n",
              "    <tr>\n",
              "      <th>1</th>\n",
              "      <td>NEW PARIS</td>\n",
              "      <td>IN</td>\n",
              "      <td>722410</td>\n",
              "      <td>60</td>\n",
              "      <td>2</td>\n",
              "      <td>2.0</td>\n",
              "      <td>0</td>\n",
              "      <td>0</td>\n",
              "      <td>1</td>\n",
              "      <td>0</td>\n",
              "      <td>Y</td>\n",
              "      <td>1</td>\n",
              "      <td>40000.0</td>\n",
              "      <td>2</td>\n",
              "      <td>3</td>\n",
              "    </tr>\n",
              "    <tr>\n",
              "      <th>2</th>\n",
              "      <td>BLOOMINGTON</td>\n",
              "      <td>IN</td>\n",
              "      <td>621210</td>\n",
              "      <td>180</td>\n",
              "      <td>7</td>\n",
              "      <td>1.0</td>\n",
              "      <td>0</td>\n",
              "      <td>0</td>\n",
              "      <td>1</td>\n",
              "      <td>0</td>\n",
              "      <td>N</td>\n",
              "      <td>1</td>\n",
              "      <td>287000.0</td>\n",
              "      <td>5</td>\n",
              "      <td>3</td>\n",
              "    </tr>\n",
              "    <tr>\n",
              "      <th>3</th>\n",
              "      <td>BROKEN ARROW</td>\n",
              "      <td>OK</td>\n",
              "      <td>0</td>\n",
              "      <td>60</td>\n",
              "      <td>2</td>\n",
              "      <td>1.0</td>\n",
              "      <td>0</td>\n",
              "      <td>0</td>\n",
              "      <td>1</td>\n",
              "      <td>0</td>\n",
              "      <td>Y</td>\n",
              "      <td>1</td>\n",
              "      <td>35000.0</td>\n",
              "      <td>0</td>\n",
              "      <td>3</td>\n",
              "    </tr>\n",
              "    <tr>\n",
              "      <th>4</th>\n",
              "      <td>ORLANDO</td>\n",
              "      <td>FL</td>\n",
              "      <td>0</td>\n",
              "      <td>240</td>\n",
              "      <td>14</td>\n",
              "      <td>1.0</td>\n",
              "      <td>7</td>\n",
              "      <td>7</td>\n",
              "      <td>1</td>\n",
              "      <td>0</td>\n",
              "      <td>N</td>\n",
              "      <td>1</td>\n",
              "      <td>229000.0</td>\n",
              "      <td>0</td>\n",
              "      <td>1</td>\n",
              "    </tr>\n",
              "  </tbody>\n",
              "</table>\n",
              "</div>"
            ],
            "text/plain": [
              "           City State   NAICS  ...    GrAppv  Sector_Points  State_Points\n",
              "0    EVANSVILLE    IN  451120  ...   60000.0              2             3\n",
              "1     NEW PARIS    IN  722410  ...   40000.0              2             3\n",
              "2   BLOOMINGTON    IN  621210  ...  287000.0              5             3\n",
              "3  BROKEN ARROW    OK       0  ...   35000.0              0             3\n",
              "4       ORLANDO    FL       0  ...  229000.0              0             1\n",
              "\n",
              "[5 rows x 15 columns]"
            ]
          },
          "metadata": {
            "tags": []
          },
          "execution_count": 127
        }
      ]
    },
    {
      "cell_type": "code",
      "metadata": {
        "id": "vwzj2kbZqayI",
        "colab_type": "code",
        "colab": {}
      },
      "source": [
        "#I think on this stage we can drop columns:\"City\",\"State\" and \"NAICS\"\n",
        "#Because when I dummify these columns, especially State, 50 more features will be created.\n",
        "credit = credit.drop(axis =1, columns = ['City', 'State', 'NAICS'])"
      ],
      "execution_count": 0,
      "outputs": []
    },
    {
      "cell_type": "code",
      "metadata": {
        "id": "QB5v6k1yqfgl",
        "colab_type": "code",
        "colab": {
          "base_uri": "https://localhost:8080/",
          "height": 34
        },
        "outputId": "8597233a-57b1-4e4e-de21-da69814e7ed2"
      },
      "source": [
        "credit.shape"
      ],
      "execution_count": 129,
      "outputs": [
        {
          "output_type": "execute_result",
          "data": {
            "text/plain": [
              "(891838, 12)"
            ]
          },
          "metadata": {
            "tags": []
          },
          "execution_count": 129
        }
      ]
    },
    {
      "cell_type": "code",
      "metadata": {
        "id": "0nJLXK7AqnKz",
        "colab_type": "code",
        "colab": {
          "base_uri": "https://localhost:8080/",
          "height": 215
        },
        "outputId": "1be35590-57e0-4f72-dd4b-cd90e3d2f65e"
      },
      "source": [
        "credit.head(5)"
      ],
      "execution_count": 130,
      "outputs": [
        {
          "output_type": "execute_result",
          "data": {
            "text/html": [
              "<div>\n",
              "<style scoped>\n",
              "    .dataframe tbody tr th:only-of-type {\n",
              "        vertical-align: middle;\n",
              "    }\n",
              "\n",
              "    .dataframe tbody tr th {\n",
              "        vertical-align: top;\n",
              "    }\n",
              "\n",
              "    .dataframe thead th {\n",
              "        text-align: right;\n",
              "    }\n",
              "</style>\n",
              "<table border=\"1\" class=\"dataframe\">\n",
              "  <thead>\n",
              "    <tr style=\"text-align: right;\">\n",
              "      <th></th>\n",
              "      <th>Term</th>\n",
              "      <th>NoEmp</th>\n",
              "      <th>NewExist</th>\n",
              "      <th>CreateJob</th>\n",
              "      <th>RetainedJob</th>\n",
              "      <th>FranchiseCode</th>\n",
              "      <th>UrbanRural</th>\n",
              "      <th>LowDoc</th>\n",
              "      <th>MIS_Status</th>\n",
              "      <th>GrAppv</th>\n",
              "      <th>Sector_Points</th>\n",
              "      <th>State_Points</th>\n",
              "    </tr>\n",
              "  </thead>\n",
              "  <tbody>\n",
              "    <tr>\n",
              "      <th>0</th>\n",
              "      <td>84</td>\n",
              "      <td>4</td>\n",
              "      <td>2.0</td>\n",
              "      <td>0</td>\n",
              "      <td>0</td>\n",
              "      <td>1</td>\n",
              "      <td>0</td>\n",
              "      <td>Y</td>\n",
              "      <td>1</td>\n",
              "      <td>60000.0</td>\n",
              "      <td>2</td>\n",
              "      <td>3</td>\n",
              "    </tr>\n",
              "    <tr>\n",
              "      <th>1</th>\n",
              "      <td>60</td>\n",
              "      <td>2</td>\n",
              "      <td>2.0</td>\n",
              "      <td>0</td>\n",
              "      <td>0</td>\n",
              "      <td>1</td>\n",
              "      <td>0</td>\n",
              "      <td>Y</td>\n",
              "      <td>1</td>\n",
              "      <td>40000.0</td>\n",
              "      <td>2</td>\n",
              "      <td>3</td>\n",
              "    </tr>\n",
              "    <tr>\n",
              "      <th>2</th>\n",
              "      <td>180</td>\n",
              "      <td>7</td>\n",
              "      <td>1.0</td>\n",
              "      <td>0</td>\n",
              "      <td>0</td>\n",
              "      <td>1</td>\n",
              "      <td>0</td>\n",
              "      <td>N</td>\n",
              "      <td>1</td>\n",
              "      <td>287000.0</td>\n",
              "      <td>5</td>\n",
              "      <td>3</td>\n",
              "    </tr>\n",
              "    <tr>\n",
              "      <th>3</th>\n",
              "      <td>60</td>\n",
              "      <td>2</td>\n",
              "      <td>1.0</td>\n",
              "      <td>0</td>\n",
              "      <td>0</td>\n",
              "      <td>1</td>\n",
              "      <td>0</td>\n",
              "      <td>Y</td>\n",
              "      <td>1</td>\n",
              "      <td>35000.0</td>\n",
              "      <td>0</td>\n",
              "      <td>3</td>\n",
              "    </tr>\n",
              "    <tr>\n",
              "      <th>4</th>\n",
              "      <td>240</td>\n",
              "      <td>14</td>\n",
              "      <td>1.0</td>\n",
              "      <td>7</td>\n",
              "      <td>7</td>\n",
              "      <td>1</td>\n",
              "      <td>0</td>\n",
              "      <td>N</td>\n",
              "      <td>1</td>\n",
              "      <td>229000.0</td>\n",
              "      <td>0</td>\n",
              "      <td>1</td>\n",
              "    </tr>\n",
              "  </tbody>\n",
              "</table>\n",
              "</div>"
            ],
            "text/plain": [
              "   Term  NoEmp  NewExist  ...    GrAppv  Sector_Points  State_Points\n",
              "0    84      4       2.0  ...   60000.0              2             3\n",
              "1    60      2       2.0  ...   40000.0              2             3\n",
              "2   180      7       1.0  ...  287000.0              5             3\n",
              "3    60      2       1.0  ...   35000.0              0             3\n",
              "4   240     14       1.0  ...  229000.0              0             1\n",
              "\n",
              "[5 rows x 12 columns]"
            ]
          },
          "metadata": {
            "tags": []
          },
          "execution_count": 130
        }
      ]
    },
    {
      "cell_type": "code",
      "metadata": {
        "id": "kyBWzHHWqnui",
        "colab_type": "code",
        "colab": {}
      },
      "source": [
        "#Next, I want to change some Columns this way:\n",
        "#Term to Years 12 = 1 etc\n",
        "#CreateJob to IscreateJob (1,0)\n",
        "#Retained Job to IsRetainedJob (1,0)\n",
        "#FranchiseCode to IsFranchise (1,0)\n",
        "\n",
        "#For this I will create a simple function, which I can apply to several columns and create new features.\n",
        "def yes_no(i):\n",
        "    if i > 0:\n",
        "        return 1\n",
        "    return 0\n",
        "\n",
        "credit.Term = credit.Term//12\n",
        "credit['IscreateJob'] = credit.CreateJob.apply(yes_no)\n",
        "credit['IsRetained'] = credit.RetainedJob.apply(yes_no)\n",
        "credit['IsFranchise'] = credit.FranchiseCode.apply(yes_no)"
      ],
      "execution_count": 0,
      "outputs": []
    },
    {
      "cell_type": "code",
      "metadata": {
        "id": "NEHvzxX3rKib",
        "colab_type": "code",
        "colab": {
          "base_uri": "https://localhost:8080/",
          "height": 215
        },
        "outputId": "fa0caafa-000c-4b80-b4ad-a21ebf564211"
      },
      "source": [
        "credit.head(5)"
      ],
      "execution_count": 132,
      "outputs": [
        {
          "output_type": "execute_result",
          "data": {
            "text/html": [
              "<div>\n",
              "<style scoped>\n",
              "    .dataframe tbody tr th:only-of-type {\n",
              "        vertical-align: middle;\n",
              "    }\n",
              "\n",
              "    .dataframe tbody tr th {\n",
              "        vertical-align: top;\n",
              "    }\n",
              "\n",
              "    .dataframe thead th {\n",
              "        text-align: right;\n",
              "    }\n",
              "</style>\n",
              "<table border=\"1\" class=\"dataframe\">\n",
              "  <thead>\n",
              "    <tr style=\"text-align: right;\">\n",
              "      <th></th>\n",
              "      <th>Term</th>\n",
              "      <th>NoEmp</th>\n",
              "      <th>NewExist</th>\n",
              "      <th>CreateJob</th>\n",
              "      <th>RetainedJob</th>\n",
              "      <th>FranchiseCode</th>\n",
              "      <th>UrbanRural</th>\n",
              "      <th>LowDoc</th>\n",
              "      <th>MIS_Status</th>\n",
              "      <th>GrAppv</th>\n",
              "      <th>Sector_Points</th>\n",
              "      <th>State_Points</th>\n",
              "      <th>IscreateJob</th>\n",
              "      <th>IsRetained</th>\n",
              "      <th>IsFranchise</th>\n",
              "    </tr>\n",
              "  </thead>\n",
              "  <tbody>\n",
              "    <tr>\n",
              "      <th>0</th>\n",
              "      <td>7</td>\n",
              "      <td>4</td>\n",
              "      <td>2.0</td>\n",
              "      <td>0</td>\n",
              "      <td>0</td>\n",
              "      <td>1</td>\n",
              "      <td>0</td>\n",
              "      <td>Y</td>\n",
              "      <td>1</td>\n",
              "      <td>60000.0</td>\n",
              "      <td>2</td>\n",
              "      <td>3</td>\n",
              "      <td>0</td>\n",
              "      <td>0</td>\n",
              "      <td>1</td>\n",
              "    </tr>\n",
              "    <tr>\n",
              "      <th>1</th>\n",
              "      <td>5</td>\n",
              "      <td>2</td>\n",
              "      <td>2.0</td>\n",
              "      <td>0</td>\n",
              "      <td>0</td>\n",
              "      <td>1</td>\n",
              "      <td>0</td>\n",
              "      <td>Y</td>\n",
              "      <td>1</td>\n",
              "      <td>40000.0</td>\n",
              "      <td>2</td>\n",
              "      <td>3</td>\n",
              "      <td>0</td>\n",
              "      <td>0</td>\n",
              "      <td>1</td>\n",
              "    </tr>\n",
              "    <tr>\n",
              "      <th>2</th>\n",
              "      <td>15</td>\n",
              "      <td>7</td>\n",
              "      <td>1.0</td>\n",
              "      <td>0</td>\n",
              "      <td>0</td>\n",
              "      <td>1</td>\n",
              "      <td>0</td>\n",
              "      <td>N</td>\n",
              "      <td>1</td>\n",
              "      <td>287000.0</td>\n",
              "      <td>5</td>\n",
              "      <td>3</td>\n",
              "      <td>0</td>\n",
              "      <td>0</td>\n",
              "      <td>1</td>\n",
              "    </tr>\n",
              "    <tr>\n",
              "      <th>3</th>\n",
              "      <td>5</td>\n",
              "      <td>2</td>\n",
              "      <td>1.0</td>\n",
              "      <td>0</td>\n",
              "      <td>0</td>\n",
              "      <td>1</td>\n",
              "      <td>0</td>\n",
              "      <td>Y</td>\n",
              "      <td>1</td>\n",
              "      <td>35000.0</td>\n",
              "      <td>0</td>\n",
              "      <td>3</td>\n",
              "      <td>0</td>\n",
              "      <td>0</td>\n",
              "      <td>1</td>\n",
              "    </tr>\n",
              "    <tr>\n",
              "      <th>4</th>\n",
              "      <td>20</td>\n",
              "      <td>14</td>\n",
              "      <td>1.0</td>\n",
              "      <td>7</td>\n",
              "      <td>7</td>\n",
              "      <td>1</td>\n",
              "      <td>0</td>\n",
              "      <td>N</td>\n",
              "      <td>1</td>\n",
              "      <td>229000.0</td>\n",
              "      <td>0</td>\n",
              "      <td>1</td>\n",
              "      <td>1</td>\n",
              "      <td>1</td>\n",
              "      <td>1</td>\n",
              "    </tr>\n",
              "  </tbody>\n",
              "</table>\n",
              "</div>"
            ],
            "text/plain": [
              "   Term  NoEmp  NewExist  ...  IscreateJob  IsRetained  IsFranchise\n",
              "0     7      4       2.0  ...            0           0            1\n",
              "1     5      2       2.0  ...            0           0            1\n",
              "2    15      7       1.0  ...            0           0            1\n",
              "3     5      2       1.0  ...            0           0            1\n",
              "4    20     14       1.0  ...            1           1            1\n",
              "\n",
              "[5 rows x 15 columns]"
            ]
          },
          "metadata": {
            "tags": []
          },
          "execution_count": 132
        }
      ]
    },
    {
      "cell_type": "code",
      "metadata": {
        "id": "hkz-LWEWrN8n",
        "colab_type": "code",
        "colab": {}
      },
      "source": [
        "#I will recode LowDoc Yes and No to 1 and 0.\n",
        "def lowdoc(i):\n",
        "    if i == \"Y\":\n",
        "        return 1\n",
        "    return 0\n",
        "credit.LowDoc = credit.LowDoc.apply(lowdoc)"
      ],
      "execution_count": 0,
      "outputs": []
    },
    {
      "cell_type": "code",
      "metadata": {
        "id": "vjPG3zPPrYf0",
        "colab_type": "code",
        "colab": {
          "base_uri": "https://localhost:8080/",
          "height": 215
        },
        "outputId": "15d1c7ef-5526-457e-9f2b-36bd68fcf25d"
      },
      "source": [
        "credit.head(5)"
      ],
      "execution_count": 134,
      "outputs": [
        {
          "output_type": "execute_result",
          "data": {
            "text/html": [
              "<div>\n",
              "<style scoped>\n",
              "    .dataframe tbody tr th:only-of-type {\n",
              "        vertical-align: middle;\n",
              "    }\n",
              "\n",
              "    .dataframe tbody tr th {\n",
              "        vertical-align: top;\n",
              "    }\n",
              "\n",
              "    .dataframe thead th {\n",
              "        text-align: right;\n",
              "    }\n",
              "</style>\n",
              "<table border=\"1\" class=\"dataframe\">\n",
              "  <thead>\n",
              "    <tr style=\"text-align: right;\">\n",
              "      <th></th>\n",
              "      <th>Term</th>\n",
              "      <th>NoEmp</th>\n",
              "      <th>NewExist</th>\n",
              "      <th>CreateJob</th>\n",
              "      <th>RetainedJob</th>\n",
              "      <th>FranchiseCode</th>\n",
              "      <th>UrbanRural</th>\n",
              "      <th>LowDoc</th>\n",
              "      <th>MIS_Status</th>\n",
              "      <th>GrAppv</th>\n",
              "      <th>Sector_Points</th>\n",
              "      <th>State_Points</th>\n",
              "      <th>IscreateJob</th>\n",
              "      <th>IsRetained</th>\n",
              "      <th>IsFranchise</th>\n",
              "    </tr>\n",
              "  </thead>\n",
              "  <tbody>\n",
              "    <tr>\n",
              "      <th>0</th>\n",
              "      <td>7</td>\n",
              "      <td>4</td>\n",
              "      <td>2.0</td>\n",
              "      <td>0</td>\n",
              "      <td>0</td>\n",
              "      <td>1</td>\n",
              "      <td>0</td>\n",
              "      <td>1</td>\n",
              "      <td>1</td>\n",
              "      <td>60000.0</td>\n",
              "      <td>2</td>\n",
              "      <td>3</td>\n",
              "      <td>0</td>\n",
              "      <td>0</td>\n",
              "      <td>1</td>\n",
              "    </tr>\n",
              "    <tr>\n",
              "      <th>1</th>\n",
              "      <td>5</td>\n",
              "      <td>2</td>\n",
              "      <td>2.0</td>\n",
              "      <td>0</td>\n",
              "      <td>0</td>\n",
              "      <td>1</td>\n",
              "      <td>0</td>\n",
              "      <td>1</td>\n",
              "      <td>1</td>\n",
              "      <td>40000.0</td>\n",
              "      <td>2</td>\n",
              "      <td>3</td>\n",
              "      <td>0</td>\n",
              "      <td>0</td>\n",
              "      <td>1</td>\n",
              "    </tr>\n",
              "    <tr>\n",
              "      <th>2</th>\n",
              "      <td>15</td>\n",
              "      <td>7</td>\n",
              "      <td>1.0</td>\n",
              "      <td>0</td>\n",
              "      <td>0</td>\n",
              "      <td>1</td>\n",
              "      <td>0</td>\n",
              "      <td>0</td>\n",
              "      <td>1</td>\n",
              "      <td>287000.0</td>\n",
              "      <td>5</td>\n",
              "      <td>3</td>\n",
              "      <td>0</td>\n",
              "      <td>0</td>\n",
              "      <td>1</td>\n",
              "    </tr>\n",
              "    <tr>\n",
              "      <th>3</th>\n",
              "      <td>5</td>\n",
              "      <td>2</td>\n",
              "      <td>1.0</td>\n",
              "      <td>0</td>\n",
              "      <td>0</td>\n",
              "      <td>1</td>\n",
              "      <td>0</td>\n",
              "      <td>1</td>\n",
              "      <td>1</td>\n",
              "      <td>35000.0</td>\n",
              "      <td>0</td>\n",
              "      <td>3</td>\n",
              "      <td>0</td>\n",
              "      <td>0</td>\n",
              "      <td>1</td>\n",
              "    </tr>\n",
              "    <tr>\n",
              "      <th>4</th>\n",
              "      <td>20</td>\n",
              "      <td>14</td>\n",
              "      <td>1.0</td>\n",
              "      <td>7</td>\n",
              "      <td>7</td>\n",
              "      <td>1</td>\n",
              "      <td>0</td>\n",
              "      <td>0</td>\n",
              "      <td>1</td>\n",
              "      <td>229000.0</td>\n",
              "      <td>0</td>\n",
              "      <td>1</td>\n",
              "      <td>1</td>\n",
              "      <td>1</td>\n",
              "      <td>1</td>\n",
              "    </tr>\n",
              "  </tbody>\n",
              "</table>\n",
              "</div>"
            ],
            "text/plain": [
              "   Term  NoEmp  NewExist  ...  IscreateJob  IsRetained  IsFranchise\n",
              "0     7      4       2.0  ...            0           0            1\n",
              "1     5      2       2.0  ...            0           0            1\n",
              "2    15      7       1.0  ...            0           0            1\n",
              "3     5      2       1.0  ...            0           0            1\n",
              "4    20     14       1.0  ...            1           1            1\n",
              "\n",
              "[5 rows x 15 columns]"
            ]
          },
          "metadata": {
            "tags": []
          },
          "execution_count": 134
        }
      ]
    },
    {
      "cell_type": "code",
      "metadata": {
        "id": "FELzVzy3rY32",
        "colab_type": "code",
        "colab": {
          "base_uri": "https://localhost:8080/",
          "height": 34
        },
        "outputId": "6f4cc7fe-6ed1-4d50-f0c7-85872757801a"
      },
      "source": [
        "#This column is totally OK :)\n",
        "Counter(credit.UrbanRural).keys() #1 = Urban, 2 =Rural, 0 = Undefined\n"
      ],
      "execution_count": 135,
      "outputs": [
        {
          "output_type": "execute_result",
          "data": {
            "text/plain": [
              "dict_keys([0, 1, 2])"
            ]
          },
          "metadata": {
            "tags": []
          },
          "execution_count": 135
        }
      ]
    },
    {
      "cell_type": "code",
      "metadata": {
        "id": "-_UZWGvPrgyz",
        "colab_type": "code",
        "colab": {
          "base_uri": "https://localhost:8080/",
          "height": 34
        },
        "outputId": "ff4731db-3c3f-4c3a-e0e4-d146d926a4d1"
      },
      "source": [
        "Counter(credit.UrbanRural).values() #1 = Urban, 2 =Rural, 0 = Undefined"
      ],
      "execution_count": 136,
      "outputs": [
        {
          "output_type": "execute_result",
          "data": {
            "text/plain": [
              "dict_values([320543, 466879, 104416])"
            ]
          },
          "metadata": {
            "tags": []
          },
          "execution_count": 136
        }
      ]
    },
    {
      "cell_type": "code",
      "metadata": {
        "id": "PalpGQyUrhPa",
        "colab_type": "code",
        "colab": {}
      },
      "source": [
        "#Since we don't need FrancshiseCode column I will drop it\n",
        "credit = credit.drop(axis =1, columns = ['FranchiseCode'])"
      ],
      "execution_count": 0,
      "outputs": []
    },
    {
      "cell_type": "code",
      "metadata": {
        "id": "SC7uAmevrnxC",
        "colab_type": "code",
        "colab": {
          "base_uri": "https://localhost:8080/",
          "height": 215
        },
        "outputId": "85648b73-42a0-4064-c92a-11fce31897b4"
      },
      "source": [
        "#Let's check our dataframe\n",
        "credit.head(5)"
      ],
      "execution_count": 138,
      "outputs": [
        {
          "output_type": "execute_result",
          "data": {
            "text/html": [
              "<div>\n",
              "<style scoped>\n",
              "    .dataframe tbody tr th:only-of-type {\n",
              "        vertical-align: middle;\n",
              "    }\n",
              "\n",
              "    .dataframe tbody tr th {\n",
              "        vertical-align: top;\n",
              "    }\n",
              "\n",
              "    .dataframe thead th {\n",
              "        text-align: right;\n",
              "    }\n",
              "</style>\n",
              "<table border=\"1\" class=\"dataframe\">\n",
              "  <thead>\n",
              "    <tr style=\"text-align: right;\">\n",
              "      <th></th>\n",
              "      <th>Term</th>\n",
              "      <th>NoEmp</th>\n",
              "      <th>NewExist</th>\n",
              "      <th>CreateJob</th>\n",
              "      <th>RetainedJob</th>\n",
              "      <th>UrbanRural</th>\n",
              "      <th>LowDoc</th>\n",
              "      <th>MIS_Status</th>\n",
              "      <th>GrAppv</th>\n",
              "      <th>Sector_Points</th>\n",
              "      <th>State_Points</th>\n",
              "      <th>IscreateJob</th>\n",
              "      <th>IsRetained</th>\n",
              "      <th>IsFranchise</th>\n",
              "    </tr>\n",
              "  </thead>\n",
              "  <tbody>\n",
              "    <tr>\n",
              "      <th>0</th>\n",
              "      <td>7</td>\n",
              "      <td>4</td>\n",
              "      <td>2.0</td>\n",
              "      <td>0</td>\n",
              "      <td>0</td>\n",
              "      <td>0</td>\n",
              "      <td>1</td>\n",
              "      <td>1</td>\n",
              "      <td>60000.0</td>\n",
              "      <td>2</td>\n",
              "      <td>3</td>\n",
              "      <td>0</td>\n",
              "      <td>0</td>\n",
              "      <td>1</td>\n",
              "    </tr>\n",
              "    <tr>\n",
              "      <th>1</th>\n",
              "      <td>5</td>\n",
              "      <td>2</td>\n",
              "      <td>2.0</td>\n",
              "      <td>0</td>\n",
              "      <td>0</td>\n",
              "      <td>0</td>\n",
              "      <td>1</td>\n",
              "      <td>1</td>\n",
              "      <td>40000.0</td>\n",
              "      <td>2</td>\n",
              "      <td>3</td>\n",
              "      <td>0</td>\n",
              "      <td>0</td>\n",
              "      <td>1</td>\n",
              "    </tr>\n",
              "    <tr>\n",
              "      <th>2</th>\n",
              "      <td>15</td>\n",
              "      <td>7</td>\n",
              "      <td>1.0</td>\n",
              "      <td>0</td>\n",
              "      <td>0</td>\n",
              "      <td>0</td>\n",
              "      <td>0</td>\n",
              "      <td>1</td>\n",
              "      <td>287000.0</td>\n",
              "      <td>5</td>\n",
              "      <td>3</td>\n",
              "      <td>0</td>\n",
              "      <td>0</td>\n",
              "      <td>1</td>\n",
              "    </tr>\n",
              "    <tr>\n",
              "      <th>3</th>\n",
              "      <td>5</td>\n",
              "      <td>2</td>\n",
              "      <td>1.0</td>\n",
              "      <td>0</td>\n",
              "      <td>0</td>\n",
              "      <td>0</td>\n",
              "      <td>1</td>\n",
              "      <td>1</td>\n",
              "      <td>35000.0</td>\n",
              "      <td>0</td>\n",
              "      <td>3</td>\n",
              "      <td>0</td>\n",
              "      <td>0</td>\n",
              "      <td>1</td>\n",
              "    </tr>\n",
              "    <tr>\n",
              "      <th>4</th>\n",
              "      <td>20</td>\n",
              "      <td>14</td>\n",
              "      <td>1.0</td>\n",
              "      <td>7</td>\n",
              "      <td>7</td>\n",
              "      <td>0</td>\n",
              "      <td>0</td>\n",
              "      <td>1</td>\n",
              "      <td>229000.0</td>\n",
              "      <td>0</td>\n",
              "      <td>1</td>\n",
              "      <td>1</td>\n",
              "      <td>1</td>\n",
              "      <td>1</td>\n",
              "    </tr>\n",
              "  </tbody>\n",
              "</table>\n",
              "</div>"
            ],
            "text/plain": [
              "   Term  NoEmp  NewExist  ...  IscreateJob  IsRetained  IsFranchise\n",
              "0     7      4       2.0  ...            0           0            1\n",
              "1     5      2       2.0  ...            0           0            1\n",
              "2    15      7       1.0  ...            0           0            1\n",
              "3     5      2       1.0  ...            0           0            1\n",
              "4    20     14       1.0  ...            1           1            1\n",
              "\n",
              "[5 rows x 14 columns]"
            ]
          },
          "metadata": {
            "tags": []
          },
          "execution_count": 138
        }
      ]
    },
    {
      "cell_type": "code",
      "metadata": {
        "id": "fN08m8wwrqGP",
        "colab_type": "code",
        "colab": {
          "base_uri": "https://localhost:8080/",
          "height": 34
        },
        "outputId": "ca45ff06-03c5-49a5-c3e5-f9e935797beb"
      },
      "source": [
        "credit.shape"
      ],
      "execution_count": 139,
      "outputs": [
        {
          "output_type": "execute_result",
          "data": {
            "text/plain": [
              "(891838, 14)"
            ]
          },
          "metadata": {
            "tags": []
          },
          "execution_count": 139
        }
      ]
    },
    {
      "cell_type": "code",
      "metadata": {
        "id": "AmplT4FbrvYZ",
        "colab_type": "code",
        "colab": {
          "base_uri": "https://localhost:8080/",
          "height": 513
        },
        "outputId": "f1b964c9-cac9-4de8-f3d6-123b55f786b3"
      },
      "source": [
        "#As we can see, there is skewness.\n",
        "plt.figure(figsize=(15, 8))\n",
        "sns.distplot(credit.GrAppv, color=\"g\", kde=False)\n",
        "plt.ylabel('Density')\n",
        "plt.title('Distribution of Approved ammount')\n",
        "plt.show()"
      ],
      "execution_count": 140,
      "outputs": [
        {
          "output_type": "display_data",
          "data": {
            "image/png": "[encoded data removed]",
            "text/plain": [
              "<Figure size 1080x576 with 1 Axes>"
            ]
          },
          "metadata": {
            "tags": [],
            "needs_background": "light"
          }
        }
      ]
    },
    {
      "cell_type": "code",
      "metadata": {
        "id": "nrUQyk6ir3u9",
        "colab_type": "code",
        "colab": {}
      },
      "source": [
        "#Fix skewness of GrAppv using log\n",
        "credit['GrAppv'] = np.log(credit['GrAppv']) "
      ],
      "execution_count": 0,
      "outputs": []
    },
    {
      "cell_type": "code",
      "metadata": {
        "id": "EonNCCvAsWl1",
        "colab_type": "code",
        "colab": {
          "base_uri": "https://localhost:8080/",
          "height": 513
        },
        "outputId": "773eafb4-689b-4209-b567-e7fe4b078372"
      },
      "source": [
        "#As we can see, there is skewness.\n",
        "plt.figure(figsize=(15, 8))\n",
        "sns.distplot(credit.GrAppv, color=\"g\", kde=False)\n",
        "plt.ylabel('Density')\n",
        "plt.title('Distribution of Approved ammount')\n",
        "plt.show()"
      ],
      "execution_count": 142,
      "outputs": [
        {
          "output_type": "display_data",
          "data": {
            "image/png": "[encoded data removed]",
            "text/plain": [
              "<Figure size 1080x576 with 1 Axes>"
            ]
          },
          "metadata": {
            "tags": [],
            "needs_background": "light"
          }
        }
      ]
    },
    {
      "cell_type": "code",
      "metadata": {
        "id": "59UWyGqRsbkL",
        "colab_type": "code",
        "colab": {}
      },
      "source": [
        "#Split data into train and test sets + label target value\n",
        "from sklearn.model_selection import train_test_split\n",
        "y = credit.MIS_Status\n",
        "X = credit.drop(['MIS_Status'], axis=1)\n",
        "train_X, test_X, train_y, test_y = train_test_split(X, y, test_size=0.25, random_state=0)"
      ],
      "execution_count": 0,
      "outputs": []
    },
    {
      "cell_type": "code",
      "metadata": {
        "id": "j0R_rUoBTRrE",
        "colab_type": "code",
        "colab": {}
      },
      "source": [
        "#We will apply Simple Imputer and Standart Scaler from sklearn package\n",
        "from sklearn.impute import SimpleImputer \n",
        "my_imputer = SimpleImputer()\n",
        "train_X = my_imputer.fit_transform(train_X)\n",
        "test_X = my_imputer.transform(test_X)\n",
        "\n"
      ],
      "execution_count": 0,
      "outputs": []
    },
    {
      "cell_type": "code",
      "metadata": {
        "id": "KNwmGxfjTfZq",
        "colab_type": "code",
        "colab": {
          "base_uri": "https://localhost:8080/",
          "height": 134
        },
        "outputId": "0fe9bb63-8bdc-46ba-8fcb-6b4d76f2f7d0"
      },
      "source": [
        "train_X"
      ],
      "execution_count": 145,
      "outputs": [
        {
          "output_type": "execute_result",
          "data": {
            "text/plain": [
              "array([[20., 52.,  1., ...,  1.,  1.,  0.],\n",
              "       [ 7.,  2.,  2., ...,  1.,  1.,  0.],\n",
              "       [ 2., 11.,  1., ...,  0.,  1.,  1.],\n",
              "       ...,\n",
              "       [ 4.,  2.,  1., ...,  1.,  1.,  0.],\n",
              "       [20., 83.,  1., ...,  0.,  0.,  1.],\n",
              "       [ 7.,  1.,  2., ...,  0.,  1.,  0.]])"
            ]
          },
          "metadata": {
            "tags": []
          },
          "execution_count": 145
        }
      ]
    },
    {
      "cell_type": "code",
      "metadata": {
        "id": "8nd6QjdaThd7",
        "colab_type": "code",
        "colab": {
          "base_uri": "https://localhost:8080/",
          "height": 134
        },
        "outputId": "433ee7ee-be87-486d-a1f3-3efd8f4715bf"
      },
      "source": [
        "test_X"
      ],
      "execution_count": 146,
      "outputs": [
        {
          "output_type": "execute_result",
          "data": {
            "text/plain": [
              "array([[ 5.,  2.,  2., ...,  0.,  1.,  0.],\n",
              "       [ 5.,  3.,  2., ...,  0.,  0.,  1.],\n",
              "       [ 7.,  5.,  1., ...,  0.,  1.,  1.],\n",
              "       ...,\n",
              "       [ 7., 10.,  1., ...,  0.,  1.,  1.],\n",
              "       [ 7.,  2.,  1., ...,  0.,  1.,  1.],\n",
              "       [25., 18.,  1., ...,  0.,  0.,  1.]])"
            ]
          },
          "metadata": {
            "tags": []
          },
          "execution_count": 146
        }
      ]
    },
    {
      "cell_type": "code",
      "metadata": {
        "id": "a3oeUNyPTSF5",
        "colab_type": "code",
        "colab": {}
      },
      "source": [
        "#Scaling features with Standart Scaler\n",
        "from sklearn.preprocessing import StandardScaler\n",
        "scaler = StandardScaler()\n",
        "train_sc =scaler.fit_transform(train_X)\n",
        "test_sc = scaler.transform(test_X)"
      ],
      "execution_count": 0,
      "outputs": []
    },
    {
      "cell_type": "code",
      "metadata": {
        "id": "dVOamtlFTifs",
        "colab_type": "code",
        "colab": {
          "base_uri": "https://localhost:8080/",
          "height": 235
        },
        "outputId": "7ecf78ae-2d3d-4d78-b010-11994743e60a"
      },
      "source": [
        "train_sc"
      ],
      "execution_count": 148,
      "outputs": [
        {
          "output_type": "execute_result",
          "data": {
            "text/plain": [
              "array([[ 1.64486725,  0.54081168, -0.62575852, ...,  1.52820192,\n",
              "         0.98088174, -1.82500764],\n",
              "       [-0.31581623, -0.12536113,  1.59806055, ...,  1.52820192,\n",
              "         0.98088174, -1.82500764],\n",
              "       [-1.06992526, -0.00545003, -0.62575852, ..., -0.65436379,\n",
              "         0.98088174,  0.54794291],\n",
              "       ...,\n",
              "       [-0.76828165, -0.12536113, -0.62575852, ...,  1.52820192,\n",
              "         0.98088174, -1.82500764],\n",
              "       [ 1.64486725,  0.95383882, -0.62575852, ..., -0.65436379,\n",
              "        -1.01949089,  0.54794291],\n",
              "       [-0.31581623, -0.13868459,  1.59806055, ..., -0.65436379,\n",
              "         0.98088174, -1.82500764]])"
            ]
          },
          "metadata": {
            "tags": []
          },
          "execution_count": 148
        }
      ]
    },
    {
      "cell_type": "code",
      "metadata": {
        "id": "5Gh-Z2CsTibh",
        "colab_type": "code",
        "colab": {
          "base_uri": "https://localhost:8080/",
          "height": 235
        },
        "outputId": "062efaff-cbd6-401a-b83f-a8d6882a2020"
      },
      "source": [
        "test_sc"
      ],
      "execution_count": 149,
      "outputs": [
        {
          "output_type": "execute_result",
          "data": {
            "text/plain": [
              "array([[-0.61745984, -0.12536113,  1.59806055, ..., -0.65436379,\n",
              "         0.98088174, -1.82500764],\n",
              "       [-0.61745984, -0.11203768,  1.59806055, ..., -0.65436379,\n",
              "        -1.01949089,  0.54794291],\n",
              "       [-0.31581623, -0.08539077, -0.62575852, ..., -0.65436379,\n",
              "         0.98088174,  0.54794291],\n",
              "       ...,\n",
              "       [-0.31581623, -0.01877348, -0.62575852, ..., -0.65436379,\n",
              "         0.98088174,  0.54794291],\n",
              "       [-0.31581623, -0.12536113, -0.62575852, ..., -0.65436379,\n",
              "         0.98088174,  0.54794291],\n",
              "       [ 2.39897628,  0.08781417, -0.62575852, ..., -0.65436379,\n",
              "        -1.01949089,  0.54794291]])"
            ]
          },
          "metadata": {
            "tags": []
          },
          "execution_count": 149
        }
      ]
    },
    {
      "cell_type": "code",
      "metadata": {
        "id": "UiVPVBUvTiXe",
        "colab_type": "code",
        "colab": {}
      },
      "source": [
        "#We will train xgboost without any tunning and check results.\n",
        "import xgboost as xgb\n",
        "os.environ['KMP_DUPLICATE_LIB_OK']='True'\n",
        "#Train the XGboost Model for Classification\n",
        "#Model with default parameters\n",
        "model = xgb.XGBClassifier()\n",
        "train_model = model.fit(train_sc, train_y)"
      ],
      "execution_count": 0,
      "outputs": []
    },
    {
      "cell_type": "code",
      "metadata": {
        "id": "My-Tnr_LUBUI",
        "colab_type": "code",
        "colab": {
          "base_uri": "https://localhost:8080/",
          "height": 134
        },
        "outputId": "3d3dbac3-4cf3-4b1b-c8f1-cdcd086feaa6"
      },
      "source": [
        "model"
      ],
      "execution_count": 151,
      "outputs": [
        {
          "output_type": "execute_result",
          "data": {
            "text/plain": [
              "XGBClassifier(base_score=0.5, booster='gbtree', colsample_bylevel=1,\n",
              "              colsample_bynode=1, colsample_bytree=1, gamma=0,\n",
              "              learning_rate=0.1, max_delta_step=0, max_depth=3,\n",
              "              min_child_weight=1, missing=None, n_estimators=100, n_jobs=1,\n",
              "              nthread=None, objective='binary:logistic', random_state=0,\n",
              "              reg_alpha=0, reg_lambda=1, scale_pos_weight=1, seed=None,\n",
              "              silent=None, subsample=1, verbosity=1)"
            ]
          },
          "metadata": {
            "tags": []
          },
          "execution_count": 151
        }
      ]
    },
    {
      "cell_type": "code",
      "metadata": {
        "id": "IHTaYfkhUBnH",
        "colab_type": "code",
        "colab": {
          "base_uri": "https://localhost:8080/",
          "height": 134
        },
        "outputId": "fb3ce2f0-16bd-41db-d23e-50c12b447015"
      },
      "source": [
        "train_model"
      ],
      "execution_count": 152,
      "outputs": [
        {
          "output_type": "execute_result",
          "data": {
            "text/plain": [
              "XGBClassifier(base_score=0.5, booster='gbtree', colsample_bylevel=1,\n",
              "              colsample_bynode=1, colsample_bytree=1, gamma=0,\n",
              "              learning_rate=0.1, max_delta_step=0, max_depth=3,\n",
              "              min_child_weight=1, missing=None, n_estimators=100, n_jobs=1,\n",
              "              nthread=None, objective='binary:logistic', random_state=0,\n",
              "              reg_alpha=0, reg_lambda=1, scale_pos_weight=1, seed=None,\n",
              "              silent=None, subsample=1, verbosity=1)"
            ]
          },
          "metadata": {
            "tags": []
          },
          "execution_count": 152
        }
      ]
    },
    {
      "cell_type": "code",
      "metadata": {
        "id": "TI8cbOgETiUA",
        "colab_type": "code",
        "colab": {
          "base_uri": "https://localhost:8080/",
          "height": 87
        },
        "outputId": "d5cdf93f-0b93-48ef-b0d3-00354d8c7990"
      },
      "source": [
        "#Prediction\n",
        "from sklearn.metrics import classification_report\n",
        "pred = train_model.predict(test_X)\n",
        "print('Model XGboost Report %r' % (classification_report(test_y, pred)))"
      ],
      "execution_count": 153,
      "outputs": [
        {
          "output_type": "stream",
          "text": [
            "/usr/local/lib/python3.6/dist-packages/sklearn/metrics/_classification.py:1272: UndefinedMetricWarning: Precision and F-score are ill-defined and being set to 0.0 in labels with no predicted samples. Use `zero_division` parameter to control this behavior.\n",
            "  _warn_prf(average, modifier, msg_start, len(result))\n"
          ],
          "name": "stderr"
        },
        {
          "output_type": "stream",
          "text": [
            "Model XGboost Report '              precision    recall  f1-score   support\\n\\n           0       0.00      0.00      0.00     38823\\n           1       0.83      1.00      0.90    184137\\n\\n    accuracy                           0.83    222960\\n   macro avg       0.41      0.50      0.45    222960\\nweighted avg       0.68      0.83      0.75    222960\\n'\n"
          ],
          "name": "stdout"
        }
      ]
    },
    {
      "cell_type": "code",
      "metadata": {
        "id": "NHz4rAdwUE-Y",
        "colab_type": "code",
        "colab": {
          "base_uri": "https://localhost:8080/",
          "height": 34
        },
        "outputId": "61fa5498-5728-4ce2-f8de-a141d1978b56"
      },
      "source": [
        "pred"
      ],
      "execution_count": 154,
      "outputs": [
        {
          "output_type": "execute_result",
          "data": {
            "text/plain": [
              "array([1, 1, 1, ..., 1, 1, 1])"
            ]
          },
          "metadata": {
            "tags": []
          },
          "execution_count": 154
        }
      ]
    },
    {
      "cell_type": "code",
      "metadata": {
        "id": "iZvMLS-qUE7O",
        "colab_type": "code",
        "colab": {
          "base_uri": "https://localhost:8080/",
          "height": 34
        },
        "outputId": "3a7c9161-8310-4827-e555-bb833b619e1a"
      },
      "source": [
        "#Let's use accuracy score\n",
        "from sklearn.metrics import accuracy_score\n",
        "print(\"Accuracy for model: %.2f\" % (accuracy_score(test_y, pred) * 100))"
      ],
      "execution_count": 155,
      "outputs": [
        {
          "output_type": "stream",
          "text": [
            "Accuracy for model: 82.59\n"
          ],
          "name": "stdout"
        }
      ]
    },
    {
      "cell_type": "code",
      "metadata": {
        "id": "fkPWPd72Ub-8",
        "colab_type": "code",
        "colab": {}
      },
      "source": [
        ""
      ],
      "execution_count": 0,
      "outputs": []
    }
  ]
}